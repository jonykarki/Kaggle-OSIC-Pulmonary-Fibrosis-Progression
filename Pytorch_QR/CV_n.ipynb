{
 "metadata": {
  "language_info": {
   "codemirror_mode": {
    "name": "ipython",
    "version": 3
   },
   "file_extension": ".py",
   "mimetype": "text/x-python",
   "name": "python",
   "nbconvert_exporter": "python",
   "pygments_lexer": "ipython3",
   "version": "3.6.9-final"
  },
  "orig_nbformat": 2,
  "kernelspec": {
   "name": "python3",
   "display_name": "Python 3"
  }
 },
 "nbformat": 4,
 "nbformat_minor": 2,
 "cells": [
  {
   "cell_type": "code",
   "execution_count": 1,
   "metadata": {},
   "outputs": [],
   "source": [
    "import sys, os\n",
    "if os.path.abspath(os.pardir) not in sys.path:\n",
    "    sys.path.insert(0, os.path.abspath(os.pardir))\n",
    "import CONFIG\n",
    "%reload_ext autoreload\n",
    "%autoreload 2"
   ]
  },
  {
   "cell_type": "code",
   "execution_count": 9,
   "metadata": {},
   "outputs": [],
   "source": [
    "import numpy as np\n",
    "import pandas as pd\n",
    "import random\n",
    "import torch\n",
    "import torch.nn as nn\n",
    "import torch.nn.functional as F\n",
    "from sklearn import preprocessing\n",
    "from sklearn import model_selection\n",
    "from tqdm.autonotebook import tqdm"
   ]
  },
  {
   "cell_type": "code",
   "execution_count": 3,
   "metadata": {},
   "outputs": [],
   "source": [
    "DATA_DIR = CONFIG.CFG.DATA.BASE\n",
    "K_FOLDS = 5\n",
    "BATCH_SIZE = 32\n",
    "LEARNING_RATE = 3e-3\n",
    "NUM_EPOCHS = 1100\n",
    "# print loss every\n",
    "PRINT_EVERY = 50\n",
    "\n",
    "QUANTILES = [0.2, 0.5, 0.8]\n",
    "SCALE_COLUMNS = ['Weeks', 'FVC', 'Percent', 'Age'] #'Percent'\n",
    "SEX_COLUMNS = ['Male', 'Female']\n",
    "SMOKING_STATUS_COLUMNS = ['Currently smokes', 'Ex-smoker', 'Never smoked']\n",
    "FV = SEX_COLUMNS + SMOKING_STATUS_COLUMNS + SCALE_COLUMNS\n",
    "DEVICE = torch.device('cuda') if torch.cuda.is_available() else torch.device('cpu')"
   ]
  },
  {
   "cell_type": "code",
   "execution_count": 4,
   "metadata": {},
   "outputs": [],
   "source": [
    "def seed_everything(seed):\n",
    "    random.seed(seed)\n",
    "    os.environ['PYTHONHASHSEED'] = str(seed)\n",
    "    np.random.seed(seed)\n",
    "    torch.manual_seed(seed)\n",
    "    torch.cuda.manual_seed(seed)\n",
    "    torch.backends.cudnn.deterministic = True\n",
    "    torch.backends.cudnn.benchmark = True\n",
    "\n",
    "seed_everything(42)"
   ]
  },
  {
   "cell_type": "code",
   "execution_count": 138,
   "metadata": {},
   "outputs": [],
   "source": [
    "kf = model_selection.KFold(K_FOLDS)\n",
    "MIN_MAX_SCALER = preprocessing.MinMaxScaler()"
   ]
  },
  {
   "cell_type": "code",
   "execution_count": 139,
   "metadata": {},
   "outputs": [],
   "source": [
    "train_df = pd.read_csv(os.path.join(DATA_DIR, \"train.csv\"))\n",
    "test_df = pd.read_csv(os.path.join(DATA_DIR, \"test.csv\"))\n",
    "sub_df = pd.read_csv(os.path.join(DATA_DIR, \"sample_submission.csv\"))\n",
    "# remove the duplicates from the train_df\n",
    "train_df.drop_duplicates(keep=False, inplace=True, subset=['Patient', 'Weeks'])"
   ]
  },
  {
   "cell_type": "code",
   "execution_count": 140,
   "metadata": {},
   "outputs": [
    {
     "output_type": "execute_result",
     "data": {
      "text/html": "<div>\n<style scoped>\n    .dataframe tbody tr th:only-of-type {\n        vertical-align: middle;\n    }\n\n    .dataframe tbody tr th {\n        vertical-align: top;\n    }\n\n    .dataframe thead th {\n        text-align: right;\n    }\n</style>\n<table border=\"1\" class=\"dataframe\">\n  <thead>\n    <tr style=\"text-align: right;\">\n      <th></th>\n      <th>Patient_Week</th>\n      <th>FVC</th>\n      <th>Confidence</th>\n      <th>Patient</th>\n      <th>Weeks</th>\n    </tr>\n  </thead>\n  <tbody>\n    <tr>\n      <th>0</th>\n      <td>ID00419637202311204720264_-12</td>\n      <td>2000</td>\n      <td>100</td>\n      <td>ID00419637202311204720264</td>\n      <td>-12</td>\n    </tr>\n    <tr>\n      <th>1</th>\n      <td>ID00421637202311550012437_-12</td>\n      <td>2000</td>\n      <td>100</td>\n      <td>ID00421637202311550012437</td>\n      <td>-12</td>\n    </tr>\n    <tr>\n      <th>2</th>\n      <td>ID00422637202311677017371_-12</td>\n      <td>2000</td>\n      <td>100</td>\n      <td>ID00422637202311677017371</td>\n      <td>-12</td>\n    </tr>\n    <tr>\n      <th>3</th>\n      <td>ID00423637202312137826377_-12</td>\n      <td>2000</td>\n      <td>100</td>\n      <td>ID00423637202312137826377</td>\n      <td>-12</td>\n    </tr>\n    <tr>\n      <th>4</th>\n      <td>ID00426637202313170790466_-12</td>\n      <td>2000</td>\n      <td>100</td>\n      <td>ID00426637202313170790466</td>\n      <td>-12</td>\n    </tr>\n  </tbody>\n</table>\n</div>",
      "text/plain": "                    Patient_Week   FVC  ...                    Patient Weeks\n0  ID00419637202311204720264_-12  2000  ...  ID00419637202311204720264   -12\n1  ID00421637202311550012437_-12  2000  ...  ID00421637202311550012437   -12\n2  ID00422637202311677017371_-12  2000  ...  ID00422637202311677017371   -12\n3  ID00423637202312137826377_-12  2000  ...  ID00423637202312137826377   -12\n4  ID00426637202313170790466_-12  2000  ...  ID00426637202313170790466   -12\n\n[5 rows x 5 columns]"
     },
     "metadata": {},
     "execution_count": 140
    }
   ],
   "source": [
    "# extract the Patient and weeks from the Patient_Week column\n",
    "sub_df['Patient'] = sub_df['Patient_Week'].apply(lambda x: x.split('_')[0])\n",
    "sub_df['Weeks'] = sub_df['Patient_Week'].apply(lambda x: int(x.split('_')[-1]))\n",
    "sub_df.head()"
   ]
  },
  {
   "cell_type": "code",
   "execution_count": 141,
   "metadata": {},
   "outputs": [
    {
     "output_type": "execute_result",
     "data": {
      "text/html": "<div>\n<style scoped>\n    .dataframe tbody tr th:only-of-type {\n        vertical-align: middle;\n    }\n\n    .dataframe tbody tr th {\n        vertical-align: top;\n    }\n\n    .dataframe thead th {\n        text-align: right;\n    }\n</style>\n<table border=\"1\" class=\"dataframe\">\n  <thead>\n    <tr style=\"text-align: right;\">\n      <th></th>\n      <th>Patient_Week</th>\n      <th>Confidence</th>\n      <th>Patient</th>\n      <th>Weeks</th>\n      <th>FVC</th>\n      <th>Percent</th>\n      <th>Age</th>\n      <th>Sex</th>\n      <th>SmokingStatus</th>\n    </tr>\n  </thead>\n  <tbody>\n    <tr>\n      <th>0</th>\n      <td>ID00419637202311204720264_-12</td>\n      <td>100</td>\n      <td>ID00419637202311204720264</td>\n      <td>-12</td>\n      <td>3020</td>\n      <td>70.186855</td>\n      <td>73</td>\n      <td>Male</td>\n      <td>Ex-smoker</td>\n    </tr>\n    <tr>\n      <th>1</th>\n      <td>ID00419637202311204720264_-11</td>\n      <td>100</td>\n      <td>ID00419637202311204720264</td>\n      <td>-11</td>\n      <td>3020</td>\n      <td>70.186855</td>\n      <td>73</td>\n      <td>Male</td>\n      <td>Ex-smoker</td>\n    </tr>\n    <tr>\n      <th>2</th>\n      <td>ID00419637202311204720264_-10</td>\n      <td>100</td>\n      <td>ID00419637202311204720264</td>\n      <td>-10</td>\n      <td>3020</td>\n      <td>70.186855</td>\n      <td>73</td>\n      <td>Male</td>\n      <td>Ex-smoker</td>\n    </tr>\n    <tr>\n      <th>3</th>\n      <td>ID00419637202311204720264_-9</td>\n      <td>100</td>\n      <td>ID00419637202311204720264</td>\n      <td>-9</td>\n      <td>3020</td>\n      <td>70.186855</td>\n      <td>73</td>\n      <td>Male</td>\n      <td>Ex-smoker</td>\n    </tr>\n    <tr>\n      <th>4</th>\n      <td>ID00419637202311204720264_-8</td>\n      <td>100</td>\n      <td>ID00419637202311204720264</td>\n      <td>-8</td>\n      <td>3020</td>\n      <td>70.186855</td>\n      <td>73</td>\n      <td>Male</td>\n      <td>Ex-smoker</td>\n    </tr>\n  </tbody>\n</table>\n</div>",
      "text/plain": "                    Patient_Week  Confidence  ...   Sex  SmokingStatus\n0  ID00419637202311204720264_-12         100  ...  Male      Ex-smoker\n1  ID00419637202311204720264_-11         100  ...  Male      Ex-smoker\n2  ID00419637202311204720264_-10         100  ...  Male      Ex-smoker\n3   ID00419637202311204720264_-9         100  ...  Male      Ex-smoker\n4   ID00419637202311204720264_-8         100  ...  Male      Ex-smoker\n\n[5 rows x 9 columns]"
     },
     "metadata": {},
     "execution_count": 141
    }
   ],
   "source": [
    "# merge the sub_df with the test_df\n",
    "sub_df = sub_df.drop('FVC', axis=1).merge(test_df.drop('Weeks', axis=1), on='Patient')\n",
    "sub_df.head()"
   ]
  },
  {
   "cell_type": "code",
   "execution_count": 142,
   "metadata": {},
   "outputs": [],
   "source": [
    "train_df['FROM'] = 'train'\n",
    "test_df['FROM'] = 'val'\n",
    "sub_df['FROM'] = 'test'"
   ]
  },
  {
   "cell_type": "code",
   "execution_count": 143,
   "metadata": {},
   "outputs": [],
   "source": [
    "combined_df = train_df.append([test_df, sub_df])"
   ]
  },
  {
   "cell_type": "code",
   "execution_count": 144,
   "metadata": {},
   "outputs": [],
   "source": [
    "# initialize base_week column\n",
    "combined_df['Base_Week'] = combined_df['Weeks']\n",
    "# make the weeks from sub_df to be np.nan so that when we calculate the base_week it comes from the test_df\n",
    "combined_df.loc[combined_df['FROM'] == 'test', 'Base_Week'] = np.nan\n",
    "# now calculate the min for each patient group and set it to the Base_Week column\n",
    "combined_df['Base_Week'] = combined_df.groupby('Patient')['Base_Week'].transform('min')"
   ]
  },
  {
   "cell_type": "code",
   "execution_count": 145,
   "metadata": {},
   "outputs": [],
   "source": [
    "# get the base_df (where the Base_Week == the min_week we calculated) so that we can get the base_fvc, base_age and base_percentage\n",
    "base_df = combined_df[combined_df['Weeks'] == combined_df['Base_Week']]"
   ]
  },
  {
   "cell_type": "code",
   "execution_count": 146,
   "metadata": {
    "tags": []
   },
   "outputs": [
    {
     "output_type": "stream",
     "name": "stderr",
     "text": "/usr/local/lib/python3.6/dist-packages/pandas/core/frame.py:4133: SettingWithCopyWarning: \nA value is trying to be set on a copy of a slice from a DataFrame\n\nSee the caveats in the documentation: https://pandas.pydata.org/pandas-docs/stable/user_guide/indexing.html#returning-a-view-versus-a-copy\n  errors=errors,\n"
    }
   ],
   "source": [
    "base_df.rename(columns={\n",
    "    'FVC': 'Base_FVC',\n",
    "    'Percent': 'Base_Percent',\n",
    "    'Age': 'Base_Age'\n",
    "}, inplace=True)"
   ]
  },
  {
   "cell_type": "code",
   "execution_count": 147,
   "metadata": {},
   "outputs": [],
   "source": [
    "combined_df = combined_df.merge(base_df[['Patient', 'Base_FVC', 'Base_Percent', 'Base_Age']], on='Patient', how='left')"
   ]
  },
  {
   "cell_type": "code",
   "execution_count": 148,
   "metadata": {},
   "outputs": [],
   "source": [
    "combined_df['Weeks_Passed'] = combined_df['Weeks'] - combined_df['Base_Week']"
   ]
  },
  {
   "cell_type": "code",
   "execution_count": 149,
   "metadata": {},
   "outputs": [
    {
     "output_type": "execute_result",
     "data": {
      "text/html": "<div>\n<style scoped>\n    .dataframe tbody tr th:only-of-type {\n        vertical-align: middle;\n    }\n\n    .dataframe tbody tr th {\n        vertical-align: top;\n    }\n\n    .dataframe thead th {\n        text-align: right;\n    }\n</style>\n<table border=\"1\" class=\"dataframe\">\n  <thead>\n    <tr style=\"text-align: right;\">\n      <th></th>\n      <th>Patient</th>\n      <th>Weeks</th>\n      <th>FVC</th>\n      <th>Percent</th>\n      <th>Age</th>\n      <th>Sex</th>\n      <th>SmokingStatus</th>\n      <th>FROM</th>\n      <th>Patient_Week</th>\n      <th>Confidence</th>\n      <th>Base_Week</th>\n      <th>Base_FVC</th>\n      <th>Base_Percent</th>\n      <th>Base_Age</th>\n      <th>Weeks_Passed</th>\n    </tr>\n  </thead>\n  <tbody>\n    <tr>\n      <th>0</th>\n      <td>ID00007637202177411956430</td>\n      <td>-4</td>\n      <td>2315</td>\n      <td>58.253649</td>\n      <td>79</td>\n      <td>Male</td>\n      <td>Ex-smoker</td>\n      <td>train</td>\n      <td>NaN</td>\n      <td>NaN</td>\n      <td>-4.0</td>\n      <td>2315</td>\n      <td>58.253649</td>\n      <td>79</td>\n      <td>0.0</td>\n    </tr>\n    <tr>\n      <th>1</th>\n      <td>ID00007637202177411956430</td>\n      <td>5</td>\n      <td>2214</td>\n      <td>55.712129</td>\n      <td>79</td>\n      <td>Male</td>\n      <td>Ex-smoker</td>\n      <td>train</td>\n      <td>NaN</td>\n      <td>NaN</td>\n      <td>-4.0</td>\n      <td>2315</td>\n      <td>58.253649</td>\n      <td>79</td>\n      <td>9.0</td>\n    </tr>\n    <tr>\n      <th>2</th>\n      <td>ID00007637202177411956430</td>\n      <td>7</td>\n      <td>2061</td>\n      <td>51.862104</td>\n      <td>79</td>\n      <td>Male</td>\n      <td>Ex-smoker</td>\n      <td>train</td>\n      <td>NaN</td>\n      <td>NaN</td>\n      <td>-4.0</td>\n      <td>2315</td>\n      <td>58.253649</td>\n      <td>79</td>\n      <td>11.0</td>\n    </tr>\n    <tr>\n      <th>3</th>\n      <td>ID00007637202177411956430</td>\n      <td>9</td>\n      <td>2144</td>\n      <td>53.950679</td>\n      <td>79</td>\n      <td>Male</td>\n      <td>Ex-smoker</td>\n      <td>train</td>\n      <td>NaN</td>\n      <td>NaN</td>\n      <td>-4.0</td>\n      <td>2315</td>\n      <td>58.253649</td>\n      <td>79</td>\n      <td>13.0</td>\n    </tr>\n    <tr>\n      <th>4</th>\n      <td>ID00007637202177411956430</td>\n      <td>11</td>\n      <td>2069</td>\n      <td>52.063412</td>\n      <td>79</td>\n      <td>Male</td>\n      <td>Ex-smoker</td>\n      <td>train</td>\n      <td>NaN</td>\n      <td>NaN</td>\n      <td>-4.0</td>\n      <td>2315</td>\n      <td>58.253649</td>\n      <td>79</td>\n      <td>15.0</td>\n    </tr>\n  </tbody>\n</table>\n</div>",
      "text/plain": "                     Patient  Weeks   FVC  ...  Base_Percent  Base_Age Weeks_Passed\n0  ID00007637202177411956430     -4  2315  ...     58.253649        79          0.0\n1  ID00007637202177411956430      5  2214  ...     58.253649        79          9.0\n2  ID00007637202177411956430      7  2061  ...     58.253649        79         11.0\n3  ID00007637202177411956430      9  2144  ...     58.253649        79         13.0\n4  ID00007637202177411956430     11  2069  ...     58.253649        79         15.0\n\n[5 rows x 15 columns]"
     },
     "metadata": {},
     "execution_count": 149
    }
   ],
   "source": [
    "combined_df.head()"
   ]
  },
  {
   "cell_type": "code",
   "execution_count": 150,
   "metadata": {},
   "outputs": [
    {
     "output_type": "execute_result",
     "data": {
      "text/plain": "MinMaxScaler(copy=True, feature_range=(0, 1))"
     },
     "metadata": {},
     "execution_count": 150
    }
   ],
   "source": [
    "MIN_MAX_SCALER.fit(combined_df[combined_df['FROM'] == 'train'][['Weeks_Passed', 'FVC', 'Percent', 'Age']])"
   ]
  },
  {
   "cell_type": "code",
   "execution_count": 151,
   "metadata": {},
   "outputs": [],
   "source": [
    "combined_df[['Weeks_Passed', 'Base_FVC', 'Base_Percent', 'Base_Age']] = MIN_MAX_SCALER.transform(combined_df[['Weeks_Passed', 'Base_FVC', 'Base_Percent', 'Base_Age']])"
   ]
  },
  {
   "cell_type": "code",
   "execution_count": 152,
   "metadata": {},
   "outputs": [
    {
     "output_type": "execute_result",
     "data": {
      "text/html": "<div>\n<style scoped>\n    .dataframe tbody tr th:only-of-type {\n        vertical-align: middle;\n    }\n\n    .dataframe tbody tr th {\n        vertical-align: top;\n    }\n\n    .dataframe thead th {\n        text-align: right;\n    }\n</style>\n<table border=\"1\" class=\"dataframe\">\n  <thead>\n    <tr style=\"text-align: right;\">\n      <th></th>\n      <th>Patient</th>\n      <th>Weeks</th>\n      <th>FVC</th>\n      <th>Percent</th>\n      <th>Age</th>\n      <th>Sex</th>\n      <th>SmokingStatus</th>\n      <th>FROM</th>\n      <th>Patient_Week</th>\n      <th>Confidence</th>\n      <th>Base_Week</th>\n      <th>Base_FVC</th>\n      <th>Base_Percent</th>\n      <th>Base_Age</th>\n      <th>Weeks_Passed</th>\n    </tr>\n  </thead>\n  <tbody>\n    <tr>\n      <th>3821</th>\n      <td>ID00426637202313170790466</td>\n      <td>132</td>\n      <td>2925</td>\n      <td>71.824968</td>\n      <td>73</td>\n      <td>Male</td>\n      <td>Never smoked</td>\n      <td>test</td>\n      <td>ID00426637202313170790466_132</td>\n      <td>100.0</td>\n      <td>0.0</td>\n      <td>0.376525</td>\n      <td>0.345604</td>\n      <td>0.615385</td>\n      <td>2.095238</td>\n    </tr>\n    <tr>\n      <th>3822</th>\n      <td>ID00426637202313170790466</td>\n      <td>132</td>\n      <td>2925</td>\n      <td>71.824968</td>\n      <td>73</td>\n      <td>Male</td>\n      <td>Never smoked</td>\n      <td>test</td>\n      <td>ID00426637202313170790466_132</td>\n      <td>100.0</td>\n      <td>0.0</td>\n      <td>0.376525</td>\n      <td>0.345604</td>\n      <td>0.615385</td>\n      <td>2.095238</td>\n    </tr>\n    <tr>\n      <th>3823</th>\n      <td>ID00426637202313170790466</td>\n      <td>133</td>\n      <td>2925</td>\n      <td>71.824968</td>\n      <td>73</td>\n      <td>Male</td>\n      <td>Never smoked</td>\n      <td>test</td>\n      <td>ID00426637202313170790466_133</td>\n      <td>100.0</td>\n      <td>0.0</td>\n      <td>0.376525</td>\n      <td>0.345604</td>\n      <td>0.615385</td>\n      <td>2.111111</td>\n    </tr>\n    <tr>\n      <th>3824</th>\n      <td>ID00426637202313170790466</td>\n      <td>133</td>\n      <td>2925</td>\n      <td>71.824968</td>\n      <td>73</td>\n      <td>Male</td>\n      <td>Never smoked</td>\n      <td>test</td>\n      <td>ID00426637202313170790466_133</td>\n      <td>100.0</td>\n      <td>0.0</td>\n      <td>0.376525</td>\n      <td>0.345604</td>\n      <td>0.615385</td>\n      <td>2.111111</td>\n    </tr>\n    <tr>\n      <th>3825</th>\n      <td>ID00426637202313170790466</td>\n      <td>133</td>\n      <td>2925</td>\n      <td>71.824968</td>\n      <td>73</td>\n      <td>Male</td>\n      <td>Never smoked</td>\n      <td>test</td>\n      <td>ID00426637202313170790466_133</td>\n      <td>100.0</td>\n      <td>0.0</td>\n      <td>0.376525</td>\n      <td>0.345604</td>\n      <td>0.615385</td>\n      <td>2.111111</td>\n    </tr>\n  </tbody>\n</table>\n</div>",
      "text/plain": "                        Patient  Weeks  ...  Base_Age  Weeks_Passed\n3821  ID00426637202313170790466    132  ...  0.615385      2.095238\n3822  ID00426637202313170790466    132  ...  0.615385      2.095238\n3823  ID00426637202313170790466    133  ...  0.615385      2.111111\n3824  ID00426637202313170790466    133  ...  0.615385      2.111111\n3825  ID00426637202313170790466    133  ...  0.615385      2.111111\n\n[5 rows x 15 columns]"
     },
     "metadata": {},
     "execution_count": 152
    }
   ],
   "source": [
    "combined_df.tail()"
   ]
  },
  {
   "cell_type": "code",
   "execution_count": 153,
   "metadata": {},
   "outputs": [
    {
     "output_type": "execute_result",
     "data": {
      "text/html": "<div>\n<style scoped>\n    .dataframe tbody tr th:only-of-type {\n        vertical-align: middle;\n    }\n\n    .dataframe tbody tr th {\n        vertical-align: top;\n    }\n\n    .dataframe thead th {\n        text-align: right;\n    }\n</style>\n<table border=\"1\" class=\"dataframe\">\n  <thead>\n    <tr style=\"text-align: right;\">\n      <th></th>\n      <th>Patient</th>\n      <th>Weeks</th>\n      <th>FVC</th>\n      <th>Percent</th>\n      <th>Age</th>\n      <th>Sex</th>\n      <th>SmokingStatus</th>\n      <th>FROM</th>\n      <th>Base_Week</th>\n      <th>Weeks_Passed</th>\n    </tr>\n  </thead>\n  <tbody>\n    <tr>\n      <th>0</th>\n      <td>ID00007637202177411956430</td>\n      <td>-4</td>\n      <td>2315</td>\n      <td>58.253649</td>\n      <td>79</td>\n      <td>Male</td>\n      <td>Ex-smoker</td>\n      <td>train</td>\n      <td>-4</td>\n      <td>0</td>\n    </tr>\n    <tr>\n      <th>1</th>\n      <td>ID00007637202177411956430</td>\n      <td>5</td>\n      <td>2214</td>\n      <td>55.712129</td>\n      <td>79</td>\n      <td>Male</td>\n      <td>Ex-smoker</td>\n      <td>train</td>\n      <td>-4</td>\n      <td>9</td>\n    </tr>\n    <tr>\n      <th>2</th>\n      <td>ID00007637202177411956430</td>\n      <td>7</td>\n      <td>2061</td>\n      <td>51.862104</td>\n      <td>79</td>\n      <td>Male</td>\n      <td>Ex-smoker</td>\n      <td>train</td>\n      <td>-4</td>\n      <td>11</td>\n    </tr>\n    <tr>\n      <th>3</th>\n      <td>ID00007637202177411956430</td>\n      <td>9</td>\n      <td>2144</td>\n      <td>53.950679</td>\n      <td>79</td>\n      <td>Male</td>\n      <td>Ex-smoker</td>\n      <td>train</td>\n      <td>-4</td>\n      <td>13</td>\n    </tr>\n    <tr>\n      <th>4</th>\n      <td>ID00007637202177411956430</td>\n      <td>11</td>\n      <td>2069</td>\n      <td>52.063412</td>\n      <td>79</td>\n      <td>Male</td>\n      <td>Ex-smoker</td>\n      <td>train</td>\n      <td>-4</td>\n      <td>15</td>\n    </tr>\n  </tbody>\n</table>\n</div>",
      "text/plain": "                     Patient  Weeks   FVC  ...   FROM  Base_Week Weeks_Passed\n0  ID00007637202177411956430     -4  2315  ...  train         -4            0\n1  ID00007637202177411956430      5  2214  ...  train         -4            9\n2  ID00007637202177411956430      7  2061  ...  train         -4           11\n3  ID00007637202177411956430      9  2144  ...  train         -4           13\n4  ID00007637202177411956430     11  2069  ...  train         -4           15\n\n[5 rows x 10 columns]"
     },
     "metadata": {},
     "execution_count": 153
    }
   ],
   "source": [
    "train_df['Base_Week'] = train_df['Weeks']\n",
    "train_df['Base_Week'] = train_df.groupby('Patient')['Base_Week'].transform('min')\n",
    "train_df['Weeks_Passed'] = train_df['Weeks'] - train_df['Base_Week']\n",
    "train_df.head()"
   ]
  },
  {
   "cell_type": "code",
   "execution_count": null,
   "metadata": {},
   "outputs": [],
   "source": []
  },
  {
   "cell_type": "code",
   "execution_count": 54,
   "metadata": {},
   "outputs": [
    {
     "output_type": "execute_result",
     "data": {
      "text/plain": "array([[0.        , 0.26704953, 0.23639327, 0.76923077],\n       [0.14285714, 0.24892319, 0.21594131, 0.76923077],\n       [0.17460317, 0.22146447, 0.18495963, 0.76923077],\n       ...,\n       [0.49206349, 0.37347452, 0.3422443 , 0.61538462],\n       [0.68253968, 0.38549892, 0.35548363, 0.61538462],\n       [0.93650794, 0.3494257 , 0.31576566, 0.61538462]])"
     },
     "metadata": {},
     "execution_count": 54
    }
   ],
   "source": [
    "# fit the min_max_scaler\n",
    "MIN_MAX_SCALER.fit_transform(train_df[['Weeks_Passed', 'FVC', 'Percent', 'Age']])"
   ]
  },
  {
   "cell_type": "code",
   "execution_count": 61,
   "metadata": {
    "tags": []
   },
   "outputs": [
    {
     "output_type": "stream",
     "name": "stderr",
     "text": "/usr/local/lib/python3.6/dist-packages/pandas/core/frame.py:4133: SettingWithCopyWarning: \nA value is trying to be set on a copy of a slice from a DataFrame\n\nSee the caveats in the documentation: https://pandas.pydata.org/pandas-docs/stable/user_guide/indexing.html#returning-a-view-versus-a-copy\n  errors=errors,\n"
    }
   ],
   "source": [
    "# get the data from the first time so we can add BASE_ columns for fvc percent and age columns\n",
    "base_df = train_df[train_df['Weeks'] == train_df['Base_Week']]\n",
    "# rename the columns before joining\n",
    "base_df.rename(columns={\n",
    "    'FVC': 'Base_FVC',\n",
    "    'Percent': 'Base_Percent',\n",
    "    'Age': 'Base_Age'\n",
    "}, inplace=True)"
   ]
  },
  {
   "cell_type": "code",
   "execution_count": 62,
   "metadata": {},
   "outputs": [
    {
     "output_type": "execute_result",
     "data": {
      "text/html": "<div>\n<style scoped>\n    .dataframe tbody tr th:only-of-type {\n        vertical-align: middle;\n    }\n\n    .dataframe tbody tr th {\n        vertical-align: top;\n    }\n\n    .dataframe thead th {\n        text-align: right;\n    }\n</style>\n<table border=\"1\" class=\"dataframe\">\n  <thead>\n    <tr style=\"text-align: right;\">\n      <th></th>\n      <th>Patient</th>\n      <th>Weeks</th>\n      <th>Base_FVC</th>\n      <th>Base_Percent</th>\n      <th>Base_Age</th>\n      <th>Sex</th>\n      <th>SmokingStatus</th>\n      <th>Base_Week</th>\n      <th>Weeks_Passed</th>\n    </tr>\n  </thead>\n  <tbody>\n    <tr>\n      <th>0</th>\n      <td>ID00007637202177411956430</td>\n      <td>-4</td>\n      <td>2315</td>\n      <td>58.253649</td>\n      <td>79</td>\n      <td>Male</td>\n      <td>Ex-smoker</td>\n      <td>-4</td>\n      <td>0</td>\n    </tr>\n    <tr>\n      <th>9</th>\n      <td>ID00009637202177434476278</td>\n      <td>8</td>\n      <td>3660</td>\n      <td>85.282878</td>\n      <td>69</td>\n      <td>Male</td>\n      <td>Ex-smoker</td>\n      <td>8</td>\n      <td>0</td>\n    </tr>\n    <tr>\n      <th>18</th>\n      <td>ID00010637202177584971671</td>\n      <td>0</td>\n      <td>3523</td>\n      <td>94.724672</td>\n      <td>60</td>\n      <td>Male</td>\n      <td>Ex-smoker</td>\n      <td>0</td>\n      <td>0</td>\n    </tr>\n    <tr>\n      <th>27</th>\n      <td>ID00011637202177653955184</td>\n      <td>6</td>\n      <td>3326</td>\n      <td>85.987590</td>\n      <td>72</td>\n      <td>Male</td>\n      <td>Ex-smoker</td>\n      <td>6</td>\n      <td>0</td>\n    </tr>\n    <tr>\n      <th>36</th>\n      <td>ID00012637202177665765362</td>\n      <td>33</td>\n      <td>3418</td>\n      <td>93.726006</td>\n      <td>65</td>\n      <td>Male</td>\n      <td>Never smoked</td>\n      <td>33</td>\n      <td>0</td>\n    </tr>\n  </tbody>\n</table>\n</div>",
      "text/plain": "                      Patient  Weeks  ...  Base_Week  Weeks_Passed\n0   ID00007637202177411956430     -4  ...         -4             0\n9   ID00009637202177434476278      8  ...          8             0\n18  ID00010637202177584971671      0  ...          0             0\n27  ID00011637202177653955184      6  ...          6             0\n36  ID00012637202177665765362     33  ...         33             0\n\n[5 rows x 9 columns]"
     },
     "metadata": {},
     "execution_count": 62
    }
   ],
   "source": [
    "base_df.head()"
   ]
  },
  {
   "cell_type": "code",
   "execution_count": 63,
   "metadata": {},
   "outputs": [],
   "source": [
    "train_df = train_df.merge(base_df[['Patient', 'Base_FVC', 'Base_Percent', 'Base_Age']], on='Patient')"
   ]
  },
  {
   "cell_type": "code",
   "execution_count": 64,
   "metadata": {},
   "outputs": [
    {
     "output_type": "execute_result",
     "data": {
      "text/html": "<div>\n<style scoped>\n    .dataframe tbody tr th:only-of-type {\n        vertical-align: middle;\n    }\n\n    .dataframe tbody tr th {\n        vertical-align: top;\n    }\n\n    .dataframe thead th {\n        text-align: right;\n    }\n</style>\n<table border=\"1\" class=\"dataframe\">\n  <thead>\n    <tr style=\"text-align: right;\">\n      <th></th>\n      <th>Patient</th>\n      <th>Weeks</th>\n      <th>FVC</th>\n      <th>Percent</th>\n      <th>Age</th>\n      <th>Sex</th>\n      <th>SmokingStatus</th>\n      <th>Base_Week</th>\n      <th>Weeks_Passed</th>\n      <th>Base_FVC</th>\n      <th>Base_Percent</th>\n      <th>Base_Age</th>\n    </tr>\n  </thead>\n  <tbody>\n    <tr>\n      <th>0</th>\n      <td>ID00007637202177411956430</td>\n      <td>-4</td>\n      <td>2315</td>\n      <td>58.253649</td>\n      <td>79</td>\n      <td>Male</td>\n      <td>Ex-smoker</td>\n      <td>-4</td>\n      <td>0</td>\n      <td>2315</td>\n      <td>58.253649</td>\n      <td>79</td>\n    </tr>\n    <tr>\n      <th>1</th>\n      <td>ID00007637202177411956430</td>\n      <td>5</td>\n      <td>2214</td>\n      <td>55.712129</td>\n      <td>79</td>\n      <td>Male</td>\n      <td>Ex-smoker</td>\n      <td>-4</td>\n      <td>9</td>\n      <td>2315</td>\n      <td>58.253649</td>\n      <td>79</td>\n    </tr>\n    <tr>\n      <th>2</th>\n      <td>ID00007637202177411956430</td>\n      <td>7</td>\n      <td>2061</td>\n      <td>51.862104</td>\n      <td>79</td>\n      <td>Male</td>\n      <td>Ex-smoker</td>\n      <td>-4</td>\n      <td>11</td>\n      <td>2315</td>\n      <td>58.253649</td>\n      <td>79</td>\n    </tr>\n    <tr>\n      <th>3</th>\n      <td>ID00007637202177411956430</td>\n      <td>9</td>\n      <td>2144</td>\n      <td>53.950679</td>\n      <td>79</td>\n      <td>Male</td>\n      <td>Ex-smoker</td>\n      <td>-4</td>\n      <td>13</td>\n      <td>2315</td>\n      <td>58.253649</td>\n      <td>79</td>\n    </tr>\n    <tr>\n      <th>4</th>\n      <td>ID00007637202177411956430</td>\n      <td>11</td>\n      <td>2069</td>\n      <td>52.063412</td>\n      <td>79</td>\n      <td>Male</td>\n      <td>Ex-smoker</td>\n      <td>-4</td>\n      <td>15</td>\n      <td>2315</td>\n      <td>58.253649</td>\n      <td>79</td>\n    </tr>\n  </tbody>\n</table>\n</div>",
      "text/plain": "                     Patient  Weeks   FVC  ...  Base_FVC  Base_Percent Base_Age\n0  ID00007637202177411956430     -4  2315  ...      2315     58.253649       79\n1  ID00007637202177411956430      5  2214  ...      2315     58.253649       79\n2  ID00007637202177411956430      7  2061  ...      2315     58.253649       79\n3  ID00007637202177411956430      9  2144  ...      2315     58.253649       79\n4  ID00007637202177411956430     11  2069  ...      2315     58.253649       79\n\n[5 rows x 12 columns]"
     },
     "metadata": {},
     "execution_count": 64
    }
   ],
   "source": [
    "train_df.head()"
   ]
  },
  {
   "cell_type": "code",
   "execution_count": 65,
   "metadata": {},
   "outputs": [],
   "source": [
    "train_df[['Weeks_Passed', 'Base_FVC', 'Base_Percent', 'Base_Age']] = MIN_MAX_SCALER.fit_transform(train_df[['Weeks_Passed', 'Base_FVC', 'Base_Percent', 'Base_Age']])"
   ]
  },
  {
   "cell_type": "code",
   "execution_count": 66,
   "metadata": {},
   "outputs": [
    {
     "output_type": "execute_result",
     "data": {
      "text/html": "<div>\n<style scoped>\n    .dataframe tbody tr th:only-of-type {\n        vertical-align: middle;\n    }\n\n    .dataframe tbody tr th {\n        vertical-align: top;\n    }\n\n    .dataframe thead th {\n        text-align: right;\n    }\n</style>\n<table border=\"1\" class=\"dataframe\">\n  <thead>\n    <tr style=\"text-align: right;\">\n      <th></th>\n      <th>Patient</th>\n      <th>Weeks</th>\n      <th>FVC</th>\n      <th>Percent</th>\n      <th>Age</th>\n      <th>Sex</th>\n      <th>SmokingStatus</th>\n      <th>Base_Week</th>\n      <th>Weeks_Passed</th>\n      <th>Base_FVC</th>\n      <th>Base_Percent</th>\n      <th>Base_Age</th>\n    </tr>\n  </thead>\n  <tbody>\n    <tr>\n      <th>0</th>\n      <td>ID00007637202177411956430</td>\n      <td>-4</td>\n      <td>2315</td>\n      <td>58.253649</td>\n      <td>79</td>\n      <td>Male</td>\n      <td>Ex-smoker</td>\n      <td>-4</td>\n      <td>0.000000</td>\n      <td>0.241456</td>\n      <td>0.135886</td>\n      <td>0.769231</td>\n    </tr>\n    <tr>\n      <th>1</th>\n      <td>ID00007637202177411956430</td>\n      <td>5</td>\n      <td>2214</td>\n      <td>55.712129</td>\n      <td>79</td>\n      <td>Male</td>\n      <td>Ex-smoker</td>\n      <td>-4</td>\n      <td>0.142857</td>\n      <td>0.241456</td>\n      <td>0.135886</td>\n      <td>0.769231</td>\n    </tr>\n    <tr>\n      <th>2</th>\n      <td>ID00007637202177411956430</td>\n      <td>7</td>\n      <td>2061</td>\n      <td>51.862104</td>\n      <td>79</td>\n      <td>Male</td>\n      <td>Ex-smoker</td>\n      <td>-4</td>\n      <td>0.174603</td>\n      <td>0.241456</td>\n      <td>0.135886</td>\n      <td>0.769231</td>\n    </tr>\n    <tr>\n      <th>3</th>\n      <td>ID00007637202177411956430</td>\n      <td>9</td>\n      <td>2144</td>\n      <td>53.950679</td>\n      <td>79</td>\n      <td>Male</td>\n      <td>Ex-smoker</td>\n      <td>-4</td>\n      <td>0.206349</td>\n      <td>0.241456</td>\n      <td>0.135886</td>\n      <td>0.769231</td>\n    </tr>\n    <tr>\n      <th>4</th>\n      <td>ID00007637202177411956430</td>\n      <td>11</td>\n      <td>2069</td>\n      <td>52.063412</td>\n      <td>79</td>\n      <td>Male</td>\n      <td>Ex-smoker</td>\n      <td>-4</td>\n      <td>0.238095</td>\n      <td>0.241456</td>\n      <td>0.135886</td>\n      <td>0.769231</td>\n    </tr>\n  </tbody>\n</table>\n</div>",
      "text/plain": "                     Patient  Weeks   FVC  ...  Base_FVC  Base_Percent  Base_Age\n0  ID00007637202177411956430     -4  2315  ...  0.241456      0.135886  0.769231\n1  ID00007637202177411956430      5  2214  ...  0.241456      0.135886  0.769231\n2  ID00007637202177411956430      7  2061  ...  0.241456      0.135886  0.769231\n3  ID00007637202177411956430      9  2144  ...  0.241456      0.135886  0.769231\n4  ID00007637202177411956430     11  2069  ...  0.241456      0.135886  0.769231\n\n[5 rows x 12 columns]"
     },
     "metadata": {},
     "execution_count": 66
    }
   ],
   "source": [
    "train_df.head()"
   ]
  },
  {
   "cell_type": "code",
   "execution_count": 67,
   "metadata": {},
   "outputs": [],
   "source": [
    "# convert categoricals into dummies\n",
    "train_df['Sex'] = pd.Categorical(train_df['Sex'], categories=SEX_COLUMNS)\n",
    "train_df['SmokingStatus'] = pd.Categorical(train_df['SmokingStatus'], categories=SMOKING_STATUS_COLUMNS)\n",
    "train_df = train_df.join(pd.get_dummies(train_df['Sex']))\n",
    "train_df = train_df.join(pd.get_dummies(train_df['SmokingStatus']))"
   ]
  },
  {
   "cell_type": "code",
   "execution_count": 68,
   "metadata": {
    "tags": []
   },
   "outputs": [],
   "source": [
    "# REMOVE THE ONES FROM THE TRAIN_DF THAT ARE PRESENT IN TEST_DF AS WELL\n",
    "TEST_PATIENTS = test_df['Patient'].unique().tolist()\n",
    "valid_df = train_df[train_df['Patient'].isin(TEST_PATIENTS)]\n",
    "train_df = train_df[~train_df['Patient'].isin(TEST_PATIENTS)]\n",
    "TRAIN_PATIENTS = train_df['Patient'].unique().tolist()"
   ]
  },
  {
   "cell_type": "code",
   "execution_count": 69,
   "metadata": {},
   "outputs": [
    {
     "output_type": "execute_result",
     "data": {
      "text/html": "<div>\n<style scoped>\n    .dataframe tbody tr th:only-of-type {\n        vertical-align: middle;\n    }\n\n    .dataframe tbody tr th {\n        vertical-align: top;\n    }\n\n    .dataframe thead th {\n        text-align: right;\n    }\n</style>\n<table border=\"1\" class=\"dataframe\">\n  <thead>\n    <tr style=\"text-align: right;\">\n      <th></th>\n      <th>Patient</th>\n      <th>Weeks</th>\n      <th>FVC</th>\n      <th>Percent</th>\n      <th>Age</th>\n      <th>Sex</th>\n      <th>SmokingStatus</th>\n    </tr>\n  </thead>\n  <tbody>\n    <tr>\n      <th>0</th>\n      <td>ID00419637202311204720264</td>\n      <td>6</td>\n      <td>3020</td>\n      <td>70.186855</td>\n      <td>73</td>\n      <td>Male</td>\n      <td>Ex-smoker</td>\n    </tr>\n    <tr>\n      <th>1</th>\n      <td>ID00421637202311550012437</td>\n      <td>15</td>\n      <td>2739</td>\n      <td>82.045291</td>\n      <td>68</td>\n      <td>Male</td>\n      <td>Ex-smoker</td>\n    </tr>\n    <tr>\n      <th>2</th>\n      <td>ID00422637202311677017371</td>\n      <td>6</td>\n      <td>1930</td>\n      <td>76.672493</td>\n      <td>73</td>\n      <td>Male</td>\n      <td>Ex-smoker</td>\n    </tr>\n    <tr>\n      <th>3</th>\n      <td>ID00423637202312137826377</td>\n      <td>17</td>\n      <td>3294</td>\n      <td>79.258903</td>\n      <td>72</td>\n      <td>Male</td>\n      <td>Ex-smoker</td>\n    </tr>\n    <tr>\n      <th>4</th>\n      <td>ID00426637202313170790466</td>\n      <td>0</td>\n      <td>2925</td>\n      <td>71.824968</td>\n      <td>73</td>\n      <td>Male</td>\n      <td>Never smoked</td>\n    </tr>\n  </tbody>\n</table>\n</div>",
      "text/plain": "                     Patient  Weeks   FVC    Percent  Age   Sex SmokingStatus\n0  ID00419637202311204720264      6  3020  70.186855   73  Male     Ex-smoker\n1  ID00421637202311550012437     15  2739  82.045291   68  Male     Ex-smoker\n2  ID00422637202311677017371      6  1930  76.672493   73  Male     Ex-smoker\n3  ID00423637202312137826377     17  3294  79.258903   72  Male     Ex-smoker\n4  ID00426637202313170790466      0  2925  71.824968   73  Male  Never smoked"
     },
     "metadata": {},
     "execution_count": 69
    }
   ],
   "source": [
    "test_df.head()"
   ]
  },
  {
   "cell_type": "code",
   "execution_count": 70,
   "metadata": {},
   "outputs": [
    {
     "output_type": "execute_result",
     "data": {
      "text/html": "<div>\n<style scoped>\n    .dataframe tbody tr th:only-of-type {\n        vertical-align: middle;\n    }\n\n    .dataframe tbody tr th {\n        vertical-align: top;\n    }\n\n    .dataframe thead th {\n        text-align: right;\n    }\n</style>\n<table border=\"1\" class=\"dataframe\">\n  <thead>\n    <tr style=\"text-align: right;\">\n      <th></th>\n      <th>Patient</th>\n      <th>Weeks</th>\n      <th>FVC</th>\n      <th>Percent</th>\n      <th>Age</th>\n      <th>Sex</th>\n      <th>SmokingStatus</th>\n      <th>Base_Week</th>\n      <th>Weeks_Passed</th>\n      <th>Base_FVC</th>\n      <th>Base_Percent</th>\n      <th>Base_Age</th>\n      <th>Male</th>\n      <th>Female</th>\n      <th>Currently smokes</th>\n      <th>Ex-smoker</th>\n      <th>Never smoked</th>\n    </tr>\n  </thead>\n  <tbody>\n    <tr>\n      <th>0</th>\n      <td>ID00007637202177411956430</td>\n      <td>-4</td>\n      <td>2315</td>\n      <td>58.253649</td>\n      <td>79</td>\n      <td>Male</td>\n      <td>Ex-smoker</td>\n      <td>-4</td>\n      <td>0.000000</td>\n      <td>0.241456</td>\n      <td>0.135886</td>\n      <td>0.769231</td>\n      <td>1</td>\n      <td>0</td>\n      <td>0</td>\n      <td>1</td>\n      <td>0</td>\n    </tr>\n    <tr>\n      <th>1</th>\n      <td>ID00007637202177411956430</td>\n      <td>5</td>\n      <td>2214</td>\n      <td>55.712129</td>\n      <td>79</td>\n      <td>Male</td>\n      <td>Ex-smoker</td>\n      <td>-4</td>\n      <td>0.142857</td>\n      <td>0.241456</td>\n      <td>0.135886</td>\n      <td>0.769231</td>\n      <td>1</td>\n      <td>0</td>\n      <td>0</td>\n      <td>1</td>\n      <td>0</td>\n    </tr>\n    <tr>\n      <th>2</th>\n      <td>ID00007637202177411956430</td>\n      <td>7</td>\n      <td>2061</td>\n      <td>51.862104</td>\n      <td>79</td>\n      <td>Male</td>\n      <td>Ex-smoker</td>\n      <td>-4</td>\n      <td>0.174603</td>\n      <td>0.241456</td>\n      <td>0.135886</td>\n      <td>0.769231</td>\n      <td>1</td>\n      <td>0</td>\n      <td>0</td>\n      <td>1</td>\n      <td>0</td>\n    </tr>\n    <tr>\n      <th>3</th>\n      <td>ID00007637202177411956430</td>\n      <td>9</td>\n      <td>2144</td>\n      <td>53.950679</td>\n      <td>79</td>\n      <td>Male</td>\n      <td>Ex-smoker</td>\n      <td>-4</td>\n      <td>0.206349</td>\n      <td>0.241456</td>\n      <td>0.135886</td>\n      <td>0.769231</td>\n      <td>1</td>\n      <td>0</td>\n      <td>0</td>\n      <td>1</td>\n      <td>0</td>\n    </tr>\n    <tr>\n      <th>4</th>\n      <td>ID00007637202177411956430</td>\n      <td>11</td>\n      <td>2069</td>\n      <td>52.063412</td>\n      <td>79</td>\n      <td>Male</td>\n      <td>Ex-smoker</td>\n      <td>-4</td>\n      <td>0.238095</td>\n      <td>0.241456</td>\n      <td>0.135886</td>\n      <td>0.769231</td>\n      <td>1</td>\n      <td>0</td>\n      <td>0</td>\n      <td>1</td>\n      <td>0</td>\n    </tr>\n  </tbody>\n</table>\n</div>",
      "text/plain": "                     Patient  Weeks  ...  Ex-smoker  Never smoked\n0  ID00007637202177411956430     -4  ...          1             0\n1  ID00007637202177411956430      5  ...          1             0\n2  ID00007637202177411956430      7  ...          1             0\n3  ID00007637202177411956430      9  ...          1             0\n4  ID00007637202177411956430     11  ...          1             0\n\n[5 rows x 17 columns]"
     },
     "metadata": {},
     "execution_count": 70
    }
   ],
   "source": [
    "train_df.head()"
   ]
  },
  {
   "cell_type": "code",
   "execution_count": 71,
   "metadata": {},
   "outputs": [
    {
     "output_type": "execute_result",
     "data": {
      "text/html": "<div>\n<style scoped>\n    .dataframe tbody tr th:only-of-type {\n        vertical-align: middle;\n    }\n\n    .dataframe tbody tr th {\n        vertical-align: top;\n    }\n\n    .dataframe thead th {\n        text-align: right;\n    }\n</style>\n<table border=\"1\" class=\"dataframe\">\n  <thead>\n    <tr style=\"text-align: right;\">\n      <th></th>\n      <th>Patient_Week</th>\n      <th>FVC</th>\n      <th>Confidence</th>\n      <th>Patient</th>\n      <th>Weeks</th>\n    </tr>\n  </thead>\n  <tbody>\n    <tr>\n      <th>0</th>\n      <td>ID00419637202311204720264_-12</td>\n      <td>2000</td>\n      <td>100</td>\n      <td>ID00419637202311204720264</td>\n      <td>-12</td>\n    </tr>\n    <tr>\n      <th>1</th>\n      <td>ID00421637202311550012437_-12</td>\n      <td>2000</td>\n      <td>100</td>\n      <td>ID00421637202311550012437</td>\n      <td>-12</td>\n    </tr>\n    <tr>\n      <th>2</th>\n      <td>ID00422637202311677017371_-12</td>\n      <td>2000</td>\n      <td>100</td>\n      <td>ID00422637202311677017371</td>\n      <td>-12</td>\n    </tr>\n    <tr>\n      <th>3</th>\n      <td>ID00423637202312137826377_-12</td>\n      <td>2000</td>\n      <td>100</td>\n      <td>ID00423637202312137826377</td>\n      <td>-12</td>\n    </tr>\n    <tr>\n      <th>4</th>\n      <td>ID00426637202313170790466_-12</td>\n      <td>2000</td>\n      <td>100</td>\n      <td>ID00426637202313170790466</td>\n      <td>-12</td>\n    </tr>\n  </tbody>\n</table>\n</div>",
      "text/plain": "                    Patient_Week   FVC  ...                    Patient Weeks\n0  ID00419637202311204720264_-12  2000  ...  ID00419637202311204720264   -12\n1  ID00421637202311550012437_-12  2000  ...  ID00421637202311550012437   -12\n2  ID00422637202311677017371_-12  2000  ...  ID00422637202311677017371   -12\n3  ID00423637202312137826377_-12  2000  ...  ID00423637202312137826377   -12\n4  ID00426637202313170790466_-12  2000  ...  ID00426637202313170790466   -12\n\n[5 rows x 5 columns]"
     },
     "metadata": {},
     "execution_count": 71
    }
   ],
   "source": []
  },
  {
   "cell_type": "code",
   "execution_count": 73,
   "metadata": {},
   "outputs": [],
   "source": [
    "# have to make it categorical coz sub's sex column has males only\n",
    "sub_df['Sex'] = pd.Categorical(sub_df['Sex'], categories=SEX_COLUMNS)\n",
    "sub_df['SmokingStatus'] = pd.Categorical(sub_df['SmokingStatus'], categories=SMOKING_STATUS_COLUMNS)"
   ]
  },
  {
   "cell_type": "code",
   "execution_count": 74,
   "metadata": {},
   "outputs": [],
   "source": [
    "sub_df = sub_df.join(pd.get_dummies(sub_df['Sex']))\n",
    "sub_df = sub_df.join(pd.get_dummies(sub_df['SmokingStatus']))"
   ]
  },
  {
   "cell_type": "code",
   "execution_count": 76,
   "metadata": {},
   "outputs": [],
   "source": [
    "sub_df.rename(columns={\n",
    "    'FVC': 'Base_FVC',\n",
    "    'Percent': 'Base_Percent',\n",
    "    'Age': 'Base_Age'\n",
    "}, inplace=True)"
   ]
  },
  {
   "cell_type": "code",
   "execution_count": 77,
   "metadata": {},
   "outputs": [
    {
     "output_type": "execute_result",
     "data": {
      "text/html": "<div>\n<style scoped>\n    .dataframe tbody tr th:only-of-type {\n        vertical-align: middle;\n    }\n\n    .dataframe tbody tr th {\n        vertical-align: top;\n    }\n\n    .dataframe thead th {\n        text-align: right;\n    }\n</style>\n<table border=\"1\" class=\"dataframe\">\n  <thead>\n    <tr style=\"text-align: right;\">\n      <th></th>\n      <th>Patient_Week</th>\n      <th>Confidence</th>\n      <th>Patient</th>\n      <th>Weeks</th>\n      <th>Base_FVC</th>\n      <th>Base_Percent</th>\n      <th>Base_Age</th>\n      <th>Sex</th>\n      <th>SmokingStatus</th>\n      <th>Male</th>\n      <th>Female</th>\n      <th>Currently smokes</th>\n      <th>Ex-smoker</th>\n      <th>Never smoked</th>\n    </tr>\n  </thead>\n  <tbody>\n    <tr>\n      <th>0</th>\n      <td>ID00419637202311204720264_-12</td>\n      <td>100</td>\n      <td>ID00419637202311204720264</td>\n      <td>-12</td>\n      <td>3020</td>\n      <td>70.186855</td>\n      <td>73</td>\n      <td>Male</td>\n      <td>Ex-smoker</td>\n      <td>1</td>\n      <td>0</td>\n      <td>0</td>\n      <td>1</td>\n      <td>0</td>\n    </tr>\n    <tr>\n      <th>1</th>\n      <td>ID00419637202311204720264_-11</td>\n      <td>100</td>\n      <td>ID00419637202311204720264</td>\n      <td>-11</td>\n      <td>3020</td>\n      <td>70.186855</td>\n      <td>73</td>\n      <td>Male</td>\n      <td>Ex-smoker</td>\n      <td>1</td>\n      <td>0</td>\n      <td>0</td>\n      <td>1</td>\n      <td>0</td>\n    </tr>\n    <tr>\n      <th>2</th>\n      <td>ID00419637202311204720264_-10</td>\n      <td>100</td>\n      <td>ID00419637202311204720264</td>\n      <td>-10</td>\n      <td>3020</td>\n      <td>70.186855</td>\n      <td>73</td>\n      <td>Male</td>\n      <td>Ex-smoker</td>\n      <td>1</td>\n      <td>0</td>\n      <td>0</td>\n      <td>1</td>\n      <td>0</td>\n    </tr>\n    <tr>\n      <th>3</th>\n      <td>ID00419637202311204720264_-9</td>\n      <td>100</td>\n      <td>ID00419637202311204720264</td>\n      <td>-9</td>\n      <td>3020</td>\n      <td>70.186855</td>\n      <td>73</td>\n      <td>Male</td>\n      <td>Ex-smoker</td>\n      <td>1</td>\n      <td>0</td>\n      <td>0</td>\n      <td>1</td>\n      <td>0</td>\n    </tr>\n    <tr>\n      <th>4</th>\n      <td>ID00419637202311204720264_-8</td>\n      <td>100</td>\n      <td>ID00419637202311204720264</td>\n      <td>-8</td>\n      <td>3020</td>\n      <td>70.186855</td>\n      <td>73</td>\n      <td>Male</td>\n      <td>Ex-smoker</td>\n      <td>1</td>\n      <td>0</td>\n      <td>0</td>\n      <td>1</td>\n      <td>0</td>\n    </tr>\n  </tbody>\n</table>\n</div>",
      "text/plain": "                    Patient_Week  Confidence  ... Ex-smoker  Never smoked\n0  ID00419637202311204720264_-12         100  ...         1             0\n1  ID00419637202311204720264_-11         100  ...         1             0\n2  ID00419637202311204720264_-10         100  ...         1             0\n3   ID00419637202311204720264_-9         100  ...         1             0\n4   ID00419637202311204720264_-8         100  ...         1             0\n\n[5 rows x 14 columns]"
     },
     "metadata": {},
     "execution_count": 77
    }
   ],
   "source": [
    "sub_df.head()"
   ]
  },
  {
   "cell_type": "code",
   "execution_count": 16,
   "metadata": {},
   "outputs": [
    {
     "output_type": "execute_result",
     "data": {
      "text/html": "<div>\n<style scoped>\n    .dataframe tbody tr th:only-of-type {\n        vertical-align: middle;\n    }\n\n    .dataframe tbody tr th {\n        vertical-align: top;\n    }\n\n    .dataframe thead th {\n        text-align: right;\n    }\n</style>\n<table border=\"1\" class=\"dataframe\">\n  <thead>\n    <tr style=\"text-align: right;\">\n      <th></th>\n      <th>Patient_Week</th>\n      <th>Confidence</th>\n      <th>Patient</th>\n      <th>Weeks</th>\n      <th>FVC</th>\n      <th>Percent</th>\n      <th>Age</th>\n      <th>Sex</th>\n      <th>SmokingStatus</th>\n      <th>Male</th>\n      <th>Female</th>\n      <th>Currently smokes</th>\n      <th>Ex-smoker</th>\n      <th>Never smoked</th>\n    </tr>\n  </thead>\n  <tbody>\n    <tr>\n      <th>0</th>\n      <td>ID00419637202311204720264_-12</td>\n      <td>100</td>\n      <td>ID00419637202311204720264</td>\n      <td>-0.050725</td>\n      <td>0.393575</td>\n      <td>0.332421</td>\n      <td>0.615385</td>\n      <td>Male</td>\n      <td>Ex-smoker</td>\n      <td>1</td>\n      <td>0</td>\n      <td>0</td>\n      <td>1</td>\n      <td>0</td>\n    </tr>\n    <tr>\n      <th>1</th>\n      <td>ID00419637202311204720264_-11</td>\n      <td>100</td>\n      <td>ID00419637202311204720264</td>\n      <td>-0.043478</td>\n      <td>0.393575</td>\n      <td>0.332421</td>\n      <td>0.615385</td>\n      <td>Male</td>\n      <td>Ex-smoker</td>\n      <td>1</td>\n      <td>0</td>\n      <td>0</td>\n      <td>1</td>\n      <td>0</td>\n    </tr>\n    <tr>\n      <th>2</th>\n      <td>ID00419637202311204720264_-10</td>\n      <td>100</td>\n      <td>ID00419637202311204720264</td>\n      <td>-0.036232</td>\n      <td>0.393575</td>\n      <td>0.332421</td>\n      <td>0.615385</td>\n      <td>Male</td>\n      <td>Ex-smoker</td>\n      <td>1</td>\n      <td>0</td>\n      <td>0</td>\n      <td>1</td>\n      <td>0</td>\n    </tr>\n    <tr>\n      <th>3</th>\n      <td>ID00419637202311204720264_-9</td>\n      <td>100</td>\n      <td>ID00419637202311204720264</td>\n      <td>-0.028986</td>\n      <td>0.393575</td>\n      <td>0.332421</td>\n      <td>0.615385</td>\n      <td>Male</td>\n      <td>Ex-smoker</td>\n      <td>1</td>\n      <td>0</td>\n      <td>0</td>\n      <td>1</td>\n      <td>0</td>\n    </tr>\n    <tr>\n      <th>4</th>\n      <td>ID00419637202311204720264_-8</td>\n      <td>100</td>\n      <td>ID00419637202311204720264</td>\n      <td>-0.021739</td>\n      <td>0.393575</td>\n      <td>0.332421</td>\n      <td>0.615385</td>\n      <td>Male</td>\n      <td>Ex-smoker</td>\n      <td>1</td>\n      <td>0</td>\n      <td>0</td>\n      <td>1</td>\n      <td>0</td>\n    </tr>\n  </tbody>\n</table>\n</div>",
      "text/plain": "                    Patient_Week  Confidence  ... Ex-smoker  Never smoked\n0  ID00419637202311204720264_-12         100  ...         1             0\n1  ID00419637202311204720264_-11         100  ...         1             0\n2  ID00419637202311204720264_-10         100  ...         1             0\n3   ID00419637202311204720264_-9         100  ...         1             0\n4   ID00419637202311204720264_-8         100  ...         1             0\n\n[5 rows x 14 columns]"
     },
     "metadata": {},
     "execution_count": 16
    }
   ],
   "source": [
    "sub_df[SCALE_COLUMNS] = MIN_MAX_SCALER.transform(sub_df[SCALE_COLUMNS])\n",
    "sub_df.head()"
   ]
  },
  {
   "cell_type": "code",
   "execution_count": 17,
   "metadata": {},
   "outputs": [],
   "source": [
    "class PulmonaryDataset(torch.utils.data.Dataset):\n",
    "    def __init__(self, df, FV, test=False):\n",
    "        self.df = df\n",
    "        self.test = test\n",
    "        self.FV = FV\n",
    "\n",
    "    def __getitem__(self, idx):\n",
    "        return {\n",
    "            'features': torch.tensor(self.df[self.FV].iloc[idx].values),\n",
    "            'target': torch.tensor(self.df['FVC'].iloc[idx])\n",
    "        }\n",
    "\n",
    "    def __len__(self):\n",
    "        return len(self.df)"
   ]
  },
  {
   "cell_type": "code",
   "execution_count": 18,
   "metadata": {},
   "outputs": [],
   "source": [
    "class PulmonaryModel(nn.Module):\n",
    "    def __init__(self, in_features=9, out_quantiles=3):\n",
    "        super(PulmonaryModel, self).__init__()\n",
    "        self.fc1 = nn.Linear(in_features, 100)\n",
    "        self.fc2 = nn.Linear(100, 100)\n",
    "        self.fc3 = nn.Linear(100, out_quantiles)\n",
    "    \n",
    "    def forward(self, x):\n",
    "        x = F.relu(self.fc1(x))\n",
    "        x = F.relu(self.fc2(x))\n",
    "        x = self.fc3(x)\n",
    "        return x"
   ]
  },
  {
   "cell_type": "code",
   "execution_count": 19,
   "metadata": {},
   "outputs": [],
   "source": [
    "clip_one, clip_two = torch.tensor(70, dtype=torch.float32).to(DEVICE), torch.tensor(1000, dtype=torch.float32).to(DEVICE)\n",
    "def score(y_true, y_pred):\n",
    "    sigma = y_pred[:, 2] - y_pred[:, 0]\n",
    "    fvc_pred = y_pred[:, 1]\n",
    "\n",
    "    sigma_clip = torch.max(sigma, clip_one)\n",
    "    delta = torch.abs(y_true - fvc_pred)\n",
    "    delta = torch.min(delta, clip_two)\n",
    "    sq2 = torch.sqrt(torch.tensor(2, dtype=torch.float32))\n",
    "    metric = (delta / sigma_clip) * sq2 + torch.log(sigma_clip * sq2)\n",
    "    return torch.mean(metric)"
   ]
  },
  {
   "cell_type": "code",
   "execution_count": 20,
   "metadata": {},
   "outputs": [],
   "source": [
    "def quantile_loss(preds, target, quantiles, _lambda):\n",
    "    assert not target.requires_grad\n",
    "    assert preds.size(0) == target.size(0)\n",
    "    losses = []\n",
    "    for i, q in enumerate(quantiles):\n",
    "        errors = target - preds[:, i]\n",
    "        losses.append(torch.max((q - 1) * errors, q * errors).unsqueeze(1))\n",
    "    loss = torch.mean(torch.sum(torch.cat(losses, dim=1), dim=1))\n",
    "    # return loss\n",
    "    return _lambda * loss + (1 - _lambda) * score(target, preds)"
   ]
  },
  {
   "cell_type": "code",
   "execution_count": 21,
   "metadata": {},
   "outputs": [],
   "source": [
    "class AverageMeter:\n",
    "    \"\"\"\n",
    "    Computes and stores the average and current value\n",
    "    \"\"\"\n",
    "    def __init__(self):\n",
    "        self.reset()\n",
    "\n",
    "    def reset(self):\n",
    "        self.val = 0\n",
    "        self.avg = 0\n",
    "        self.sum = 0\n",
    "        self.count = 0\n",
    "\n",
    "    def update(self, val, n=1):\n",
    "        self.val = val\n",
    "        self.sum += val * n\n",
    "        self.count += n\n",
    "        self.avg = self.sum / self.count"
   ]
  },
  {
   "cell_type": "code",
   "execution_count": 22,
   "metadata": {},
   "outputs": [],
   "source": [
    "def train_one_epoch(model, train_data_loader, optimizer, train_loss):\n",
    "    model.train()\n",
    "    for i, data in enumerate(train_data_loader):\n",
    "        features = data['features']\n",
    "        targets = data['target']\n",
    "\n",
    "        features = features.to(DEVICE).float()\n",
    "        targets = targets.to(DEVICE).float()\n",
    "\n",
    "        model.zero_grad()\n",
    "        out = model(features)\n",
    "        loss = quantile_loss(out, targets, QUANTILES, 0.8)\n",
    "        train_loss.update(loss, features.size(0))\n",
    "        loss.backward()\n",
    "        optimizer.step()"
   ]
  },
  {
   "cell_type": "code",
   "execution_count": 23,
   "metadata": {},
   "outputs": [],
   "source": [
    "def eval_one_epoch(model, valid_data_loader, valid_loss, lr_scheduler):\n",
    "    model.eval()\n",
    "\n",
    "    with torch.no_grad():\n",
    "        for i, data in enumerate(valid_data_loader):\n",
    "            features = data['features']\n",
    "            targets = data['target']\n",
    "\n",
    "            features = features.to(DEVICE).float()\n",
    "            targets = targets.to(DEVICE).float()\n",
    "            \n",
    "            out = model(features)\n",
    "            loss = quantile_loss(out, targets, QUANTILES, 0.8)\n",
    "            valid_loss.update(loss, features.size(0))\n",
    "    \n",
    "    if lr_scheduler is not None:\n",
    "        lr_scheduler.step(valid_loss.avg)"
   ]
  },
  {
   "cell_type": "code",
   "execution_count": 28,
   "metadata": {
    "tags": []
   },
   "outputs": [
    {
     "output_type": "stream",
     "name": "stdout",
     "text": "Epoch 0/1100, Loss 1.1062694787979126\nFold 0, Valid Loss 1.0288283824920654 \n\nEpoch 50/1100, Loss 0.9313132166862488\nFold 0, Valid Loss 0.9332516193389893 \n\nEpoch 100/1100, Loss 0.9269670248031616\nFold 0, Valid Loss 0.9317992925643921 \n\nEpoch   134: reducing learning rate of group 0 to 2.1000e-03.\nEpoch 150/1100, Loss 0.9231132864952087\nFold 0, Valid Loss 0.9285225868225098 \n\nEpoch   185: reducing learning rate of group 0 to 1.4700e-03.\nEpoch 200/1100, Loss 0.9218205809593201\nFold 0, Valid Loss 0.9237077236175537 \n\nEpoch   236: reducing learning rate of group 0 to 1.0290e-03.\nEpoch 250/1100, Loss 0.9215016961097717\nFold 0, Valid Loss 0.9239925146102905 \n\nEpoch   287: reducing learning rate of group 0 to 7.2030e-04.\nEpoch 300/1100, Loss 0.9207387566566467\nFold 0, Valid Loss 0.9225426912307739 \n\nEpoch 350/1100, Loss 0.92048180103302\nFold 0, Valid Loss 0.9231070280075073 \n\nEpoch   368: reducing learning rate of group 0 to 5.0421e-04.\nEpoch 400/1100, Loss 0.9200661778450012\nFold 0, Valid Loss 0.9224148392677307 \n\nEpoch 450/1100, Loss 0.9200976490974426\nFold 0, Valid Loss 0.9228835105895996 \n\nEpoch 500/1100, Loss 0.92097407579422\nFold 0, Valid Loss 0.9227374792098999 \n\nEpoch   516: reducing learning rate of group 0 to 3.5295e-04.\nEpoch 550/1100, Loss 0.9197009205818176\nFold 0, Valid Loss 0.9218639135360718 \n\nEpoch   586: reducing learning rate of group 0 to 2.4706e-04.\nEpoch 600/1100, Loss 0.9197195768356323\nFold 0, Valid Loss 0.9213287234306335 \n\nEpoch   637: reducing learning rate of group 0 to 1.7294e-04.\nEpoch 650/1100, Loss 0.9192748665809631\nFold 0, Valid Loss 0.9214728474617004 \n\nEpoch   691: reducing learning rate of group 0 to 1.2106e-04.\nEpoch 700/1100, Loss 0.9193758964538574\nFold 0, Valid Loss 0.9212713837623596 \n\nEpoch   742: reducing learning rate of group 0 to 8.4743e-05.\nEpoch 750/1100, Loss 0.9192272424697876\nFold 0, Valid Loss 0.9211887121200562 \n\nEpoch 800/1100, Loss 0.919226884841919\nFold 0, Valid Loss 0.9212101697921753 \n\nEpoch   804: reducing learning rate of group 0 to 5.9320e-05.\nEpoch 850/1100, Loss 0.9191556572914124\nFold 0, Valid Loss 0.9212329387664795 \n\nEpoch   855: reducing learning rate of group 0 to 4.1524e-05.\nEpoch 900/1100, Loss 0.9191470146179199\nFold 0, Valid Loss 0.9211687445640564 \n\nEpoch   906: reducing learning rate of group 0 to 2.9067e-05.\nEpoch 950/1100, Loss 0.9191409349441528\nFold 0, Valid Loss 0.9212198853492737 \n\nEpoch   957: reducing learning rate of group 0 to 2.0347e-05.\nEpoch 1000/1100, Loss 0.9191100001335144\nFold 0, Valid Loss 0.9211633801460266 \n\nEpoch  1008: reducing learning rate of group 0 to 1.4243e-05.\nEpoch 1050/1100, Loss 0.9191003441810608\nFold 0, Valid Loss 0.921142578125 \n\nEpoch  1059: reducing learning rate of group 0 to 9.9699e-06.\nEpoch 0/1100, Loss 1.1023966073989868\nFold 1, Valid Loss 1.040608286857605 \n\nEpoch 50/1100, Loss 0.9272933006286621\nFold 1, Valid Loss 0.9442726373672485 \n\nEpoch    82: reducing learning rate of group 0 to 2.1000e-03.\nEpoch 100/1100, Loss 0.9217854142189026\nFold 1, Valid Loss 0.9395126700401306 \n\nEpoch   133: reducing learning rate of group 0 to 1.4700e-03.\nEpoch 150/1100, Loss 0.9226938486099243\nFold 1, Valid Loss 0.9403412938117981 \n\nEpoch   184: reducing learning rate of group 0 to 1.0290e-03.\nEpoch 200/1100, Loss 0.9215068221092224\nFold 1, Valid Loss 0.9413245916366577 \n\nEpoch   235: reducing learning rate of group 0 to 7.2030e-04.\nEpoch 250/1100, Loss 0.9205710887908936\nFold 1, Valid Loss 0.940369725227356 \n\nEpoch   286: reducing learning rate of group 0 to 5.0421e-04.\nEpoch 300/1100, Loss 0.9204277992248535\nFold 1, Valid Loss 0.9401435256004333 \n\nEpoch   337: reducing learning rate of group 0 to 3.5295e-04.\nEpoch 350/1100, Loss 0.9202115535736084\nFold 1, Valid Loss 0.9391389489173889 \n\nEpoch   388: reducing learning rate of group 0 to 2.4706e-04.\nEpoch 400/1100, Loss 0.9198333621025085\nFold 1, Valid Loss 0.9394450187683105 \n\nEpoch   439: reducing learning rate of group 0 to 1.7294e-04.\nEpoch 450/1100, Loss 0.9193949699401855\nFold 1, Valid Loss 0.9397145509719849 \n\nEpoch   490: reducing learning rate of group 0 to 1.2106e-04.\nEpoch 500/1100, Loss 0.9193967580795288\nFold 1, Valid Loss 0.9394879341125488 \n\nEpoch   541: reducing learning rate of group 0 to 8.4743e-05.\nEpoch 550/1100, Loss 0.9192856550216675\nFold 1, Valid Loss 0.9393481612205505 \n\nEpoch   592: reducing learning rate of group 0 to 5.9320e-05.\nEpoch 600/1100, Loss 0.9191902875900269\nFold 1, Valid Loss 0.93949955701828 \n\nEpoch   643: reducing learning rate of group 0 to 4.1524e-05.\nEpoch 650/1100, Loss 0.919267475605011\nFold 1, Valid Loss 0.9394088387489319 \n\nEpoch   694: reducing learning rate of group 0 to 2.9067e-05.\nEpoch 700/1100, Loss 0.9191968441009521\nFold 1, Valid Loss 0.9393742084503174 \n\nEpoch   745: reducing learning rate of group 0 to 2.0347e-05.\nEpoch 750/1100, Loss 0.9191664457321167\nFold 1, Valid Loss 0.9394426941871643 \n\nEpoch   796: reducing learning rate of group 0 to 1.4243e-05.\nEpoch 800/1100, Loss 0.919142484664917\nFold 1, Valid Loss 0.9394610524177551 \n\nEpoch   847: reducing learning rate of group 0 to 9.9699e-06.\nEpoch 850/1100, Loss 0.9191391468048096\nFold 1, Valid Loss 0.9394765496253967 \n\nEpoch   898: reducing learning rate of group 0 to 6.9789e-06.\nEpoch 900/1100, Loss 0.9191356897354126\nFold 1, Valid Loss 0.9394602179527283 \n\nEpoch   949: reducing learning rate of group 0 to 4.8852e-06.\nEpoch 950/1100, Loss 0.9191340804100037\nFold 1, Valid Loss 0.9394745230674744 \n\nEpoch  1000: reducing learning rate of group 0 to 3.4197e-06.\nEpoch 1000/1100, Loss 0.9191339612007141\nFold 1, Valid Loss 0.9394826292991638 \n\nEpoch  1051: reducing learning rate of group 0 to 2.3938e-06.\nEpoch 1050/1100, Loss 0.9191321134567261\nFold 1, Valid Loss 0.9394519329071045 \n\nEpoch 0/1100, Loss 1.1011308431625366\nFold 2, Valid Loss 0.9869903326034546 \n\nEpoch 50/1100, Loss 0.9301667809486389\nFold 2, Valid Loss 0.9674293398857117 \n\nEpoch    97: reducing learning rate of group 0 to 2.1000e-03.\nEpoch 100/1100, Loss 0.923065185546875\nFold 2, Valid Loss 0.9639500975608826 \n\nEpoch   148: reducing learning rate of group 0 to 1.4700e-03.\nEpoch 150/1100, Loss 0.9224417805671692\nFold 2, Valid Loss 0.9638819098472595 \n\nEpoch   199: reducing learning rate of group 0 to 1.0290e-03.\nEpoch 200/1100, Loss 0.9214816093444824\nFold 2, Valid Loss 0.9620309472084045 \n\nEpoch   250: reducing learning rate of group 0 to 7.2030e-04.\nEpoch 250/1100, Loss 0.9209175705909729\nFold 2, Valid Loss 0.9630313515663147 \n\nEpoch   301: reducing learning rate of group 0 to 5.0421e-04.\nEpoch 300/1100, Loss 0.9212248921394348\nFold 2, Valid Loss 0.9630947113037109 \n\nEpoch 350/1100, Loss 0.9199681878089905\nFold 2, Valid Loss 0.962176501750946 \n\nEpoch   352: reducing learning rate of group 0 to 3.5295e-04.\nEpoch 400/1100, Loss 0.9199069142341614\nFold 2, Valid Loss 0.9619224667549133 \n\nEpoch   403: reducing learning rate of group 0 to 2.4706e-04.\nEpoch 450/1100, Loss 0.9198935627937317\nFold 2, Valid Loss 0.9615211486816406 \n\nEpoch   454: reducing learning rate of group 0 to 1.7294e-04.\nEpoch 500/1100, Loss 0.9195459485054016\nFold 2, Valid Loss 0.9610679745674133 \n\nEpoch   505: reducing learning rate of group 0 to 1.2106e-04.\nEpoch 550/1100, Loss 0.9194880127906799\nFold 2, Valid Loss 0.9608312249183655 \n\nEpoch   556: reducing learning rate of group 0 to 8.4743e-05.\nEpoch 600/1100, Loss 0.9195093512535095\nFold 2, Valid Loss 0.9608986973762512 \n\nEpoch   607: reducing learning rate of group 0 to 5.9320e-05.\nEpoch 650/1100, Loss 0.9193424582481384\nFold 2, Valid Loss 0.9606608152389526 \n\nEpoch   658: reducing learning rate of group 0 to 4.1524e-05.\nEpoch 700/1100, Loss 0.9193242788314819\nFold 2, Valid Loss 0.9606197476387024 \n\nEpoch   709: reducing learning rate of group 0 to 2.9067e-05.\nEpoch 750/1100, Loss 0.9193198680877686\nFold 2, Valid Loss 0.960626482963562 \n\nEpoch   760: reducing learning rate of group 0 to 2.0347e-05.\nEpoch 800/1100, Loss 0.9192978739738464\nFold 2, Valid Loss 0.9606279730796814 \n\nEpoch   811: reducing learning rate of group 0 to 1.4243e-05.\nEpoch 850/1100, Loss 0.9192829728126526\nFold 2, Valid Loss 0.9606255888938904 \n\nEpoch   862: reducing learning rate of group 0 to 9.9699e-06.\nEpoch 900/1100, Loss 0.9192797541618347\nFold 2, Valid Loss 0.9605976343154907 \n\nEpoch   913: reducing learning rate of group 0 to 6.9789e-06.\nEpoch 950/1100, Loss 0.919267475605011\nFold 2, Valid Loss 0.9605889916419983 \n\nEpoch   964: reducing learning rate of group 0 to 4.8852e-06.\nEpoch 1000/1100, Loss 0.9192667603492737\nFold 2, Valid Loss 0.9605837464332581 \n\nEpoch  1015: reducing learning rate of group 0 to 3.4197e-06.\nEpoch 1050/1100, Loss 0.9192682504653931\nFold 2, Valid Loss 0.9605894684791565 \n\nEpoch  1066: reducing learning rate of group 0 to 2.3938e-06.\nEpoch 0/1100, Loss 1.0937981605529785\nFold 3, Valid Loss 1.0309529304504395 \n\nEpoch 50/1100, Loss 0.926376223564148\nFold 3, Valid Loss 0.9335113167762756 \n\nEpoch    95: reducing learning rate of group 0 to 2.1000e-03.\nEpoch 100/1100, Loss 0.9242721796035767\nFold 3, Valid Loss 0.9278901815414429 \n\nEpoch 150/1100, Loss 0.9243128299713135\nFold 3, Valid Loss 0.9270550608634949 \n\nEpoch   175: reducing learning rate of group 0 to 1.4700e-03.\nEpoch 200/1100, Loss 0.9218140244483948\nFold 3, Valid Loss 0.926521897315979 \n\nEpoch   226: reducing learning rate of group 0 to 1.0290e-03.\nEpoch 250/1100, Loss 0.9210007190704346\nFold 3, Valid Loss 0.9248809814453125 \n\nEpoch 300/1100, Loss 0.9219666123390198\nFold 3, Valid Loss 0.9256909489631653 \n\nEpoch 350/1100, Loss 0.9230793118476868\nFold 3, Valid Loss 0.9258283376693726 \n\nEpoch 400/1100, Loss 0.9208526611328125\nFold 3, Valid Loss 0.9233003258705139 \n\nEpoch   447: reducing learning rate of group 0 to 7.2030e-04.\nEpoch 450/1100, Loss 0.9202021956443787\nFold 3, Valid Loss 0.9233822226524353 \n\nEpoch 500/1100, Loss 0.9209775328636169\nFold 3, Valid Loss 0.9229331612586975 \n\nEpoch   512: reducing learning rate of group 0 to 5.0421e-04.\nEpoch 550/1100, Loss 0.9197661876678467\nFold 3, Valid Loss 0.9232171177864075 \n\nEpoch   600: reducing learning rate of group 0 to 3.5295e-04.\nEpoch 600/1100, Loss 0.9197143316268921\nFold 3, Valid Loss 0.922177791595459 \n\nEpoch 650/1100, Loss 0.9196048974990845\nFold 3, Valid Loss 0.9225513935089111 \n\nEpoch   677: reducing learning rate of group 0 to 2.4706e-04.\nEpoch 700/1100, Loss 0.919546365737915\nFold 3, Valid Loss 0.9223955869674683 \n\nEpoch   728: reducing learning rate of group 0 to 1.7294e-04.\nEpoch 750/1100, Loss 0.9194624423980713\nFold 3, Valid Loss 0.9220784902572632 \n\nEpoch   779: reducing learning rate of group 0 to 1.2106e-04.\nEpoch 800/1100, Loss 0.9192149639129639\nFold 3, Valid Loss 0.9219750761985779 \n\nEpoch   830: reducing learning rate of group 0 to 8.4743e-05.\nEpoch 850/1100, Loss 0.9191992282867432\nFold 3, Valid Loss 0.9219990968704224 \n\nEpoch   881: reducing learning rate of group 0 to 5.9320e-05.\nEpoch 900/1100, Loss 0.9191358089447021\nFold 3, Valid Loss 0.9218230843544006 \n\nEpoch   932: reducing learning rate of group 0 to 4.1524e-05.\nEpoch 950/1100, Loss 0.9191170930862427\nFold 3, Valid Loss 0.9217975735664368 \n\nEpoch   983: reducing learning rate of group 0 to 2.9067e-05.\nEpoch 1000/1100, Loss 0.9191107749938965\nFold 3, Valid Loss 0.9217796325683594 \n\nEpoch  1034: reducing learning rate of group 0 to 2.0347e-05.\nEpoch 1050/1100, Loss 0.9190996885299683\nFold 3, Valid Loss 0.9217821359634399 \n\nEpoch  1085: reducing learning rate of group 0 to 1.4243e-05.\nEpoch 0/1100, Loss 1.1085025072097778\nFold 4, Valid Loss 1.032813549041748 \n\nEpoch 50/1100, Loss 0.9268419742584229\nFold 4, Valid Loss 0.9393965005874634 \n\nEpoch    94: reducing learning rate of group 0 to 2.1000e-03.\nEpoch 100/1100, Loss 0.9253058433532715\nFold 4, Valid Loss 0.9398913979530334 \n\nEpoch   145: reducing learning rate of group 0 to 1.4700e-03.\nEpoch 150/1100, Loss 0.9222033023834229\nFold 4, Valid Loss 0.9343006610870361 \n\nEpoch 200/1100, Loss 0.9236452579498291\nFold 4, Valid Loss 0.9332015514373779 \n\nEpoch   224: reducing learning rate of group 0 to 1.0290e-03.\nEpoch 250/1100, Loss 0.9227027893066406\nFold 4, Valid Loss 0.9307017922401428 \n\nEpoch 300/1100, Loss 0.9213065505027771\nFold 4, Valid Loss 0.9303362369537354 \n\nEpoch 350/1100, Loss 0.9209399223327637\nFold 4, Valid Loss 0.9291337728500366 \n\nEpoch 400/1100, Loss 0.9210269451141357\nFold 4, Valid Loss 0.9289015531539917 \n\nEpoch   405: reducing learning rate of group 0 to 7.2030e-04.\nEpoch 450/1100, Loss 0.9208784103393555\nFold 4, Valid Loss 0.9272554516792297 \n\nEpoch 500/1100, Loss 0.9204029440879822\nFold 4, Valid Loss 0.9281294941902161 \n\nEpoch 550/1100, Loss 0.9209095239639282\nFold 4, Valid Loss 0.9293783903121948 \n\nEpoch   595: reducing learning rate of group 0 to 5.0421e-04.\nEpoch 600/1100, Loss 0.9201341867446899\nFold 4, Valid Loss 0.9277594089508057 \n\nEpoch   646: reducing learning rate of group 0 to 3.5295e-04.\nEpoch 650/1100, Loss 0.9199816584587097\nFold 4, Valid Loss 0.9274895787239075 \n\nEpoch 700/1100, Loss 0.9195890426635742\nFold 4, Valid Loss 0.9270323514938354 \n\nEpoch   735: reducing learning rate of group 0 to 2.4706e-04.\nEpoch 750/1100, Loss 0.9196192622184753\nFold 4, Valid Loss 0.926755428314209 \n\nEpoch 800/1100, Loss 0.9198634028434753\nFold 4, Valid Loss 0.926586389541626 \n\nEpoch 850/1100, Loss 0.9194259643554688\nFold 4, Valid Loss 0.9266458749771118 \n\nEpoch   877: reducing learning rate of group 0 to 1.7294e-04.\nEpoch 900/1100, Loss 0.9192829728126526\nFold 4, Valid Loss 0.9262760281562805 \n\nEpoch   928: reducing learning rate of group 0 to 1.2106e-04.\nEpoch 950/1100, Loss 0.9193177819252014\nFold 4, Valid Loss 0.9262964725494385 \n\nEpoch 1000/1100, Loss 0.9192098379135132\nFold 4, Valid Loss 0.9262989163398743 \n\nEpoch  1030: reducing learning rate of group 0 to 8.4743e-05.\nEpoch 1050/1100, Loss 0.9192398190498352\nFold 4, Valid Loss 0.9261714220046997 \n\nEpoch  1081: reducing learning rate of group 0 to 5.9320e-05.\n"
    }
   ],
   "source": [
    "for fold, (train_index, test_index) in enumerate(kf.split(TRAIN_PATIENTS)):\n",
    "    model = PulmonaryModel(len(FV))\n",
    "    model = model.to(DEVICE)\n",
    "\n",
    "    df_train = train_df.iloc[train_index].reset_index(drop=True)\n",
    "    df_valid = train_df.iloc[test_index].reset_index(drop=True)\n",
    "\n",
    "    train_dataset = PulmonaryDataset(df_train, FV)\n",
    "    valid_dataset = PulmonaryDataset(df_valid, FV)\n",
    "\n",
    "    train_data_loader = torch.utils.data.DataLoader(\n",
    "        train_dataset,\n",
    "        batch_size=10,\n",
    "        shuffle=True,\n",
    "        num_workers=4\n",
    "    )\n",
    "\n",
    "    valid_data_loader = torch.utils.data.DataLoader(\n",
    "        valid_dataset,\n",
    "        batch_size=4,\n",
    "        shuffle=False,\n",
    "        num_workers=4\n",
    "    )\n",
    "\n",
    "    optimizer = torch.optim.Adam(model.parameters(), lr=LEARNING_RATE)\n",
    "    lr_scheduler = torch.optim.lr_scheduler.ReduceLROnPlateau(optimizer, patience=50, factor=0.7, verbose=True)\n",
    "\n",
    "    best_valid_loss = float('inf')\n",
    "\n",
    "    \n",
    "    # tq = tqdm(range(NUM_EPOCHS), desc=f\"Fold {fold}\")\n",
    "    for epoch in range(NUM_EPOCHS):\n",
    "        train_loss = AverageMeter()\n",
    "        valid_loss = AverageMeter()\n",
    "\n",
    "        train_one_epoch(model, train_data_loader, optimizer, train_loss)\n",
    "        eval_one_epoch(model, valid_data_loader, valid_loss, lr_scheduler)\n",
    "\n",
    "        if epoch % PRINT_EVERY == 0:\n",
    "            print(f\"Epoch {epoch}/{NUM_EPOCHS}, Loss {train_loss.avg}\")\n",
    "            print(f\"Fold {fold}, Valid Loss {valid_loss.avg} \\n\")\n",
    "        \n",
    "        # tq.set_postfix(val_loss=valid_loss.avg.item())\n",
    "\n",
    "        if valid_loss.avg < best_valid_loss:\n",
    "            best_valid_loss = valid_loss.avg\n",
    "            torch.save({\n",
    "                'model_state_dict': model.state_dict(),\n",
    "                'optimizer_state_dict': optimizer.state_dict(),\n",
    "            }, os.path.join(CONFIG.CFG.DATA.MODELS_OUT, f\"model_fold_{fold}.pt\"))"
   ]
  },
  {
   "cell_type": "code",
   "execution_count": 29,
   "metadata": {},
   "outputs": [],
   "source": [
    "CONFIG.upload_to_kaggle(\"osicqrmodel\", \"OSIC QR Model\", new=False)"
   ]
  },
  {
   "cell_type": "code",
   "execution_count": 31,
   "metadata": {},
   "outputs": [],
   "source": [
    "models = []\n",
    "for fold in range(K_FOLDS):\n",
    "    model = PulmonaryModel(len(FV))\n",
    "    model = model.to(DEVICE)\n",
    "    checkpoint = torch.load(os.path.join(CONFIG.CFG.DATA.MODELS_OUT, f\"model_fold_{fold}.pt\"))\n",
    "    model.load_state_dict(checkpoint['model_state_dict'])\n",
    "    models.append(model)"
   ]
  },
  {
   "cell_type": "code",
   "execution_count": 32,
   "metadata": {},
   "outputs": [],
   "source": [
    "test_dataset = PulmonaryDataset(sub_df, FV)\n",
    "test_data_loader = torch.utils.data.DataLoader(\n",
    "    test_dataset,\n",
    "    batch_size=4,\n",
    "    shuffle=False,\n",
    "    num_workers=4\n",
    ")"
   ]
  },
  {
   "cell_type": "code",
   "execution_count": 33,
   "metadata": {
    "tags": []
   },
   "outputs": [],
   "source": [
    "avg_preds = np.zeros((len(test_dataset), len(QUANTILES)))\n",
    "with torch.no_grad():\n",
    "    for model in models:\n",
    "        preds = []\n",
    "        for j, test_data in enumerate(test_data_loader):\n",
    "            features = test_data['features']\n",
    "            targets = test_data['target']\n",
    "\n",
    "            features = features.to(DEVICE).float()\n",
    "            targets = targets.to(DEVICE).float()\n",
    "\n",
    "            out = model(features)\n",
    "            preds.append(out)\n",
    "        preds = torch.cat(preds, dim=0).cpu().numpy()\n",
    "        avg_preds += preds\n",
    "avg_preds /= len(models)"
   ]
  },
  {
   "cell_type": "code",
   "execution_count": 34,
   "metadata": {},
   "outputs": [
    {
     "output_type": "execute_result",
     "data": {
      "text/plain": "array([[0.38832836, 0.39305794, 0.39629872],\n       [0.38851438, 0.39323218, 0.39649348],\n       [0.38869387, 0.39340117, 0.39668609],\n       ...,\n       [0.37185209, 0.37842799, 0.38056577],\n       [0.37173871, 0.37830186, 0.38043022],\n       [0.37163655, 0.37818847, 0.38030535]])"
     },
     "metadata": {},
     "execution_count": 34
    }
   ],
   "source": [
    "avg_preds"
   ]
  },
  {
   "cell_type": "code",
   "execution_count": 35,
   "metadata": {},
   "outputs": [],
   "source": [
    "# inverse the scaling operation for FVC\n",
    "avg_preds -= MIN_MAX_SCALER.min_[SCALE_COLUMNS.index('FVC')]\n",
    "avg_preds /= MIN_MAX_SCALER.scale_[SCALE_COLUMNS.index('FVC')]"
   ]
  },
  {
   "cell_type": "code",
   "execution_count": 36,
   "metadata": {},
   "outputs": [
    {
     "output_type": "execute_result",
     "data": {
      "text/plain": "array([[2990.76559713, 3017.11882179, 3035.17645922],\n       [2991.80210133, 3018.08973286, 3036.26168499],\n       [2992.8022387 , 3019.031318  , 3037.33488812],\n       [2993.78653409, 3019.95898743, 3038.39929016],\n       [2994.60254576, 3020.72235854, 3039.28617561],\n       [2995.2199182 , 3021.29542656, 3039.96880906],\n       [2995.85748336, 3021.88516686, 3040.66442828],\n       [2996.53154819, 3022.50599332, 3041.3838603 ],\n       [2997.20561302, 3023.12672014, 3042.10309305],\n       [2997.87977748, 3023.74751339, 3042.82255828],\n       [2998.55384231, 3024.36824021, 3043.54192388],\n       [2999.20621989, 3024.96937213, 3044.2386723 ],\n       [2999.58808811, 3025.31102097, 3044.66517706],\n       [2999.82980292, 3025.51035764, 3044.95846965],\n       [3000.07148452, 3025.70949504, 3045.25186188],\n       [3000.31329896, 3025.90896456, 3045.54525411],\n       [3000.55494735, 3026.1082016 , 3045.83851349],\n       [3000.79672859, 3026.30763791, 3046.13190572],\n       [3001.10842047, 3026.61106007, 3046.52818782],\n       [3001.31380167, 3026.83440881, 3046.80248332],\n       [3001.51107922, 3027.04553564, 3047.07103319],\n       [3001.57932928, 3027.13258352, 3047.21357784],\n       [3001.611445  , 3027.18452663, 3047.31895859],\n       [3001.64352751, 3027.23660259, 3047.42410686],\n       [3001.67570965, 3027.28864534, 3047.5294544 ],\n       [3001.70792501, 3027.3407213 , 3047.6347023 ],\n       [3001.74014037, 3027.39256477, 3047.73998342],\n       [3001.7722893 , 3027.44467394, 3047.84519811],\n       [3001.80437181, 3027.49658384, 3047.95047922],\n       [3001.80726123, 3027.55271163, 3048.04858661],\n       [3001.8046375 , 3027.60877299, 3048.14423633],\n       [3001.78643749, 3027.65938764, 3048.22407727],\n       [3001.76840353, 3027.70980301, 3048.30395143],\n       [3001.75013709, 3027.76045086, 3048.38379238],\n       [3001.73193707, 3027.81093266, 3048.46350048],\n       [3001.73884511, 3027.88459623, 3048.57422831],\n       [3001.75382359, 3027.96589849, 3048.69501929],\n       [3001.76890171, 3028.0470679 , 3048.81577706],\n       [3001.78394661, 3028.12830374, 3048.93656805],\n       [3001.80304334, 3028.21222973, 3049.05905282],\n       [3001.83618863, 3028.30598638, 3049.186619  ],\n       [3001.87421603, 3028.40223391, 3049.31773882],\n       [3001.92552812, 3028.50499094, 3049.45802507],\n       [3001.97664094, 3028.60748227, 3049.59824491],\n       [3002.02788661, 3028.71004002, 3049.73856437],\n       [3002.07899942, 3028.81286347, 3049.87868457],\n       [3002.13014545, 3028.9153548 , 3050.01897082],\n       [3002.17375243, 3029.01216693, 3050.15513883],\n       [3002.21569881, 3029.10781665, 3050.29034369],\n       [3002.25781126, 3029.20339994, 3050.42551534],\n       [3002.29989049, 3029.29911609, 3050.56085305],\n       [3002.34190331, 3029.39476581, 3050.69595828],\n       [3002.3838829 , 3029.49041553, 3050.83126278],\n       [3002.42599535, 3029.58613167, 3050.96643443],\n       [3002.46741035, 3029.68217993, 3051.10067616],\n       [3002.38773546, 3029.61369739, 3051.04255567],\n       [3002.19593785, 3029.40868151, 3050.80090728],\n       [3001.96159604, 3029.17749481, 3050.51704681],\n       [3001.64462349, 3028.88015039, 3050.14221947],\n       [3001.31051371, 3028.56716325, 3049.75145051],\n       [3000.96258786, 3028.23976223, 3049.35008702],\n       [3000.61462879, 3027.91212873, 3048.94875674],\n       [3000.26969199, 3027.58459487, 3048.54931953],\n       [2999.9279103 , 3027.2567621 , 3048.1521075 ],\n       [2999.58606219, 3026.92916181, 3047.75489547],\n       [2999.24438014, 3026.60132904, 3047.35768344],\n       [2998.90263166, 3026.27342985, 3046.96050463],\n       [2998.56094961, 3025.94569671, 3046.56325939],\n       [2998.2191015 , 3025.61799679, 3046.16598094],\n       [2997.87745266, 3025.29013081, 3045.76870248],\n       [2997.53560455, 3024.96239767, 3045.37152367],\n       [2997.19408855, 3024.63446527, 3044.97434485],\n       [2996.89896932, 3024.36860554, 3044.6462796 ],\n       [2996.6714359 , 3024.19181962, 3044.41814837],\n       [2996.44386928, 3024.01523297, 3044.19005036],\n       [2996.21686726, 3023.8391777 , 3043.96245053],\n       [2995.99378421, 3023.66770566, 3043.73860362],\n       [2995.84854941, 3023.57265375, 3043.59798524],\n       [2995.71005659, 3023.48042483, 3043.46244826],\n       [2995.55621996, 3023.33147032, 3043.28652585],\n       [2995.40248296, 3023.18241618, 3043.11066985],\n       [2995.24881239, 3023.03329561, 3042.93474743],\n       [2995.09477649, 3022.88394256, 3042.76118305],\n       [2994.92918291, 3022.72113876, 3042.57875113],\n       [2994.76352291, 3022.55826855, 3042.39645207],\n       [2994.65628231, 3022.44803889, 3042.27114429],\n       [2994.63904543, 3022.4185801 , 3042.23381433],\n       [2994.62170892, 3022.38905489, 3042.19648438],\n       [2994.60440562, 3022.35943005, 3042.15908799],\n       [2994.58723516, 3022.32993805, 3042.12175803],\n       [2994.56611252, 3022.29798839, 3042.08070836],\n       [2994.52708876, 3022.2531858 , 3042.02155831],\n       [2994.48789895, 3022.20828357, 3041.96237504],\n       [2994.4489084 , 3022.1635474 , 3041.90339105],\n       [2994.45691242, 3022.1635474 , 3041.89455674],\n       [2994.38162148, 3022.07952178, 3041.81551287],\n       [2994.30812397, 3021.97241402, 3041.71026497],\n       [2994.2545867 , 3021.8838716 , 3041.62281854],\n       [2994.20108263, 3021.79526277, 3041.53520606],\n       [2994.15727639, 3021.71781306, 3041.46084504]])"
     },
     "metadata": {},
     "execution_count": 36
    }
   ],
   "source": [
    "avg_preds[:100]"
   ]
  },
  {
   "cell_type": "code",
   "execution_count": null,
   "metadata": {},
   "outputs": [],
   "source": []
  }
 ]
}