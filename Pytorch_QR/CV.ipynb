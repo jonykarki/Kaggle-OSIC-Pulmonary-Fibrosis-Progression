{
 "metadata": {
  "language_info": {
   "codemirror_mode": {
    "name": "ipython",
    "version": 3
   },
   "file_extension": ".py",
   "mimetype": "text/x-python",
   "name": "python",
   "nbconvert_exporter": "python",
   "pygments_lexer": "ipython3",
   "version": "3.6.9-final"
  },
  "orig_nbformat": 2,
  "kernelspec": {
   "name": "python3",
   "display_name": "Python 3"
  }
 },
 "nbformat": 4,
 "nbformat_minor": 2,
 "cells": [
  {
   "cell_type": "code",
   "execution_count": 1,
   "metadata": {},
   "outputs": [],
   "source": [
    "import sys, os\n",
    "if os.path.abspath(os.pardir) not in sys.path:\n",
    "    sys.path.insert(0, os.path.abspath(os.pardir))\n",
    "import CONFIG\n",
    "%reload_ext autoreload\n",
    "%autoreload 2"
   ]
  },
  {
   "cell_type": "code",
   "execution_count": 2,
   "metadata": {},
   "outputs": [],
   "source": [
    "import numpy as np\n",
    "import pandas as pd\n",
    "import random\n",
    "import torch\n",
    "import torch.nn as nn\n",
    "import torch.nn.functional as F\n",
    "from sklearn import preprocessing\n",
    "from sklearn import model_selection\n",
    "from tqdm.autonotebook import tqdm"
   ]
  },
  {
   "cell_type": "code",
   "execution_count": 3,
   "metadata": {},
   "outputs": [],
   "source": [
    "DATA_DIR = CONFIG.CFG.DATA.BASE\n",
    "K_FOLDS = 5\n",
    "BATCH_SIZE = 32\n",
    "LEARNING_RATE = 3e-3\n",
    "NUM_EPOCHS = 1100\n",
    "# print loss every\n",
    "PRINT_EVERY = 50\n",
    "\n",
    "QUANTILES = [0.2, 0.5, 0.8]\n",
    "SCALE_COLUMNS = ['Weeks', 'FVC', 'Age'] #'Percent'\n",
    "SEX_COLUMNS = ['Male', 'Female']\n",
    "SMOKING_STATUS_COLUMNS = ['Currently smokes', 'Ex-smoker', 'Never smoked']\n",
    "FV = SEX_COLUMNS + SMOKING_STATUS_COLUMNS + SCALE_COLUMNS\n",
    "DEVICE = torch.device('cuda') if torch.cuda.is_available() else torch.device('cpu')"
   ]
  },
  {
   "cell_type": "code",
   "execution_count": 4,
   "metadata": {},
   "outputs": [],
   "source": [
    "def seed_everything(seed):\n",
    "    random.seed(seed)\n",
    "    os.environ['PYTHONHASHSEED'] = str(seed)\n",
    "    np.random.seed(seed)\n",
    "    torch.manual_seed(seed)\n",
    "    torch.cuda.manual_seed(seed)\n",
    "    torch.backends.cudnn.deterministic = True\n",
    "    torch.backends.cudnn.benchmark = True\n",
    "\n",
    "seed_everything(42)"
   ]
  },
  {
   "cell_type": "code",
   "execution_count": 5,
   "metadata": {},
   "outputs": [],
   "source": [
    "kf = model_selection.KFold(K_FOLDS)\n",
    "MIN_MAX_SCALER = preprocessing.MinMaxScaler()"
   ]
  },
  {
   "cell_type": "code",
   "execution_count": 6,
   "metadata": {},
   "outputs": [],
   "source": [
    "train_df = pd.read_csv(os.path.join(DATA_DIR, \"train.csv\"))\n",
    "train_df.drop_duplicates(keep=False, inplace=True, subset=['Patient', 'Weeks'])\n",
    "test_df = pd.read_csv(os.path.join(DATA_DIR, \"test.csv\"))"
   ]
  },
  {
   "cell_type": "code",
   "execution_count": 7,
   "metadata": {},
   "outputs": [],
   "source": [
    "train_df[SCALE_COLUMNS] = MIN_MAX_SCALER.fit_transform(train_df[SCALE_COLUMNS])"
   ]
  },
  {
   "cell_type": "code",
   "execution_count": 8,
   "metadata": {},
   "outputs": [],
   "source": [
    "# convert categoricals into dummies\n",
    "train_df['Sex'] = pd.Categorical(train_df['Sex'], categories=SEX_COLUMNS)\n",
    "train_df['SmokingStatus'] = pd.Categorical(train_df['SmokingStatus'], categories=SMOKING_STATUS_COLUMNS)\n",
    "train_df = train_df.join(pd.get_dummies(train_df['Sex']))\n",
    "train_df = train_df.join(pd.get_dummies(train_df['SmokingStatus']))"
   ]
  },
  {
   "cell_type": "code",
   "execution_count": 9,
   "metadata": {
    "tags": []
   },
   "outputs": [],
   "source": [
    "# REMOVE THE ONES FROM THE TRAIN_DF THAT ARE PRESENT IN TEST_DF AS WELL\n",
    "TEST_PATIENTS = test_df['Patient'].unique().tolist()\n",
    "valid_df = train_df[train_df['Patient'].isin(TEST_PATIENTS)]\n",
    "train_df = train_df[~train_df['Patient'].isin(TEST_PATIENTS)]\n",
    "TRAIN_PATIENTS = train_df['Patient'].unique().tolist()"
   ]
  },
  {
   "cell_type": "code",
   "execution_count": 10,
   "metadata": {},
   "outputs": [
    {
     "output_type": "execute_result",
     "data": {
      "text/html": "<div>\n<style scoped>\n    .dataframe tbody tr th:only-of-type {\n        vertical-align: middle;\n    }\n\n    .dataframe tbody tr th {\n        vertical-align: top;\n    }\n\n    .dataframe thead th {\n        text-align: right;\n    }\n</style>\n<table border=\"1\" class=\"dataframe\">\n  <thead>\n    <tr style=\"text-align: right;\">\n      <th></th>\n      <th>Patient</th>\n      <th>Weeks</th>\n      <th>FVC</th>\n      <th>Percent</th>\n      <th>Age</th>\n      <th>Sex</th>\n      <th>SmokingStatus</th>\n      <th>Male</th>\n      <th>Female</th>\n      <th>Currently smokes</th>\n      <th>Ex-smoker</th>\n      <th>Never smoked</th>\n    </tr>\n  </thead>\n  <tbody>\n    <tr>\n      <th>1504</th>\n      <td>ID00419637202311204720264</td>\n      <td>0.079710</td>\n      <td>0.393575</td>\n      <td>70.186855</td>\n      <td>0.615385</td>\n      <td>Male</td>\n      <td>Ex-smoker</td>\n      <td>1</td>\n      <td>0</td>\n      <td>0</td>\n      <td>1</td>\n      <td>0</td>\n    </tr>\n    <tr>\n      <th>1505</th>\n      <td>ID00419637202311204720264</td>\n      <td>0.086957</td>\n      <td>0.364681</td>\n      <td>66.445106</td>\n      <td>0.615385</td>\n      <td>Male</td>\n      <td>Ex-smoker</td>\n      <td>1</td>\n      <td>0</td>\n      <td>0</td>\n      <td>1</td>\n      <td>0</td>\n    </tr>\n    <tr>\n      <th>1506</th>\n      <td>ID00419637202311204720264</td>\n      <td>0.101449</td>\n      <td>0.351041</td>\n      <td>64.678814</td>\n      <td>0.615385</td>\n      <td>Male</td>\n      <td>Ex-smoker</td>\n      <td>1</td>\n      <td>0</td>\n      <td>0</td>\n      <td>1</td>\n      <td>0</td>\n    </tr>\n    <tr>\n      <th>1507</th>\n      <td>ID00419637202311204720264</td>\n      <td>0.108696</td>\n      <td>0.339555</td>\n      <td>63.191410</td>\n      <td>0.615385</td>\n      <td>Male</td>\n      <td>Ex-smoker</td>\n      <td>1</td>\n      <td>0</td>\n      <td>0</td>\n      <td>1</td>\n      <td>0</td>\n    </tr>\n    <tr>\n      <th>1508</th>\n      <td>ID00419637202311204720264</td>\n      <td>0.130435</td>\n      <td>0.342965</td>\n      <td>63.632983</td>\n      <td>0.615385</td>\n      <td>Male</td>\n      <td>Ex-smoker</td>\n      <td>1</td>\n      <td>0</td>\n      <td>0</td>\n      <td>1</td>\n      <td>0</td>\n    </tr>\n  </tbody>\n</table>\n</div>",
      "text/plain": "                        Patient     Weeks  ...  Ex-smoker  Never smoked\n1504  ID00419637202311204720264  0.079710  ...          1             0\n1505  ID00419637202311204720264  0.086957  ...          1             0\n1506  ID00419637202311204720264  0.101449  ...          1             0\n1507  ID00419637202311204720264  0.108696  ...          1             0\n1508  ID00419637202311204720264  0.130435  ...          1             0\n\n[5 rows x 12 columns]"
     },
     "metadata": {},
     "execution_count": 10
    }
   ],
   "source": [
    "valid_df.head()"
   ]
  },
  {
   "cell_type": "code",
   "execution_count": 11,
   "metadata": {},
   "outputs": [
    {
     "output_type": "execute_result",
     "data": {
      "text/html": "<div>\n<style scoped>\n    .dataframe tbody tr th:only-of-type {\n        vertical-align: middle;\n    }\n\n    .dataframe tbody tr th {\n        vertical-align: top;\n    }\n\n    .dataframe thead th {\n        text-align: right;\n    }\n</style>\n<table border=\"1\" class=\"dataframe\">\n  <thead>\n    <tr style=\"text-align: right;\">\n      <th></th>\n      <th>Patient</th>\n      <th>Weeks</th>\n      <th>FVC</th>\n      <th>Percent</th>\n      <th>Age</th>\n      <th>Sex</th>\n      <th>SmokingStatus</th>\n      <th>Male</th>\n      <th>Female</th>\n      <th>Currently smokes</th>\n      <th>Ex-smoker</th>\n      <th>Never smoked</th>\n    </tr>\n  </thead>\n  <tbody>\n    <tr>\n      <th>0</th>\n      <td>ID00007637202177411956430</td>\n      <td>0.007246</td>\n      <td>0.267050</td>\n      <td>58.253649</td>\n      <td>0.769231</td>\n      <td>Male</td>\n      <td>Ex-smoker</td>\n      <td>1</td>\n      <td>0</td>\n      <td>0</td>\n      <td>1</td>\n      <td>0</td>\n    </tr>\n    <tr>\n      <th>1</th>\n      <td>ID00007637202177411956430</td>\n      <td>0.072464</td>\n      <td>0.248923</td>\n      <td>55.712129</td>\n      <td>0.769231</td>\n      <td>Male</td>\n      <td>Ex-smoker</td>\n      <td>1</td>\n      <td>0</td>\n      <td>0</td>\n      <td>1</td>\n      <td>0</td>\n    </tr>\n    <tr>\n      <th>2</th>\n      <td>ID00007637202177411956430</td>\n      <td>0.086957</td>\n      <td>0.221464</td>\n      <td>51.862104</td>\n      <td>0.769231</td>\n      <td>Male</td>\n      <td>Ex-smoker</td>\n      <td>1</td>\n      <td>0</td>\n      <td>0</td>\n      <td>1</td>\n      <td>0</td>\n    </tr>\n    <tr>\n      <th>3</th>\n      <td>ID00007637202177411956430</td>\n      <td>0.101449</td>\n      <td>0.236360</td>\n      <td>53.950679</td>\n      <td>0.769231</td>\n      <td>Male</td>\n      <td>Ex-smoker</td>\n      <td>1</td>\n      <td>0</td>\n      <td>0</td>\n      <td>1</td>\n      <td>0</td>\n    </tr>\n    <tr>\n      <th>4</th>\n      <td>ID00007637202177411956430</td>\n      <td>0.115942</td>\n      <td>0.222900</td>\n      <td>52.063412</td>\n      <td>0.769231</td>\n      <td>Male</td>\n      <td>Ex-smoker</td>\n      <td>1</td>\n      <td>0</td>\n      <td>0</td>\n      <td>1</td>\n      <td>0</td>\n    </tr>\n  </tbody>\n</table>\n</div>",
      "text/plain": "                     Patient     Weeks  ...  Ex-smoker  Never smoked\n0  ID00007637202177411956430  0.007246  ...          1             0\n1  ID00007637202177411956430  0.072464  ...          1             0\n2  ID00007637202177411956430  0.086957  ...          1             0\n3  ID00007637202177411956430  0.101449  ...          1             0\n4  ID00007637202177411956430  0.115942  ...          1             0\n\n[5 rows x 12 columns]"
     },
     "metadata": {},
     "execution_count": 11
    }
   ],
   "source": [
    "train_df.head()"
   ]
  },
  {
   "cell_type": "code",
   "execution_count": 12,
   "metadata": {},
   "outputs": [
    {
     "output_type": "execute_result",
     "data": {
      "text/html": "<div>\n<style scoped>\n    .dataframe tbody tr th:only-of-type {\n        vertical-align: middle;\n    }\n\n    .dataframe tbody tr th {\n        vertical-align: top;\n    }\n\n    .dataframe thead th {\n        text-align: right;\n    }\n</style>\n<table border=\"1\" class=\"dataframe\">\n  <thead>\n    <tr style=\"text-align: right;\">\n      <th></th>\n      <th>Patient_Week</th>\n      <th>FVC</th>\n      <th>Confidence</th>\n      <th>Patient</th>\n      <th>Weeks</th>\n    </tr>\n  </thead>\n  <tbody>\n    <tr>\n      <th>0</th>\n      <td>ID00419637202311204720264_-12</td>\n      <td>2000</td>\n      <td>100</td>\n      <td>ID00419637202311204720264</td>\n      <td>-12</td>\n    </tr>\n    <tr>\n      <th>1</th>\n      <td>ID00421637202311550012437_-12</td>\n      <td>2000</td>\n      <td>100</td>\n      <td>ID00421637202311550012437</td>\n      <td>-12</td>\n    </tr>\n    <tr>\n      <th>2</th>\n      <td>ID00422637202311677017371_-12</td>\n      <td>2000</td>\n      <td>100</td>\n      <td>ID00422637202311677017371</td>\n      <td>-12</td>\n    </tr>\n    <tr>\n      <th>3</th>\n      <td>ID00423637202312137826377_-12</td>\n      <td>2000</td>\n      <td>100</td>\n      <td>ID00423637202312137826377</td>\n      <td>-12</td>\n    </tr>\n    <tr>\n      <th>4</th>\n      <td>ID00426637202313170790466_-12</td>\n      <td>2000</td>\n      <td>100</td>\n      <td>ID00426637202313170790466</td>\n      <td>-12</td>\n    </tr>\n  </tbody>\n</table>\n</div>",
      "text/plain": "                    Patient_Week   FVC  ...                    Patient Weeks\n0  ID00419637202311204720264_-12  2000  ...  ID00419637202311204720264   -12\n1  ID00421637202311550012437_-12  2000  ...  ID00421637202311550012437   -12\n2  ID00422637202311677017371_-12  2000  ...  ID00422637202311677017371   -12\n3  ID00423637202312137826377_-12  2000  ...  ID00423637202312137826377   -12\n4  ID00426637202313170790466_-12  2000  ...  ID00426637202313170790466   -12\n\n[5 rows x 5 columns]"
     },
     "metadata": {},
     "execution_count": 12
    }
   ],
   "source": [
    "sub_df = pd.read_csv(os.path.join(DATA_DIR, \"sample_submission.csv\"))\n",
    "sub_df['Patient'] = sub_df['Patient_Week'].apply(lambda x: x.split('_')[0])\n",
    "sub_df['Weeks'] = sub_df['Patient_Week'].apply(lambda x: int(x.split('_')[-1]))\n",
    "sub_df.head()"
   ]
  },
  {
   "cell_type": "code",
   "execution_count": 13,
   "metadata": {},
   "outputs": [],
   "source": [
    "sub_df = sub_df.drop('FVC', axis=1).merge(test_df.drop('Weeks', axis=1), on='Patient')"
   ]
  },
  {
   "cell_type": "code",
   "execution_count": 14,
   "metadata": {},
   "outputs": [],
   "source": [
    "# have to make it categorical coz sub's sex column has males only\n",
    "sub_df['Sex'] = pd.Categorical(sub_df['Sex'], categories=SEX_COLUMNS)\n",
    "sub_df['SmokingStatus'] = pd.Categorical(sub_df['SmokingStatus'], categories=SMOKING_STATUS_COLUMNS)"
   ]
  },
  {
   "cell_type": "code",
   "execution_count": 15,
   "metadata": {},
   "outputs": [],
   "source": [
    "sub_df = sub_df.join(pd.get_dummies(sub_df['Sex']))\n",
    "sub_df = sub_df.join(pd.get_dummies(sub_df['SmokingStatus']))"
   ]
  },
  {
   "cell_type": "code",
   "execution_count": 16,
   "metadata": {},
   "outputs": [
    {
     "output_type": "execute_result",
     "data": {
      "text/html": "<div>\n<style scoped>\n    .dataframe tbody tr th:only-of-type {\n        vertical-align: middle;\n    }\n\n    .dataframe tbody tr th {\n        vertical-align: top;\n    }\n\n    .dataframe thead th {\n        text-align: right;\n    }\n</style>\n<table border=\"1\" class=\"dataframe\">\n  <thead>\n    <tr style=\"text-align: right;\">\n      <th></th>\n      <th>Patient_Week</th>\n      <th>Confidence</th>\n      <th>Patient</th>\n      <th>Weeks</th>\n      <th>FVC</th>\n      <th>Percent</th>\n      <th>Age</th>\n      <th>Sex</th>\n      <th>SmokingStatus</th>\n      <th>Male</th>\n      <th>Female</th>\n      <th>Currently smokes</th>\n      <th>Ex-smoker</th>\n      <th>Never smoked</th>\n    </tr>\n  </thead>\n  <tbody>\n    <tr>\n      <th>0</th>\n      <td>ID00419637202311204720264_-12</td>\n      <td>100</td>\n      <td>ID00419637202311204720264</td>\n      <td>-0.050725</td>\n      <td>0.393575</td>\n      <td>70.186855</td>\n      <td>0.615385</td>\n      <td>Male</td>\n      <td>Ex-smoker</td>\n      <td>1</td>\n      <td>0</td>\n      <td>0</td>\n      <td>1</td>\n      <td>0</td>\n    </tr>\n    <tr>\n      <th>1</th>\n      <td>ID00419637202311204720264_-11</td>\n      <td>100</td>\n      <td>ID00419637202311204720264</td>\n      <td>-0.043478</td>\n      <td>0.393575</td>\n      <td>70.186855</td>\n      <td>0.615385</td>\n      <td>Male</td>\n      <td>Ex-smoker</td>\n      <td>1</td>\n      <td>0</td>\n      <td>0</td>\n      <td>1</td>\n      <td>0</td>\n    </tr>\n    <tr>\n      <th>2</th>\n      <td>ID00419637202311204720264_-10</td>\n      <td>100</td>\n      <td>ID00419637202311204720264</td>\n      <td>-0.036232</td>\n      <td>0.393575</td>\n      <td>70.186855</td>\n      <td>0.615385</td>\n      <td>Male</td>\n      <td>Ex-smoker</td>\n      <td>1</td>\n      <td>0</td>\n      <td>0</td>\n      <td>1</td>\n      <td>0</td>\n    </tr>\n    <tr>\n      <th>3</th>\n      <td>ID00419637202311204720264_-9</td>\n      <td>100</td>\n      <td>ID00419637202311204720264</td>\n      <td>-0.028986</td>\n      <td>0.393575</td>\n      <td>70.186855</td>\n      <td>0.615385</td>\n      <td>Male</td>\n      <td>Ex-smoker</td>\n      <td>1</td>\n      <td>0</td>\n      <td>0</td>\n      <td>1</td>\n      <td>0</td>\n    </tr>\n    <tr>\n      <th>4</th>\n      <td>ID00419637202311204720264_-8</td>\n      <td>100</td>\n      <td>ID00419637202311204720264</td>\n      <td>-0.021739</td>\n      <td>0.393575</td>\n      <td>70.186855</td>\n      <td>0.615385</td>\n      <td>Male</td>\n      <td>Ex-smoker</td>\n      <td>1</td>\n      <td>0</td>\n      <td>0</td>\n      <td>1</td>\n      <td>0</td>\n    </tr>\n  </tbody>\n</table>\n</div>",
      "text/plain": "                    Patient_Week  Confidence  ... Ex-smoker  Never smoked\n0  ID00419637202311204720264_-12         100  ...         1             0\n1  ID00419637202311204720264_-11         100  ...         1             0\n2  ID00419637202311204720264_-10         100  ...         1             0\n3   ID00419637202311204720264_-9         100  ...         1             0\n4   ID00419637202311204720264_-8         100  ...         1             0\n\n[5 rows x 14 columns]"
     },
     "metadata": {},
     "execution_count": 16
    }
   ],
   "source": [
    "sub_df[SCALE_COLUMNS] = MIN_MAX_SCALER.transform(sub_df[SCALE_COLUMNS])\n",
    "sub_df.head()"
   ]
  },
  {
   "cell_type": "code",
   "execution_count": 17,
   "metadata": {},
   "outputs": [],
   "source": [
    "class PulmonaryDataset(torch.utils.data.Dataset):\n",
    "    def __init__(self, df, FV, test=False):\n",
    "        self.df = df\n",
    "        self.test = test\n",
    "        self.FV = FV\n",
    "\n",
    "    def __getitem__(self, idx):\n",
    "        return {\n",
    "            'features': torch.tensor(self.df[self.FV].iloc[idx].values),\n",
    "            'target': torch.tensor(self.df['FVC'].iloc[idx])\n",
    "        }\n",
    "\n",
    "    def __len__(self):\n",
    "        return len(self.df)"
   ]
  },
  {
   "cell_type": "code",
   "execution_count": 18,
   "metadata": {},
   "outputs": [],
   "source": [
    "class PulmonaryModel(nn.Module):\n",
    "    def __init__(self, in_features=9, out_quantiles=3):\n",
    "        super(PulmonaryModel, self).__init__()\n",
    "        self.fc1 = nn.Linear(in_features, 100)\n",
    "        self.fc2 = nn.Linear(100, 100)\n",
    "        self.fc3 = nn.Linear(100, out_quantiles)\n",
    "    \n",
    "    def forward(self, x):\n",
    "        x = F.relu(self.fc1(x))\n",
    "        x = F.relu(self.fc2(x))\n",
    "        x = self.fc3(x)\n",
    "        return x"
   ]
  },
  {
   "cell_type": "code",
   "execution_count": 19,
   "metadata": {},
   "outputs": [],
   "source": [
    "def quantile_loss(preds, target, quantiles):\n",
    "    assert not target.requires_grad\n",
    "    assert preds.size(0) == target.size(0)\n",
    "    losses = []\n",
    "    for i, q in enumerate(quantiles):\n",
    "        errors = target - preds[:, i]\n",
    "        losses.append(torch.max((q - 1) * errors, q * errors).unsqueeze(1))\n",
    "    loss = torch.mean(torch.sum(torch.cat(losses, dim=1), dim=1))\n",
    "    return loss"
   ]
  },
  {
   "cell_type": "code",
   "execution_count": 20,
   "metadata": {},
   "outputs": [],
   "source": [
    "class AverageMeter:\n",
    "    \"\"\"\n",
    "    Computes and stores the average and current value\n",
    "    \"\"\"\n",
    "    def __init__(self):\n",
    "        self.reset()\n",
    "\n",
    "    def reset(self):\n",
    "        self.val = 0\n",
    "        self.avg = 0\n",
    "        self.sum = 0\n",
    "        self.count = 0\n",
    "\n",
    "    def update(self, val, n=1):\n",
    "        self.val = val\n",
    "        self.sum += val * n\n",
    "        self.count += n\n",
    "        self.avg = self.sum / self.count"
   ]
  },
  {
   "cell_type": "code",
   "execution_count": 21,
   "metadata": {},
   "outputs": [],
   "source": [
    "def train_one_epoch(model, train_data_loader, optimizer, train_loss, epoch):\n",
    "    model.train()\n",
    "    for i, data in enumerate(train_data_loader):\n",
    "        features = data['features']\n",
    "        targets = data['target']\n",
    "\n",
    "        features = features.to(DEVICE).float()\n",
    "        targets = targets.to(DEVICE).float()\n",
    "\n",
    "        model.zero_grad()\n",
    "        out = model(features)\n",
    "        loss = quantile_loss(out, targets, QUANTILES)\n",
    "        train_loss.update(loss, features.size(0))\n",
    "        loss.backward()\n",
    "        optimizer.step()"
   ]
  },
  {
   "cell_type": "code",
   "execution_count": 22,
   "metadata": {},
   "outputs": [],
   "source": [
    "def eval_one_epoch(model, valid_data_loader, valid_loss, lr_scheduler):\n",
    "    model.eval()\n",
    "\n",
    "    with torch.no_grad():\n",
    "        for i, data in enumerate(valid_data_loader):\n",
    "            features = data['features']\n",
    "            targets = data['target']\n",
    "\n",
    "            features = features.to(DEVICE).float()\n",
    "            targets = targets.to(DEVICE).float()\n",
    "            \n",
    "            out = model(features)\n",
    "            loss = quantile_loss(out, targets, QUANTILES)\n",
    "            valid_loss.update(loss, features.size(0))\n",
    "    \n",
    "    if lr_scheduler is not None:\n",
    "        lr_scheduler.step(valid_loss.avg)"
   ]
  },
  {
   "cell_type": "code",
   "execution_count": 23,
   "metadata": {
    "tags": []
   },
   "outputs": [
    {
     "output_type": "display_data",
     "data": {
      "application/vnd.jupyter.widget-view+json": {
       "model_id": "c20ce5eac1f54436966250e97a3d3707",
       "version_minor": 0,
       "version_major": 2
      },
      "text/plain": "HBox(children=(FloatProgress(value=0.0, description='Fold 0', max=1100.0, style=ProgressStyle(description_widt…"
     },
     "metadata": {}
    },
    {
     "output_type": "stream",
     "name": "stdout",
     "text": "\n"
    },
    {
     "output_type": "display_data",
     "data": {
      "application/vnd.jupyter.widget-view+json": {
       "model_id": "f040c1406b3f4065b1f57cf61844b09e",
       "version_minor": 0,
       "version_major": 2
      },
      "text/plain": "HBox(children=(FloatProgress(value=0.0, description='Fold 1', max=1100.0, style=ProgressStyle(description_widt…"
     },
     "metadata": {}
    },
    {
     "output_type": "stream",
     "name": "stdout",
     "text": "Epoch   106: reducing learning rate of group 0 to 1.5000e-04.\nEpoch   117: reducing learning rate of group 0 to 7.5000e-06.\n\n"
    },
    {
     "output_type": "display_data",
     "data": {
      "application/vnd.jupyter.widget-view+json": {
       "model_id": "4d07b089797c47e1855d8f7c388bf7f4",
       "version_minor": 0,
       "version_major": 2
      },
      "text/plain": "HBox(children=(FloatProgress(value=0.0, description='Fold 2', max=1100.0, style=ProgressStyle(description_widt…"
     },
     "metadata": {}
    },
    {
     "output_type": "stream",
     "name": "stdout",
     "text": "Epoch    77: reducing learning rate of group 0 to 1.5000e-04.\n\n"
    },
    {
     "output_type": "display_data",
     "data": {
      "application/vnd.jupyter.widget-view+json": {
       "model_id": "b7688aeca17d4a78a6be7aa594e74b8f",
       "version_minor": 0,
       "version_major": 2
      },
      "text/plain": "HBox(children=(FloatProgress(value=0.0, description='Fold 3', max=1100.0, style=ProgressStyle(description_widt…"
     },
     "metadata": {}
    },
    {
     "output_type": "stream",
     "name": "stdout",
     "text": "\n"
    },
    {
     "output_type": "display_data",
     "data": {
      "application/vnd.jupyter.widget-view+json": {
       "model_id": "68479e342f1940719d6a3fcb76f58603",
       "version_minor": 0,
       "version_major": 2
      },
      "text/plain": "HBox(children=(FloatProgress(value=0.0, description='Fold 4', max=1100.0, style=ProgressStyle(description_widt…"
     },
     "metadata": {}
    },
    {
     "output_type": "stream",
     "name": "stdout",
     "text": "\n"
    }
   ],
   "source": [
    "for fold, (train_index, test_index) in enumerate(kf.split(TRAIN_PATIENTS)):\n",
    "    model = PulmonaryModel(len(FV))\n",
    "    model = model.to(DEVICE)\n",
    "\n",
    "    df_train = train_df.iloc[train_index].reset_index(drop=True)\n",
    "    df_valid = train_df.iloc[test_index].reset_index(drop=True)\n",
    "\n",
    "    train_dataset = PulmonaryDataset(df_train, FV)\n",
    "    valid_dataset = PulmonaryDataset(df_valid, FV)\n",
    "\n",
    "    train_data_loader = torch.utils.data.DataLoader(\n",
    "        train_dataset,\n",
    "        batch_size=10,\n",
    "        shuffle=True,\n",
    "        num_workers=4\n",
    "    )\n",
    "\n",
    "    valid_data_loader = torch.utils.data.DataLoader(\n",
    "        valid_dataset,\n",
    "        batch_size=4,\n",
    "        shuffle=False,\n",
    "        num_workers=4\n",
    "    )\n",
    "\n",
    "    optimizer = torch.optim.Adam(model.parameters(), lr=LEARNING_RATE)\n",
    "    lr_scheduler = torch.optim.lr_scheduler.ReduceLROnPlateau(optimizer, patience=10, factor=0.05, verbose=True)\n",
    "\n",
    "    best_valid_loss = float('inf')\n",
    "\n",
    "    train_loss = AverageMeter()\n",
    "    valid_loss = AverageMeter()\n",
    "    tq = tqdm(range(NUM_EPOCHS), desc=f\"Fold {fold}\")\n",
    "    for epoch in tq:\n",
    "        train_one_epoch(model, train_data_loader, optimizer, train_loss, epoch)\n",
    "        eval_one_epoch(model, valid_data_loader, valid_loss, lr_scheduler)\n",
    "        \n",
    "        tq.set_postfix(val_loss=valid_loss.avg.item())\n",
    "\n",
    "        if valid_loss.avg < best_valid_loss:\n",
    "            best_valid_loss = valid_loss.avg\n",
    "            torch.save({\n",
    "                'model_state_dict': model.state_dict(),\n",
    "                'optimizer_state_dict': optimizer.state_dict(),\n",
    "            }, os.path.join(CONFIG.CFG.DATA.MODELS_OUT, f\"model_fold_{fold}.pt\"))"
   ]
  },
  {
   "cell_type": "code",
   "execution_count": 24,
   "metadata": {},
   "outputs": [],
   "source": [
    "CONFIG.upload_to_kaggle(\"osicqrmodel\", \"OSIC QR Model\", new=False)"
   ]
  },
  {
   "cell_type": "code",
   "execution_count": 25,
   "metadata": {},
   "outputs": [],
   "source": [
    "models = []\n",
    "for fold in range(K_FOLDS):\n",
    "    model = PulmonaryModel(len(FV))\n",
    "    model = model.to(DEVICE)\n",
    "    checkpoint = torch.load(os.path.join(CONFIG.CFG.DATA.MODELS_OUT, f\"model_fold_{fold}.pt\"))\n",
    "    model.load_state_dict(checkpoint['model_state_dict'])\n",
    "    models.append(model)"
   ]
  },
  {
   "cell_type": "code",
   "execution_count": 26,
   "metadata": {},
   "outputs": [],
   "source": [
    "test_dataset = PulmonaryDataset(sub_df, FV)\n",
    "test_data_loader = torch.utils.data.DataLoader(\n",
    "    test_dataset,\n",
    "    batch_size=4,\n",
    "    shuffle=False,\n",
    "    num_workers=4\n",
    ")"
   ]
  },
  {
   "cell_type": "code",
   "execution_count": 27,
   "metadata": {
    "tags": []
   },
   "outputs": [],
   "source": [
    "avg_preds = np.zeros((len(test_dataset), len(QUANTILES)))\n",
    "with torch.no_grad():\n",
    "    for model in models:\n",
    "        preds = []\n",
    "        for j, test_data in enumerate(test_data_loader):\n",
    "            features = test_data['features']\n",
    "            targets = test_data['target']\n",
    "\n",
    "            features = features.to(DEVICE).float()\n",
    "            targets = targets.to(DEVICE).float()\n",
    "\n",
    "            out = model(features)\n",
    "            preds.append(out)\n",
    "        preds = torch.cat(preds, dim=0).cpu().numpy()\n",
    "        avg_preds += preds\n",
    "avg_preds /= len(models)"
   ]
  },
  {
   "cell_type": "code",
   "execution_count": 28,
   "metadata": {},
   "outputs": [
    {
     "output_type": "execute_result",
     "data": {
      "text/plain": "array([[0.38529707, 0.3879777 , 0.38941317],\n       [0.38544108, 0.38811228, 0.38956956],\n       [0.38558556, 0.38824735, 0.38972664],\n       ...,\n       [0.38247041, 0.38580647, 0.38374192],\n       [0.38253275, 0.38587356, 0.38381885],\n       [0.38259862, 0.38594451, 0.3838999 ]])"
     },
     "metadata": {},
     "execution_count": 28
    }
   ],
   "source": [
    "avg_preds"
   ]
  },
  {
   "cell_type": "code",
   "execution_count": 29,
   "metadata": {},
   "outputs": [],
   "source": [
    "# inverse the scaling operation for FVC\n",
    "avg_preds -= MIN_MAX_SCALER.min_[SCALE_COLUMNS.index('FVC')]\n",
    "avg_preds /= MIN_MAX_SCALER.scale_[SCALE_COLUMNS.index('FVC')]"
   ]
  },
  {
   "cell_type": "code",
   "execution_count": 30,
   "metadata": {},
   "outputs": [
    {
     "output_type": "execute_result",
     "data": {
      "text/plain": "array([[2973.8752516 , 2988.81171913, 2996.81019442],\n       [2974.67771289, 2989.56160629, 2997.68160322],\n       [2975.4827647 , 2990.3142168 , 2998.55683136],\n       [2976.28771687, 2991.06662805, 2999.43199308],\n       [2977.05318031, 2991.77134728, 3000.2484365 ],\n       [2977.78084884, 2992.43020115, 3001.0086525 ],\n       [2978.49825494, 2993.07699916, 3001.75950279],\n       [2979.21237309, 2993.72030995, 3002.50746367],\n       [2979.93725183, 2994.37315249, 3003.26525521],\n       [2980.6624959 , 2995.02629395, 3004.02331245],\n       [2981.38770676, 2995.6794354 , 3004.78146932],\n       [2982.1154417 , 2996.33456955, 3005.54128678],\n       [2982.84404016, 2996.9902683 , 3006.30180168],\n       [2983.5726054 , 2997.64590063, 3007.06211731],\n       [2984.30110421, 2998.30159938, 3007.82263222],\n       [2984.97267816, 2998.91462109, 3008.52432919],\n       [2985.35507777, 2999.31113567, 3008.92811713],\n       [2985.73747737, 2999.7077831 , 3009.33180544],\n       [2986.12000983, 3000.10446374, 3009.7356266 ],\n       [2986.50240943, 3000.50094512, 3010.13934813],\n       [2986.88490868, 3000.89755933, 3010.54310286],\n       [2987.26172872, 3001.28699982, 3010.94131124],\n       [2987.63456335, 3001.67106001, 3011.3352021 ],\n       [2988.01952026, 3002.06830525, 3011.73955464],\n       [2988.39517789, 3002.46203005, 3012.12012761],\n       [2988.75403039, 3002.84014535, 3012.48040822],\n       [2989.11284969, 3003.21832707, 3012.84072204],\n       [2989.39073205, 3003.49564483, 3013.12302155],\n       [2989.44211056, 3003.55316751, 3013.20734608],\n       [2989.4997993 , 3003.61713326, 3013.2978812 ],\n       [2989.57552199, 3003.69986362, 3013.40532107],\n       [2989.65131111, 3003.78242793, 3013.51302664],\n       [2989.72716665, 3003.86509187, 3013.620699  ],\n       [2989.80288935, 3003.94762297, 3013.72823851],\n       [2989.87854562, 3004.03028691, 3013.83581123],\n       [2989.95446758, 3004.11291764, 3013.94345038],\n       [2990.03019028, 3004.19548194, 3014.05105631],\n       [2990.11056261, 3004.28355939, 3014.16407576],\n       [2990.19203093, 3004.37289889, 3014.27842367],\n       [2990.27353246, 3004.46220517, 3014.39287121],\n       [2990.35506721, 3004.55151145, 3014.50731876],\n       [2990.43663516, 3004.64091737, 3014.62163346],\n       [2990.51800385, 3004.73029008, 3014.73598137],\n       [2990.59953859, 3004.81956315, 3014.85036249],\n       [2990.68110654, 3004.90890265, 3014.96477683],\n       [2990.76264129, 3004.99827535, 3015.07915795],\n       [2990.88595636, 3005.13945832, 3015.23392451],\n       [2990.95360861, 3005.22179015, 3015.32366254],\n       [2991.04298131, 3005.33128915, 3015.43634987],\n       [2991.09193537, 3005.40508556, 3015.51831636],\n       [2991.08980982, 3005.42172463, 3015.5547164 ],\n       [2991.07170944, 3005.42235565, 3015.57849598],\n       [2990.9873517 , 3005.35799136, 3015.53013973],\n       [2990.883233  , 3005.27462997, 3015.46022909],\n       [2990.77924714, 3005.19103611, 3015.39041808],\n       [2990.67526128, 3005.10757508, 3015.32060707],\n       [2990.571209  , 3005.02411406, 3015.25082927],\n       [2990.46705709, 3004.9405534 , 3015.18095183],\n       [2990.37622306, 3004.87163911, 3015.12223353],\n       [2990.35779057, 3004.88618584, 3015.1272485 ],\n       [2990.34357595, 3004.91145995, 3015.14123063],\n       [2990.32936134, 3004.93680048, 3015.15544524],\n       [2990.18983896, 3004.83221681, 3015.03940353],\n       [2989.98724754, 3004.66223929, 3014.8577687 ],\n       [2989.78465612, 3004.49219534, 3014.67626672],\n       [2989.58216434, 3004.32218461, 3014.49483116],\n       [2989.37960613, 3004.15204103, 3014.31336238],\n       [2989.17694829, 3003.98209672, 3014.13182719],\n       [2988.9744565 , 3003.81201956, 3013.95039163],\n       [2988.77179866, 3003.64204204, 3013.76898928],\n       [2988.5682441 , 3003.4711678 , 3013.58659058],\n       [2988.36253078, 3003.29856656, 3013.40223238],\n       [2988.15668461, 3003.12586567, 3013.21784098],\n       [2987.94791582, 3002.9500761 , 3013.03099191],\n       [2987.68846595, 3002.72327335, 3012.80053587],\n       [2987.42914894, 3002.49643738, 3012.56991377],\n       [2987.16983192, 3002.26963463, 3012.33949094],\n       [2986.91048169, 3002.04279866, 3012.10910132],\n       [2986.65103183, 3001.81599591, 3011.87847922],\n       [2986.39174802, 3001.58912673, 3011.6480896 ],\n       [2986.13236458, 3001.36225755, 3011.41763356],\n       [2985.87301435, 3001.13542159, 3011.18704467],\n       [2985.61376376, 3000.90871847, 3010.95668826],\n       [2985.35341718, 3000.68081973, 3010.72437236],\n       [2985.07560124, 3000.43189797, 3010.45472651],\n       [2984.79788494, 3000.18294301, 3010.18524671],\n       [2984.52013543, 2999.93405447, 3009.91576691],\n       [2984.24225307, 2999.68509951, 3009.64608784],\n       [2983.96450355, 2999.43621097, 3009.37660804],\n       [2983.68678725, 2999.18722279, 3009.1070286 ],\n       [2983.40887167, 2998.93826783, 3008.83744917],\n       [2983.28153799, 2998.8357765 , 3008.73837864],\n       [2983.12836559, 2998.70512164, 3008.64850776],\n       [2983.00179577, 2998.60140147, 3008.5853723 ],\n       [2982.85785623, 2998.48256998, 3008.48424265],\n       [2982.63175092, 2998.28296762, 3008.27580597],\n       [2982.42819636, 2998.11508243, 3008.07577186],\n       [2982.22959034, 2997.95450382, 3007.87713263],\n       [2981.99710839, 2997.75975037, 3007.64375396],\n       [2981.76837935, 2997.5669564 , 3007.41157091]])"
     },
     "metadata": {},
     "execution_count": 30
    }
   ],
   "source": [
    "avg_preds[:100]"
   ]
  },
  {
   "cell_type": "code",
   "execution_count": null,
   "metadata": {},
   "outputs": [],
   "source": []
  }
 ]
}