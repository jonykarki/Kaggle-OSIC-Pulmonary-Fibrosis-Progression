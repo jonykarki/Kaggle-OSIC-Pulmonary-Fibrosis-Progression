{
 "metadata": {
  "language_info": {
   "codemirror_mode": {
    "name": "ipython",
    "version": 3
   },
   "file_extension": ".py",
   "mimetype": "text/x-python",
   "name": "python",
   "nbconvert_exporter": "python",
   "pygments_lexer": "ipython3",
   "version": "3.6.9-final"
  },
  "orig_nbformat": 2,
  "kernelspec": {
   "name": "python3",
   "display_name": "Python 3"
  }
 },
 "nbformat": 4,
 "nbformat_minor": 2,
 "cells": [
  {
   "cell_type": "code",
   "execution_count": 1,
   "metadata": {},
   "outputs": [],
   "source": [
    "import sys, os\n",
    "if os.path.abspath(os.pardir) not in sys.path:\n",
    "    sys.path.insert(0, os.path.abspath(os.pardir))\n",
    "import CONFIG\n",
    "%reload_ext autoreload\n",
    "%autoreload 2"
   ]
  },
  {
   "cell_type": "code",
   "execution_count": 88,
   "metadata": {},
   "outputs": [],
   "source": [
    "import numpy as np\n",
    "import pandas as pd\n",
    "import torch\n",
    "import torch.nn as nn\n",
    "from torch.utils.data import Dataset, DataLoader, Subset\n",
    "import torch.nn.functional as F\n",
    "from sklearn import preprocessing"
   ]
  },
  {
   "cell_type": "code",
   "execution_count": 119,
   "metadata": {},
   "outputs": [],
   "source": [
    "DATA_DIR = CONFIG.CFG.DATA.BASE\n",
    "K_FOLDS = 5\n",
    "BATCH_SIZE = 32\n",
    "LEARNING_RATE = 3e-3\n",
    "NUM_EPOCHS = 1000\n",
    "ES_PATIENCE = 20\n",
    "QUANTILES = (0.2, 0.5, 0.8)\n",
    "SCALE_COLUMNS = ['Weeks', 'FVC', 'Percent', 'Age']\n",
    "SEX_COLUMNS = ['Male', 'Female']\n",
    "SMOKING_STATUS_COLUMNS = ['Currently smokes', 'Ex-smoker', 'Never smoked']\n",
    "FV = SEX_COLUMNS + SMOKING_STATUS_COLUMNS + SCALE_COLUMNS\n",
    "DEVICE = torch.device('cuda') if torch.cuda.is_available() else torch.device('cpu')"
   ]
  },
  {
   "cell_type": "code",
   "execution_count": 98,
   "metadata": {},
   "outputs": [],
   "source": [
    "MIN_MAX_SCALER = preprocessing.MinMaxScaler()"
   ]
  },
  {
   "cell_type": "code",
   "execution_count": 99,
   "metadata": {},
   "outputs": [
    {
     "output_type": "execute_result",
     "data": {
      "text/html": "<div>\n<style scoped>\n    .dataframe tbody tr th:only-of-type {\n        vertical-align: middle;\n    }\n\n    .dataframe tbody tr th {\n        vertical-align: top;\n    }\n\n    .dataframe thead th {\n        text-align: right;\n    }\n</style>\n<table border=\"1\" class=\"dataframe\">\n  <thead>\n    <tr style=\"text-align: right;\">\n      <th></th>\n      <th>Patient</th>\n      <th>Weeks</th>\n      <th>FVC</th>\n      <th>Percent</th>\n      <th>Age</th>\n      <th>Sex</th>\n      <th>SmokingStatus</th>\n    </tr>\n  </thead>\n  <tbody>\n    <tr>\n      <th>0</th>\n      <td>ID00007637202177411956430</td>\n      <td>-4</td>\n      <td>2315</td>\n      <td>58.253649</td>\n      <td>79</td>\n      <td>Male</td>\n      <td>Ex-smoker</td>\n    </tr>\n    <tr>\n      <th>1</th>\n      <td>ID00007637202177411956430</td>\n      <td>5</td>\n      <td>2214</td>\n      <td>55.712129</td>\n      <td>79</td>\n      <td>Male</td>\n      <td>Ex-smoker</td>\n    </tr>\n    <tr>\n      <th>2</th>\n      <td>ID00007637202177411956430</td>\n      <td>7</td>\n      <td>2061</td>\n      <td>51.862104</td>\n      <td>79</td>\n      <td>Male</td>\n      <td>Ex-smoker</td>\n    </tr>\n    <tr>\n      <th>3</th>\n      <td>ID00007637202177411956430</td>\n      <td>9</td>\n      <td>2144</td>\n      <td>53.950679</td>\n      <td>79</td>\n      <td>Male</td>\n      <td>Ex-smoker</td>\n    </tr>\n    <tr>\n      <th>4</th>\n      <td>ID00007637202177411956430</td>\n      <td>11</td>\n      <td>2069</td>\n      <td>52.063412</td>\n      <td>79</td>\n      <td>Male</td>\n      <td>Ex-smoker</td>\n    </tr>\n  </tbody>\n</table>\n</div>",
      "text/plain": "                     Patient  Weeks   FVC    Percent  Age   Sex SmokingStatus\n0  ID00007637202177411956430     -4  2315  58.253649   79  Male     Ex-smoker\n1  ID00007637202177411956430      5  2214  55.712129   79  Male     Ex-smoker\n2  ID00007637202177411956430      7  2061  51.862104   79  Male     Ex-smoker\n3  ID00007637202177411956430      9  2144  53.950679   79  Male     Ex-smoker\n4  ID00007637202177411956430     11  2069  52.063412   79  Male     Ex-smoker"
     },
     "metadata": {},
     "execution_count": 99
    }
   ],
   "source": [
    "train_df = pd.read_csv(os.path.join(DATA_DIR, \"train.csv\"))\n",
    "train_df.drop_duplicates(keep=False, inplace=True, subset=['Patient', 'Weeks'])\n",
    "test_df = pd.read_csv(os.path.join(DATA_DIR, \"test.csv\"))\n",
    "sub_df = pd.read_csv(os.path.join(DATA_DIR, \"sample_submission.csv\"))\n",
    "train_df.head()"
   ]
  },
  {
   "cell_type": "code",
   "execution_count": 100,
   "metadata": {},
   "outputs": [],
   "source": [
    "train_df['Weeks'] = train_df['Weeks'] + 13"
   ]
  },
  {
   "cell_type": "code",
   "execution_count": 101,
   "metadata": {},
   "outputs": [
    {
     "output_type": "execute_result",
     "data": {
      "text/html": "<div>\n<style scoped>\n    .dataframe tbody tr th:only-of-type {\n        vertical-align: middle;\n    }\n\n    .dataframe tbody tr th {\n        vertical-align: top;\n    }\n\n    .dataframe thead th {\n        text-align: right;\n    }\n</style>\n<table border=\"1\" class=\"dataframe\">\n  <thead>\n    <tr style=\"text-align: right;\">\n      <th></th>\n      <th>Patient</th>\n      <th>Weeks</th>\n      <th>FVC</th>\n      <th>Percent</th>\n      <th>Age</th>\n      <th>Sex</th>\n      <th>SmokingStatus</th>\n    </tr>\n  </thead>\n  <tbody>\n    <tr>\n      <th>0</th>\n      <td>ID00007637202177411956430</td>\n      <td>9</td>\n      <td>2315</td>\n      <td>58.253649</td>\n      <td>79</td>\n      <td>Male</td>\n      <td>Ex-smoker</td>\n    </tr>\n    <tr>\n      <th>1</th>\n      <td>ID00007637202177411956430</td>\n      <td>18</td>\n      <td>2214</td>\n      <td>55.712129</td>\n      <td>79</td>\n      <td>Male</td>\n      <td>Ex-smoker</td>\n    </tr>\n    <tr>\n      <th>2</th>\n      <td>ID00007637202177411956430</td>\n      <td>20</td>\n      <td>2061</td>\n      <td>51.862104</td>\n      <td>79</td>\n      <td>Male</td>\n      <td>Ex-smoker</td>\n    </tr>\n    <tr>\n      <th>3</th>\n      <td>ID00007637202177411956430</td>\n      <td>22</td>\n      <td>2144</td>\n      <td>53.950679</td>\n      <td>79</td>\n      <td>Male</td>\n      <td>Ex-smoker</td>\n    </tr>\n    <tr>\n      <th>4</th>\n      <td>ID00007637202177411956430</td>\n      <td>24</td>\n      <td>2069</td>\n      <td>52.063412</td>\n      <td>79</td>\n      <td>Male</td>\n      <td>Ex-smoker</td>\n    </tr>\n  </tbody>\n</table>\n</div>",
      "text/plain": "                     Patient  Weeks   FVC    Percent  Age   Sex SmokingStatus\n0  ID00007637202177411956430      9  2315  58.253649   79  Male     Ex-smoker\n1  ID00007637202177411956430     18  2214  55.712129   79  Male     Ex-smoker\n2  ID00007637202177411956430     20  2061  51.862104   79  Male     Ex-smoker\n3  ID00007637202177411956430     22  2144  53.950679   79  Male     Ex-smoker\n4  ID00007637202177411956430     24  2069  52.063412   79  Male     Ex-smoker"
     },
     "metadata": {},
     "execution_count": 101
    }
   ],
   "source": [
    "train_df.head()"
   ]
  },
  {
   "cell_type": "code",
   "execution_count": 102,
   "metadata": {},
   "outputs": [],
   "source": [
    "train_df[SCALE_COLUMNS] = MIN_MAX_SCALER.fit_transform(train_df[SCALE_COLUMNS])"
   ]
  },
  {
   "cell_type": "code",
   "execution_count": 103,
   "metadata": {},
   "outputs": [
    {
     "output_type": "execute_result",
     "data": {
      "text/html": "<div>\n<style scoped>\n    .dataframe tbody tr th:only-of-type {\n        vertical-align: middle;\n    }\n\n    .dataframe tbody tr th {\n        vertical-align: top;\n    }\n\n    .dataframe thead th {\n        text-align: right;\n    }\n</style>\n<table border=\"1\" class=\"dataframe\">\n  <thead>\n    <tr style=\"text-align: right;\">\n      <th></th>\n      <th>Patient</th>\n      <th>Weeks</th>\n      <th>FVC</th>\n      <th>Percent</th>\n      <th>Age</th>\n      <th>Sex</th>\n      <th>SmokingStatus</th>\n    </tr>\n  </thead>\n  <tbody>\n    <tr>\n      <th>0</th>\n      <td>ID00007637202177411956430</td>\n      <td>0.007246</td>\n      <td>0.267050</td>\n      <td>0.236393</td>\n      <td>0.769231</td>\n      <td>Male</td>\n      <td>Ex-smoker</td>\n    </tr>\n    <tr>\n      <th>1</th>\n      <td>ID00007637202177411956430</td>\n      <td>0.072464</td>\n      <td>0.248923</td>\n      <td>0.215941</td>\n      <td>0.769231</td>\n      <td>Male</td>\n      <td>Ex-smoker</td>\n    </tr>\n    <tr>\n      <th>2</th>\n      <td>ID00007637202177411956430</td>\n      <td>0.086957</td>\n      <td>0.221464</td>\n      <td>0.184960</td>\n      <td>0.769231</td>\n      <td>Male</td>\n      <td>Ex-smoker</td>\n    </tr>\n    <tr>\n      <th>3</th>\n      <td>ID00007637202177411956430</td>\n      <td>0.101449</td>\n      <td>0.236360</td>\n      <td>0.201767</td>\n      <td>0.769231</td>\n      <td>Male</td>\n      <td>Ex-smoker</td>\n    </tr>\n    <tr>\n      <th>4</th>\n      <td>ID00007637202177411956430</td>\n      <td>0.115942</td>\n      <td>0.222900</td>\n      <td>0.186580</td>\n      <td>0.769231</td>\n      <td>Male</td>\n      <td>Ex-smoker</td>\n    </tr>\n  </tbody>\n</table>\n</div>",
      "text/plain": "                     Patient     Weeks       FVC  ...       Age   Sex SmokingStatus\n0  ID00007637202177411956430  0.007246  0.267050  ...  0.769231  Male     Ex-smoker\n1  ID00007637202177411956430  0.072464  0.248923  ...  0.769231  Male     Ex-smoker\n2  ID00007637202177411956430  0.086957  0.221464  ...  0.769231  Male     Ex-smoker\n3  ID00007637202177411956430  0.101449  0.236360  ...  0.769231  Male     Ex-smoker\n4  ID00007637202177411956430  0.115942  0.222900  ...  0.769231  Male     Ex-smoker\n\n[5 rows x 7 columns]"
     },
     "metadata": {},
     "execution_count": 103
    }
   ],
   "source": [
    "train_df.head()"
   ]
  },
  {
   "cell_type": "code",
   "execution_count": null,
   "metadata": {},
   "outputs": [],
   "source": [
    "# REMOVE THE ONES FROM THE TRAIN_DF THAT ARE PRESENT IN TEST_DF AS WELL"
   ]
  },
  {
   "cell_type": "code",
   "execution_count": 104,
   "metadata": {},
   "outputs": [],
   "source": [
    "# convert categoricals into dummies\n",
    "train_df['Sex'] = pd.Categorical(train_df['Sex'], categories=SEX_COLUMNS)\n",
    "train_df['SmokingStatus'] = pd.Categorical(train_df['SmokingStatus'], categories=SMOKING_STATUS_COLUMNS)\n",
    "train_df = train_df.join(pd.get_dummies(train_df['Sex']))\n",
    "train_df = train_df.join(pd.get_dummies(train_df['SmokingStatus']))"
   ]
  },
  {
   "cell_type": "code",
   "execution_count": 105,
   "metadata": {},
   "outputs": [
    {
     "output_type": "execute_result",
     "data": {
      "text/html": "<div>\n<style scoped>\n    .dataframe tbody tr th:only-of-type {\n        vertical-align: middle;\n    }\n\n    .dataframe tbody tr th {\n        vertical-align: top;\n    }\n\n    .dataframe thead th {\n        text-align: right;\n    }\n</style>\n<table border=\"1\" class=\"dataframe\">\n  <thead>\n    <tr style=\"text-align: right;\">\n      <th></th>\n      <th>Patient</th>\n      <th>Weeks</th>\n      <th>FVC</th>\n      <th>Percent</th>\n      <th>Age</th>\n      <th>Sex</th>\n      <th>SmokingStatus</th>\n      <th>Male</th>\n      <th>Female</th>\n      <th>Currently smokes</th>\n      <th>Ex-smoker</th>\n      <th>Never smoked</th>\n    </tr>\n  </thead>\n  <tbody>\n    <tr>\n      <th>0</th>\n      <td>ID00007637202177411956430</td>\n      <td>0.007246</td>\n      <td>0.267050</td>\n      <td>0.236393</td>\n      <td>0.769231</td>\n      <td>Male</td>\n      <td>Ex-smoker</td>\n      <td>1</td>\n      <td>0</td>\n      <td>0</td>\n      <td>1</td>\n      <td>0</td>\n    </tr>\n    <tr>\n      <th>1</th>\n      <td>ID00007637202177411956430</td>\n      <td>0.072464</td>\n      <td>0.248923</td>\n      <td>0.215941</td>\n      <td>0.769231</td>\n      <td>Male</td>\n      <td>Ex-smoker</td>\n      <td>1</td>\n      <td>0</td>\n      <td>0</td>\n      <td>1</td>\n      <td>0</td>\n    </tr>\n    <tr>\n      <th>2</th>\n      <td>ID00007637202177411956430</td>\n      <td>0.086957</td>\n      <td>0.221464</td>\n      <td>0.184960</td>\n      <td>0.769231</td>\n      <td>Male</td>\n      <td>Ex-smoker</td>\n      <td>1</td>\n      <td>0</td>\n      <td>0</td>\n      <td>1</td>\n      <td>0</td>\n    </tr>\n    <tr>\n      <th>3</th>\n      <td>ID00007637202177411956430</td>\n      <td>0.101449</td>\n      <td>0.236360</td>\n      <td>0.201767</td>\n      <td>0.769231</td>\n      <td>Male</td>\n      <td>Ex-smoker</td>\n      <td>1</td>\n      <td>0</td>\n      <td>0</td>\n      <td>1</td>\n      <td>0</td>\n    </tr>\n    <tr>\n      <th>4</th>\n      <td>ID00007637202177411956430</td>\n      <td>0.115942</td>\n      <td>0.222900</td>\n      <td>0.186580</td>\n      <td>0.769231</td>\n      <td>Male</td>\n      <td>Ex-smoker</td>\n      <td>1</td>\n      <td>0</td>\n      <td>0</td>\n      <td>1</td>\n      <td>0</td>\n    </tr>\n  </tbody>\n</table>\n</div>",
      "text/plain": "                     Patient     Weeks  ...  Ex-smoker  Never smoked\n0  ID00007637202177411956430  0.007246  ...          1             0\n1  ID00007637202177411956430  0.072464  ...          1             0\n2  ID00007637202177411956430  0.086957  ...          1             0\n3  ID00007637202177411956430  0.101449  ...          1             0\n4  ID00007637202177411956430  0.115942  ...          1             0\n\n[5 rows x 12 columns]"
     },
     "metadata": {},
     "execution_count": 105
    }
   ],
   "source": [
    "train_df.head()"
   ]
  },
  {
   "cell_type": "code",
   "execution_count": 77,
   "metadata": {},
   "outputs": [
    {
     "output_type": "execute_result",
     "data": {
      "text/html": "<div>\n<style scoped>\n    .dataframe tbody tr th:only-of-type {\n        vertical-align: middle;\n    }\n\n    .dataframe tbody tr th {\n        vertical-align: top;\n    }\n\n    .dataframe thead th {\n        text-align: right;\n    }\n</style>\n<table border=\"1\" class=\"dataframe\">\n  <thead>\n    <tr style=\"text-align: right;\">\n      <th></th>\n      <th>Patient</th>\n      <th>Weeks</th>\n      <th>FVC</th>\n      <th>Percent</th>\n      <th>Age</th>\n      <th>Sex</th>\n      <th>SmokingStatus</th>\n    </tr>\n  </thead>\n  <tbody>\n    <tr>\n      <th>0</th>\n      <td>ID00419637202311204720264</td>\n      <td>6</td>\n      <td>3020</td>\n      <td>70.186855</td>\n      <td>73</td>\n      <td>Male</td>\n      <td>Ex-smoker</td>\n    </tr>\n    <tr>\n      <th>1</th>\n      <td>ID00421637202311550012437</td>\n      <td>15</td>\n      <td>2739</td>\n      <td>82.045291</td>\n      <td>68</td>\n      <td>Male</td>\n      <td>Ex-smoker</td>\n    </tr>\n    <tr>\n      <th>2</th>\n      <td>ID00422637202311677017371</td>\n      <td>6</td>\n      <td>1930</td>\n      <td>76.672493</td>\n      <td>73</td>\n      <td>Male</td>\n      <td>Ex-smoker</td>\n    </tr>\n    <tr>\n      <th>3</th>\n      <td>ID00423637202312137826377</td>\n      <td>17</td>\n      <td>3294</td>\n      <td>79.258903</td>\n      <td>72</td>\n      <td>Male</td>\n      <td>Ex-smoker</td>\n    </tr>\n    <tr>\n      <th>4</th>\n      <td>ID00426637202313170790466</td>\n      <td>0</td>\n      <td>2925</td>\n      <td>71.824968</td>\n      <td>73</td>\n      <td>Male</td>\n      <td>Never smoked</td>\n    </tr>\n  </tbody>\n</table>\n</div>",
      "text/plain": "                     Patient  Weeks   FVC    Percent  Age   Sex SmokingStatus\n0  ID00419637202311204720264      6  3020  70.186855   73  Male     Ex-smoker\n1  ID00421637202311550012437     15  2739  82.045291   68  Male     Ex-smoker\n2  ID00422637202311677017371      6  1930  76.672493   73  Male     Ex-smoker\n3  ID00423637202312137826377     17  3294  79.258903   72  Male     Ex-smoker\n4  ID00426637202313170790466      0  2925  71.824968   73  Male  Never smoked"
     },
     "metadata": {},
     "execution_count": 77
    }
   ],
   "source": [
    "test_df"
   ]
  },
  {
   "cell_type": "code",
   "execution_count": 78,
   "metadata": {},
   "outputs": [
    {
     "output_type": "execute_result",
     "data": {
      "text/html": "<div>\n<style scoped>\n    .dataframe tbody tr th:only-of-type {\n        vertical-align: middle;\n    }\n\n    .dataframe tbody tr th {\n        vertical-align: top;\n    }\n\n    .dataframe thead th {\n        text-align: right;\n    }\n</style>\n<table border=\"1\" class=\"dataframe\">\n  <thead>\n    <tr style=\"text-align: right;\">\n      <th></th>\n      <th>Patient_Week</th>\n      <th>FVC</th>\n      <th>Confidence</th>\n    </tr>\n  </thead>\n  <tbody>\n    <tr>\n      <th>0</th>\n      <td>ID00419637202311204720264_-12</td>\n      <td>2000</td>\n      <td>100</td>\n    </tr>\n    <tr>\n      <th>1</th>\n      <td>ID00421637202311550012437_-12</td>\n      <td>2000</td>\n      <td>100</td>\n    </tr>\n    <tr>\n      <th>2</th>\n      <td>ID00422637202311677017371_-12</td>\n      <td>2000</td>\n      <td>100</td>\n    </tr>\n    <tr>\n      <th>3</th>\n      <td>ID00423637202312137826377_-12</td>\n      <td>2000</td>\n      <td>100</td>\n    </tr>\n    <tr>\n      <th>4</th>\n      <td>ID00426637202313170790466_-12</td>\n      <td>2000</td>\n      <td>100</td>\n    </tr>\n    <tr>\n      <th>...</th>\n      <td>...</td>\n      <td>...</td>\n      <td>...</td>\n    </tr>\n    <tr>\n      <th>725</th>\n      <td>ID00419637202311204720264_133</td>\n      <td>2000</td>\n      <td>100</td>\n    </tr>\n    <tr>\n      <th>726</th>\n      <td>ID00421637202311550012437_133</td>\n      <td>2000</td>\n      <td>100</td>\n    </tr>\n    <tr>\n      <th>727</th>\n      <td>ID00422637202311677017371_133</td>\n      <td>2000</td>\n      <td>100</td>\n    </tr>\n    <tr>\n      <th>728</th>\n      <td>ID00423637202312137826377_133</td>\n      <td>2000</td>\n      <td>100</td>\n    </tr>\n    <tr>\n      <th>729</th>\n      <td>ID00426637202313170790466_133</td>\n      <td>2000</td>\n      <td>100</td>\n    </tr>\n  </tbody>\n</table>\n<p>730 rows × 3 columns</p>\n</div>",
      "text/plain": "                      Patient_Week   FVC  Confidence\n0    ID00419637202311204720264_-12  2000         100\n1    ID00421637202311550012437_-12  2000         100\n2    ID00422637202311677017371_-12  2000         100\n3    ID00423637202312137826377_-12  2000         100\n4    ID00426637202313170790466_-12  2000         100\n..                             ...   ...         ...\n725  ID00419637202311204720264_133  2000         100\n726  ID00421637202311550012437_133  2000         100\n727  ID00422637202311677017371_133  2000         100\n728  ID00423637202312137826377_133  2000         100\n729  ID00426637202313170790466_133  2000         100\n\n[730 rows x 3 columns]"
     },
     "metadata": {},
     "execution_count": 78
    }
   ],
   "source": [
    "sub_df"
   ]
  },
  {
   "cell_type": "code",
   "execution_count": 79,
   "metadata": {},
   "outputs": [
    {
     "output_type": "execute_result",
     "data": {
      "text/html": "<div>\n<style scoped>\n    .dataframe tbody tr th:only-of-type {\n        vertical-align: middle;\n    }\n\n    .dataframe tbody tr th {\n        vertical-align: top;\n    }\n\n    .dataframe thead th {\n        text-align: right;\n    }\n</style>\n<table border=\"1\" class=\"dataframe\">\n  <thead>\n    <tr style=\"text-align: right;\">\n      <th></th>\n      <th>Patient_Week</th>\n      <th>FVC</th>\n      <th>Confidence</th>\n      <th>Patient</th>\n      <th>Weeks</th>\n    </tr>\n  </thead>\n  <tbody>\n    <tr>\n      <th>0</th>\n      <td>ID00419637202311204720264_-12</td>\n      <td>2000</td>\n      <td>100</td>\n      <td>ID00419637202311204720264</td>\n      <td>-12</td>\n    </tr>\n    <tr>\n      <th>1</th>\n      <td>ID00421637202311550012437_-12</td>\n      <td>2000</td>\n      <td>100</td>\n      <td>ID00421637202311550012437</td>\n      <td>-12</td>\n    </tr>\n    <tr>\n      <th>2</th>\n      <td>ID00422637202311677017371_-12</td>\n      <td>2000</td>\n      <td>100</td>\n      <td>ID00422637202311677017371</td>\n      <td>-12</td>\n    </tr>\n    <tr>\n      <th>3</th>\n      <td>ID00423637202312137826377_-12</td>\n      <td>2000</td>\n      <td>100</td>\n      <td>ID00423637202312137826377</td>\n      <td>-12</td>\n    </tr>\n    <tr>\n      <th>4</th>\n      <td>ID00426637202313170790466_-12</td>\n      <td>2000</td>\n      <td>100</td>\n      <td>ID00426637202313170790466</td>\n      <td>-12</td>\n    </tr>\n  </tbody>\n</table>\n</div>",
      "text/plain": "                    Patient_Week   FVC  ...                    Patient Weeks\n0  ID00419637202311204720264_-12  2000  ...  ID00419637202311204720264   -12\n1  ID00421637202311550012437_-12  2000  ...  ID00421637202311550012437   -12\n2  ID00422637202311677017371_-12  2000  ...  ID00422637202311677017371   -12\n3  ID00423637202312137826377_-12  2000  ...  ID00423637202312137826377   -12\n4  ID00426637202313170790466_-12  2000  ...  ID00426637202313170790466   -12\n\n[5 rows x 5 columns]"
     },
     "metadata": {},
     "execution_count": 79
    }
   ],
   "source": [
    "sub_df['Patient'] = sub_df['Patient_Week'].apply(lambda x: x.split('_')[0])\n",
    "sub_df['Weeks'] = sub_df['Patient_Week'].apply(lambda x: int(x.split('_')[-1]))\n",
    "sub_df.head()"
   ]
  },
  {
   "cell_type": "code",
   "execution_count": 80,
   "metadata": {},
   "outputs": [
    {
     "output_type": "execute_result",
     "data": {
      "text/html": "<div>\n<style scoped>\n    .dataframe tbody tr th:only-of-type {\n        vertical-align: middle;\n    }\n\n    .dataframe tbody tr th {\n        vertical-align: top;\n    }\n\n    .dataframe thead th {\n        text-align: right;\n    }\n</style>\n<table border=\"1\" class=\"dataframe\">\n  <thead>\n    <tr style=\"text-align: right;\">\n      <th></th>\n      <th>Patient_Week</th>\n      <th>Confidence</th>\n      <th>Patient</th>\n      <th>Weeks</th>\n      <th>FVC</th>\n      <th>Percent</th>\n      <th>Age</th>\n      <th>Sex</th>\n      <th>SmokingStatus</th>\n    </tr>\n  </thead>\n  <tbody>\n    <tr>\n      <th>0</th>\n      <td>ID00419637202311204720264_-12</td>\n      <td>100</td>\n      <td>ID00419637202311204720264</td>\n      <td>-12</td>\n      <td>3020</td>\n      <td>70.186855</td>\n      <td>73</td>\n      <td>Male</td>\n      <td>Ex-smoker</td>\n    </tr>\n    <tr>\n      <th>1</th>\n      <td>ID00419637202311204720264_-11</td>\n      <td>100</td>\n      <td>ID00419637202311204720264</td>\n      <td>-11</td>\n      <td>3020</td>\n      <td>70.186855</td>\n      <td>73</td>\n      <td>Male</td>\n      <td>Ex-smoker</td>\n    </tr>\n    <tr>\n      <th>2</th>\n      <td>ID00419637202311204720264_-10</td>\n      <td>100</td>\n      <td>ID00419637202311204720264</td>\n      <td>-10</td>\n      <td>3020</td>\n      <td>70.186855</td>\n      <td>73</td>\n      <td>Male</td>\n      <td>Ex-smoker</td>\n    </tr>\n    <tr>\n      <th>3</th>\n      <td>ID00419637202311204720264_-9</td>\n      <td>100</td>\n      <td>ID00419637202311204720264</td>\n      <td>-9</td>\n      <td>3020</td>\n      <td>70.186855</td>\n      <td>73</td>\n      <td>Male</td>\n      <td>Ex-smoker</td>\n    </tr>\n    <tr>\n      <th>4</th>\n      <td>ID00419637202311204720264_-8</td>\n      <td>100</td>\n      <td>ID00419637202311204720264</td>\n      <td>-8</td>\n      <td>3020</td>\n      <td>70.186855</td>\n      <td>73</td>\n      <td>Male</td>\n      <td>Ex-smoker</td>\n    </tr>\n  </tbody>\n</table>\n</div>",
      "text/plain": "                    Patient_Week  Confidence  ...   Sex  SmokingStatus\n0  ID00419637202311204720264_-12         100  ...  Male      Ex-smoker\n1  ID00419637202311204720264_-11         100  ...  Male      Ex-smoker\n2  ID00419637202311204720264_-10         100  ...  Male      Ex-smoker\n3   ID00419637202311204720264_-9         100  ...  Male      Ex-smoker\n4   ID00419637202311204720264_-8         100  ...  Male      Ex-smoker\n\n[5 rows x 9 columns]"
     },
     "metadata": {},
     "execution_count": 80
    }
   ],
   "source": [
    "sub_df = sub_df.drop('FVC', axis=1).merge(test_df.drop('Weeks', axis=1), on='Patient')\n",
    "sub_df.head()"
   ]
  },
  {
   "cell_type": "code",
   "execution_count": 81,
   "metadata": {},
   "outputs": [],
   "source": [
    "sub_df['Weeks'] = sub_df['Weeks'] + 13"
   ]
  },
  {
   "cell_type": "code",
   "execution_count": 82,
   "metadata": {},
   "outputs": [
    {
     "output_type": "execute_result",
     "data": {
      "text/html": "<div>\n<style scoped>\n    .dataframe tbody tr th:only-of-type {\n        vertical-align: middle;\n    }\n\n    .dataframe tbody tr th {\n        vertical-align: top;\n    }\n\n    .dataframe thead th {\n        text-align: right;\n    }\n</style>\n<table border=\"1\" class=\"dataframe\">\n  <thead>\n    <tr style=\"text-align: right;\">\n      <th></th>\n      <th>Patient_Week</th>\n      <th>Confidence</th>\n      <th>Patient</th>\n      <th>Weeks</th>\n      <th>FVC</th>\n      <th>Percent</th>\n      <th>Age</th>\n      <th>Sex</th>\n      <th>SmokingStatus</th>\n    </tr>\n  </thead>\n  <tbody>\n    <tr>\n      <th>0</th>\n      <td>ID00419637202311204720264_-12</td>\n      <td>100</td>\n      <td>ID00419637202311204720264</td>\n      <td>1</td>\n      <td>3020</td>\n      <td>70.186855</td>\n      <td>73</td>\n      <td>Male</td>\n      <td>Ex-smoker</td>\n    </tr>\n    <tr>\n      <th>1</th>\n      <td>ID00419637202311204720264_-11</td>\n      <td>100</td>\n      <td>ID00419637202311204720264</td>\n      <td>2</td>\n      <td>3020</td>\n      <td>70.186855</td>\n      <td>73</td>\n      <td>Male</td>\n      <td>Ex-smoker</td>\n    </tr>\n    <tr>\n      <th>2</th>\n      <td>ID00419637202311204720264_-10</td>\n      <td>100</td>\n      <td>ID00419637202311204720264</td>\n      <td>3</td>\n      <td>3020</td>\n      <td>70.186855</td>\n      <td>73</td>\n      <td>Male</td>\n      <td>Ex-smoker</td>\n    </tr>\n    <tr>\n      <th>3</th>\n      <td>ID00419637202311204720264_-9</td>\n      <td>100</td>\n      <td>ID00419637202311204720264</td>\n      <td>4</td>\n      <td>3020</td>\n      <td>70.186855</td>\n      <td>73</td>\n      <td>Male</td>\n      <td>Ex-smoker</td>\n    </tr>\n    <tr>\n      <th>4</th>\n      <td>ID00419637202311204720264_-8</td>\n      <td>100</td>\n      <td>ID00419637202311204720264</td>\n      <td>5</td>\n      <td>3020</td>\n      <td>70.186855</td>\n      <td>73</td>\n      <td>Male</td>\n      <td>Ex-smoker</td>\n    </tr>\n  </tbody>\n</table>\n</div>",
      "text/plain": "                    Patient_Week  Confidence  ...   Sex  SmokingStatus\n0  ID00419637202311204720264_-12         100  ...  Male      Ex-smoker\n1  ID00419637202311204720264_-11         100  ...  Male      Ex-smoker\n2  ID00419637202311204720264_-10         100  ...  Male      Ex-smoker\n3   ID00419637202311204720264_-9         100  ...  Male      Ex-smoker\n4   ID00419637202311204720264_-8         100  ...  Male      Ex-smoker\n\n[5 rows x 9 columns]"
     },
     "metadata": {},
     "execution_count": 82
    }
   ],
   "source": [
    "sub_df.head()"
   ]
  },
  {
   "cell_type": "code",
   "execution_count": 84,
   "metadata": {},
   "outputs": [],
   "source": [
    "# have to make it categorical coz sub's sex column has males only\n",
    "sub_df['Sex'] = pd.Categorical(sub_df['Sex'], categories=[\"Male\", \"Female\"])\n",
    "sub_df['SmokingStatus'] = pd.Categorical(sub_df['SmokingStatus'], categories=['Ex-smoker', 'Never smoked', 'Currently Smokes'])"
   ]
  },
  {
   "cell_type": "code",
   "execution_count": 85,
   "metadata": {},
   "outputs": [],
   "source": [
    "sub_df = sub_df.join(pd.get_dummies(sub_df['Sex']))\n",
    "sub_df = sub_df.join(pd.get_dummies(sub_df['SmokingStatus']))"
   ]
  },
  {
   "cell_type": "code",
   "execution_count": 86,
   "metadata": {},
   "outputs": [
    {
     "output_type": "execute_result",
     "data": {
      "text/html": "<div>\n<style scoped>\n    .dataframe tbody tr th:only-of-type {\n        vertical-align: middle;\n    }\n\n    .dataframe tbody tr th {\n        vertical-align: top;\n    }\n\n    .dataframe thead th {\n        text-align: right;\n    }\n</style>\n<table border=\"1\" class=\"dataframe\">\n  <thead>\n    <tr style=\"text-align: right;\">\n      <th></th>\n      <th>Patient_Week</th>\n      <th>Confidence</th>\n      <th>Patient</th>\n      <th>Weeks</th>\n      <th>FVC</th>\n      <th>Percent</th>\n      <th>Age</th>\n      <th>Sex</th>\n      <th>SmokingStatus</th>\n      <th>Male</th>\n      <th>Female</th>\n      <th>Ex-smoker</th>\n      <th>Never smoked</th>\n      <th>Currently Smokes</th>\n    </tr>\n  </thead>\n  <tbody>\n    <tr>\n      <th>0</th>\n      <td>ID00419637202311204720264_-12</td>\n      <td>100</td>\n      <td>ID00419637202311204720264</td>\n      <td>1</td>\n      <td>3020</td>\n      <td>70.186855</td>\n      <td>73</td>\n      <td>Male</td>\n      <td>Ex-smoker</td>\n      <td>1</td>\n      <td>0</td>\n      <td>1</td>\n      <td>0</td>\n      <td>0</td>\n    </tr>\n    <tr>\n      <th>1</th>\n      <td>ID00419637202311204720264_-11</td>\n      <td>100</td>\n      <td>ID00419637202311204720264</td>\n      <td>2</td>\n      <td>3020</td>\n      <td>70.186855</td>\n      <td>73</td>\n      <td>Male</td>\n      <td>Ex-smoker</td>\n      <td>1</td>\n      <td>0</td>\n      <td>1</td>\n      <td>0</td>\n      <td>0</td>\n    </tr>\n    <tr>\n      <th>2</th>\n      <td>ID00419637202311204720264_-10</td>\n      <td>100</td>\n      <td>ID00419637202311204720264</td>\n      <td>3</td>\n      <td>3020</td>\n      <td>70.186855</td>\n      <td>73</td>\n      <td>Male</td>\n      <td>Ex-smoker</td>\n      <td>1</td>\n      <td>0</td>\n      <td>1</td>\n      <td>0</td>\n      <td>0</td>\n    </tr>\n    <tr>\n      <th>3</th>\n      <td>ID00419637202311204720264_-9</td>\n      <td>100</td>\n      <td>ID00419637202311204720264</td>\n      <td>4</td>\n      <td>3020</td>\n      <td>70.186855</td>\n      <td>73</td>\n      <td>Male</td>\n      <td>Ex-smoker</td>\n      <td>1</td>\n      <td>0</td>\n      <td>1</td>\n      <td>0</td>\n      <td>0</td>\n    </tr>\n    <tr>\n      <th>4</th>\n      <td>ID00419637202311204720264_-8</td>\n      <td>100</td>\n      <td>ID00419637202311204720264</td>\n      <td>5</td>\n      <td>3020</td>\n      <td>70.186855</td>\n      <td>73</td>\n      <td>Male</td>\n      <td>Ex-smoker</td>\n      <td>1</td>\n      <td>0</td>\n      <td>1</td>\n      <td>0</td>\n      <td>0</td>\n    </tr>\n  </tbody>\n</table>\n</div>",
      "text/plain": "                    Patient_Week  Confidence  ... Never smoked  Currently Smokes\n0  ID00419637202311204720264_-12         100  ...            0                 0\n1  ID00419637202311204720264_-11         100  ...            0                 0\n2  ID00419637202311204720264_-10         100  ...            0                 0\n3   ID00419637202311204720264_-9         100  ...            0                 0\n4   ID00419637202311204720264_-8         100  ...            0                 0\n\n[5 rows x 14 columns]"
     },
     "metadata": {},
     "execution_count": 86
    }
   ],
   "source": [
    "sub_df.head()"
   ]
  },
  {
   "cell_type": "code",
   "execution_count": 108,
   "metadata": {},
   "outputs": [],
   "source": [
    "class PulmonaryDataset(Dataset):\n",
    "    def __init__(self, df, FV, test=False):\n",
    "        self.df = df\n",
    "        self.test = test\n",
    "        self.FV = FV\n",
    "\n",
    "    def __getitem__(self, idx):\n",
    "        return {\n",
    "            'features': torch.tensor(self.df[self.FV].iloc[idx].values),\n",
    "            'target': torch.tensor(self.df['FVC'].iloc[idx])\n",
    "        }\n",
    "\n",
    "    def __len__(self):\n",
    "        return len(self.df)"
   ]
  },
  {
   "cell_type": "code",
   "execution_count": 109,
   "metadata": {},
   "outputs": [],
   "source": [
    "class PulmonaryModel(nn.Module):\n",
    "    def __init__(self, in_features=9, out_quantiles=3):\n",
    "        super(PulmonaryModel, self).__init__()\n",
    "        self.fc1 = nn.Linear(in_features, 100)\n",
    "        self.fc2 = nn.Linear(100, 100)\n",
    "        self.fc3 = nn.Linear(100, out_quantiles)\n",
    "    \n",
    "    def forward(self, x):\n",
    "        x = F.relu(self.fc1(x))\n",
    "        x = F.relu(self.fc2(x))\n",
    "        x = self.fc3(x)\n",
    "        return x"
   ]
  },
  {
   "cell_type": "code",
   "execution_count": 110,
   "metadata": {},
   "outputs": [],
   "source": [
    "def quantile_loss(preds, target, quantiles):\n",
    "    assert not target.requires_grad\n",
    "    assert preds.size(0) == target.size(0)\n",
    "    losses = []\n",
    "    for i, q in enumerate(quantiles):\n",
    "        errors = target - preds[:, i]\n",
    "        losses.append(torch.max((q - 1) * errors, q * errors).unsqueeze(1))\n",
    "    loss = torch.mean(torch.sum(torch.cat(losses, dim=1), dim=1))\n",
    "    return loss"
   ]
  },
  {
   "cell_type": "code",
   "execution_count": 114,
   "metadata": {},
   "outputs": [],
   "source": [
    "train_dataset = PulmonaryDataset(train_df, FV)\n",
    "train_data_loader = DataLoader(\n",
    "    train_dataset,\n",
    "    batch_size=10,\n",
    "    drop_last=False,\n",
    "    num_workers=2\n",
    ")"
   ]
  },
  {
   "cell_type": "code",
   "execution_count": 132,
   "metadata": {},
   "outputs": [
    {
     "output_type": "execute_result",
     "data": {
      "text/plain": "PulmonaryModel(\n  (fc1): Linear(in_features=9, out_features=100, bias=True)\n  (fc2): Linear(in_features=100, out_features=100, bias=True)\n  (fc3): Linear(in_features=100, out_features=3, bias=True)\n)"
     },
     "metadata": {},
     "execution_count": 132
    }
   ],
   "source": [
    "model = PulmonaryModel(len(FV))\n",
    "model.to(DEVICE)"
   ]
  },
  {
   "cell_type": "code",
   "execution_count": 133,
   "metadata": {},
   "outputs": [],
   "source": [
    "optimizer = torch.optim.Adam(model.parameters(), lr=0.00001)\n",
    "# scheduler = torch.optim.lr_scheduler.StepLR(optimizer, step_size=20, gamma=0.5)"
   ]
  },
  {
   "cell_type": "code",
   "execution_count": 134,
   "metadata": {
    "tags": []
   },
   "outputs": [
    {
     "output_type": "stream",
     "name": "stdout",
     "text": "Epoch 0, Loss 0.4136742949485779\nEpoch 1, Loss 0.348447322845459\nEpoch 2, Loss 0.28966638445854187\nEpoch 3, Loss 0.23800082504749298\nEpoch 4, Loss 0.1994795948266983\nEpoch 5, Loss 0.17243745923042297\nEpoch 6, Loss 0.1541115790605545\nEpoch 7, Loss 0.14094488322734833\nEpoch 8, Loss 0.13122762739658356\nEpoch 9, Loss 0.12397663295269012\nEpoch 10, Loss 0.11859326809644699\nEpoch 11, Loss 0.11450060456991196\nEpoch 12, Loss 0.1110667809844017\nEpoch 13, Loss 0.10806529223918915\nEpoch 14, Loss 0.10526511818170547\nEpoch 15, Loss 0.10284237563610077\nEpoch 16, Loss 0.10071488469839096\nEpoch 17, Loss 0.09873451292514801\nEpoch 18, Loss 0.09690078347921371\nEpoch 19, Loss 0.0951591208577156\nEpoch 20, Loss 0.0934789851307869\nEpoch 21, Loss 0.09188125282526016\nEpoch 22, Loss 0.09033752977848053\nEpoch 23, Loss 0.08883313089609146\nEpoch 24, Loss 0.08735959231853485\nEpoch 25, Loss 0.0858839675784111\nEpoch 26, Loss 0.08438540995121002\nEpoch 27, Loss 0.08284483850002289\nEpoch 28, Loss 0.08128354698419571\nEpoch 29, Loss 0.07975198328495026\nEpoch 30, Loss 0.07824903726577759\nEpoch 31, Loss 0.07677964866161346\nEpoch 32, Loss 0.07531923800706863\nEpoch 33, Loss 0.07385797798633575\nEpoch 34, Loss 0.07240813225507736\nEpoch 35, Loss 0.070997454226017\nEpoch 36, Loss 0.06958325207233429\nEpoch 37, Loss 0.06815455853939056\nEpoch 38, Loss 0.06676448881626129\nEpoch 39, Loss 0.06539551913738251\nEpoch 40, Loss 0.06403011828660965\nEpoch 41, Loss 0.06267382949590683\nEpoch 42, Loss 0.06136167794466019\nEpoch 43, Loss 0.060048945248126984\nEpoch 44, Loss 0.05878231301903725\nEpoch 45, Loss 0.05751965194940567\nEpoch 46, Loss 0.05631612613797188\nEpoch 47, Loss 0.055129051208496094\nEpoch 48, Loss 0.053939368575811386\nEpoch 49, Loss 0.052771128714084625\nEpoch 50, Loss 0.05161077529191971\nEpoch 51, Loss 0.05043154954910278\nEpoch 52, Loss 0.04921230673789978\nEpoch 53, Loss 0.048064935952425\nEpoch 54, Loss 0.046919867396354675\nEpoch 55, Loss 0.045829951763153076\nEpoch 56, Loss 0.04475653916597366\nEpoch 57, Loss 0.04375377297401428\nEpoch 58, Loss 0.04275127872824669\nEpoch 59, Loss 0.04179483652114868\nEpoch 60, Loss 0.04084743931889534\nEpoch 61, Loss 0.039927996695041656\nEpoch 62, Loss 0.03904666379094124\nEpoch 63, Loss 0.03820806369185448\nEpoch 64, Loss 0.037426698952913284\nEpoch 65, Loss 0.036705873906612396\nEpoch 66, Loss 0.036031439900398254\nEpoch 67, Loss 0.03537515178322792\nEpoch 68, Loss 0.03476488217711449\nEpoch 69, Loss 0.03417959436774254\nEpoch 70, Loss 0.033589717000722885\nEpoch 71, Loss 0.033053312450647354\nEpoch 72, Loss 0.032539237290620804\nEpoch 73, Loss 0.03205390274524689\nEpoch 74, Loss 0.03161853179335594\nEpoch 75, Loss 0.031202783808112144\nEpoch 76, Loss 0.0308285653591156\nEpoch 77, Loss 0.030453715473413467\nEpoch 78, Loss 0.03010469675064087\nEpoch 79, Loss 0.029793404042720795\nEpoch 80, Loss 0.029461005702614784\nEpoch 81, Loss 0.02914975769817829\nEpoch 82, Loss 0.02886919490993023\nEpoch 83, Loss 0.028591549023985863\nEpoch 84, Loss 0.028329456225037575\nEpoch 85, Loss 0.028084391728043556\nEpoch 86, Loss 0.02784767933189869\nEpoch 87, Loss 0.027636747807264328\nEpoch 88, Loss 0.02739674411714077\nEpoch 89, Loss 0.02718028798699379\nEpoch 90, Loss 0.02697276510298252\nEpoch 91, Loss 0.026792464777827263\nEpoch 92, Loss 0.02662833034992218\nEpoch 93, Loss 0.026465440168976784\nEpoch 94, Loss 0.026304975152015686\nEpoch 95, Loss 0.026144659146666527\nEpoch 96, Loss 0.025985797867178917\nEpoch 97, Loss 0.025843502953648567\nEpoch 98, Loss 0.025678088888525963\nEpoch 99, Loss 0.02555754967033863\nEpoch 100, Loss 0.025423549115657806\nEpoch 101, Loss 0.025302542373538017\nEpoch 102, Loss 0.025179605931043625\nEpoch 103, Loss 0.025061221793293953\nEpoch 104, Loss 0.024959838017821312\nEpoch 105, Loss 0.024848703294992447\nEpoch 106, Loss 0.024713942781090736\nEpoch 107, Loss 0.024591175839304924\nEpoch 108, Loss 0.024485796689987183\nEpoch 109, Loss 0.02435823157429695\nEpoch 110, Loss 0.024260304868221283\nEpoch 111, Loss 0.024147724732756615\nEpoch 112, Loss 0.024035818874835968\nEpoch 113, Loss 0.023935632780194283\nEpoch 114, Loss 0.023837709799408913\nEpoch 115, Loss 0.02374616265296936\nEpoch 116, Loss 0.023642295971512794\nEpoch 117, Loss 0.023521967232227325\nEpoch 118, Loss 0.02342873066663742\nEpoch 119, Loss 0.023317920044064522\nEpoch 120, Loss 0.023232504725456238\nEpoch 121, Loss 0.023126250132918358\nEpoch 122, Loss 0.02301003970205784\nEpoch 123, Loss 0.02289876528084278\nEpoch 124, Loss 0.022835999727249146\nEpoch 125, Loss 0.02270905114710331\nEpoch 126, Loss 0.022624773904681206\nEpoch 127, Loss 0.02254309318959713\nEpoch 128, Loss 0.022435098886489868\nEpoch 129, Loss 0.02235335111618042\nEpoch 130, Loss 0.022262638434767723\nEpoch 131, Loss 0.022145064547657967\nEpoch 132, Loss 0.022057313472032547\nEpoch 133, Loss 0.021964602172374725\nEpoch 134, Loss 0.021885225549340248\nEpoch 135, Loss 0.021771185100078583\nEpoch 136, Loss 0.021687231957912445\nEpoch 137, Loss 0.021627962589263916\nEpoch 138, Loss 0.02149133011698723\nEpoch 139, Loss 0.021396806463599205\nEpoch 140, Loss 0.021322501823306084\nEpoch 141, Loss 0.021197859197854996\nEpoch 142, Loss 0.02110193856060505\nEpoch 143, Loss 0.021020222455263138\nEpoch 144, Loss 0.020925940945744514\nEpoch 145, Loss 0.02083897776901722\nEpoch 146, Loss 0.020739447325468063\nEpoch 147, Loss 0.020659375935792923\nEpoch 148, Loss 0.02056681364774704\nEpoch 149, Loss 0.020472966134548187\nEpoch 150, Loss 0.02037801407277584\nEpoch 151, Loss 0.020296404138207436\nEpoch 152, Loss 0.020186837762594223\nEpoch 153, Loss 0.020107124000787735\nEpoch 154, Loss 0.020015684887766838\nEpoch 155, Loss 0.019935794174671173\nEpoch 156, Loss 0.019847340881824493\nEpoch 157, Loss 0.01975865103304386\nEpoch 158, Loss 0.019661936908960342\nEpoch 159, Loss 0.019583849236369133\nEpoch 160, Loss 0.019493505358695984\nEpoch 161, Loss 0.01940574124455452\nEpoch 162, Loss 0.019331330433487892\nEpoch 163, Loss 0.019233394414186478\nEpoch 164, Loss 0.019147934392094612\nEpoch 165, Loss 0.019057324156165123\nEpoch 166, Loss 0.018960079178214073\nEpoch 167, Loss 0.01886800117790699\nEpoch 168, Loss 0.01878717727959156\nEpoch 169, Loss 0.018708743155002594\nEpoch 170, Loss 0.01862442120909691\nEpoch 171, Loss 0.018539423123002052\nEpoch 172, Loss 0.018444640561938286\nEpoch 173, Loss 0.018356649205088615\nEpoch 174, Loss 0.018281204625964165\nEpoch 175, Loss 0.018207840621471405\nEpoch 176, Loss 0.01811923459172249\nEpoch 177, Loss 0.018027761951088905\nEpoch 178, Loss 0.01793854497373104\nEpoch 179, Loss 0.01787378452718258\nEpoch 180, Loss 0.017778806388378143\nEpoch 181, Loss 0.017702201381325722\nEpoch 182, Loss 0.017609521746635437\nEpoch 183, Loss 0.017535846680402756\nEpoch 184, Loss 0.01744314841926098\nEpoch 185, Loss 0.01737932674586773\nEpoch 186, Loss 0.017296208068728447\nEpoch 187, Loss 0.017223739996552467\nEpoch 188, Loss 0.017162906005978584\nEpoch 189, Loss 0.01707722619175911\nEpoch 190, Loss 0.016978735104203224\nEpoch 191, Loss 0.01690894179046154\nEpoch 192, Loss 0.01681559346616268\nEpoch 193, Loss 0.016720233485102654\nEpoch 194, Loss 0.016632990911602974\nEpoch 195, Loss 0.01655176468193531\nEpoch 196, Loss 0.016456687822937965\nEpoch 197, Loss 0.016378022730350494\nEpoch 198, Loss 0.01630248874425888\nEpoch 199, Loss 0.01621633768081665\nEpoch 200, Loss 0.016127144917845726\nEpoch 201, Loss 0.016040880233049393\nEpoch 202, Loss 0.015953857451677322\nEpoch 203, Loss 0.01587633416056633\nEpoch 204, Loss 0.015791768208146095\nEpoch 205, Loss 0.015712257474660873\nEpoch 206, Loss 0.015611634589731693\nEpoch 207, Loss 0.015517166815698147\nEpoch 208, Loss 0.015424826182425022\nEpoch 209, Loss 0.015326534397900105\nEpoch 210, Loss 0.015242011286318302\nEpoch 211, Loss 0.015157089568674564\nEpoch 212, Loss 0.015069299377501011\nEpoch 213, Loss 0.01497732661664486\nEpoch 214, Loss 0.014883095398545265\nEpoch 215, Loss 0.014790527522563934\nEpoch 216, Loss 0.014705882407724857\nEpoch 217, Loss 0.014628048054873943\nEpoch 218, Loss 0.014531316235661507\nEpoch 219, Loss 0.014429901726543903\nEpoch 220, Loss 0.014342394657433033\nEpoch 221, Loss 0.014257489703595638\nEpoch 222, Loss 0.014168568886816502\nEpoch 223, Loss 0.014072827063500881\nEpoch 224, Loss 0.013992139138281345\nEpoch 225, Loss 0.013891540467739105\nEpoch 226, Loss 0.013811882585287094\nEpoch 227, Loss 0.01368529163300991\nEpoch 228, Loss 0.01361109409481287\nEpoch 229, Loss 0.013527704402804375\nEpoch 230, Loss 0.01343353372067213\nEpoch 231, Loss 0.013343420810997486\nEpoch 232, Loss 0.01324247196316719\nEpoch 233, Loss 0.01313510350883007\nEpoch 234, Loss 0.013020548038184643\nEpoch 235, Loss 0.012951086275279522\nEpoch 236, Loss 0.0128778712823987\nEpoch 237, Loss 0.01275512296706438\nEpoch 238, Loss 0.012661665678024292\nEpoch 239, Loss 0.012556764297187328\nEpoch 240, Loss 0.012475794181227684\nEpoch 241, Loss 0.012354999780654907\nEpoch 242, Loss 0.012281798757612705\nEpoch 243, Loss 0.012191802263259888\nEpoch 244, Loss 0.012104064226150513\nEpoch 245, Loss 0.011987200938165188\nEpoch 246, Loss 0.011867300607264042\nEpoch 247, Loss 0.011774052865803242\nEpoch 248, Loss 0.011658461764454842\nEpoch 249, Loss 0.011553282849490643\nEpoch 250, Loss 0.011441389098763466\nEpoch 251, Loss 0.011297588236629963\nEpoch 252, Loss 0.011194315738976002\nEpoch 253, Loss 0.01106231939047575\nEpoch 254, Loss 0.010946002788841724\nEpoch 255, Loss 0.010802723467350006\nEpoch 256, Loss 0.010682757943868637\nEpoch 257, Loss 0.010539029724895954\nEpoch 258, Loss 0.010404759086668491\nEpoch 259, Loss 0.010271244682371616\nEpoch 260, Loss 0.010133929550647736\nEpoch 261, Loss 0.01003339421004057\nEpoch 262, Loss 0.009917253628373146\nEpoch 263, Loss 0.009774305857717991\nEpoch 264, Loss 0.009633870795369148\nEpoch 265, Loss 0.009524930268526077\nEpoch 266, Loss 0.00939871370792389\nEpoch 267, Loss 0.009290234185755253\nEpoch 268, Loss 0.009142264723777771\nEpoch 269, Loss 0.009064201265573502\nEpoch 270, Loss 0.008935810998082161\nEpoch 271, Loss 0.008856290020048618\nEpoch 272, Loss 0.008724664337933064\nEpoch 273, Loss 0.008651399053633213\nEpoch 274, Loss 0.008527565747499466\nEpoch 275, Loss 0.008439895696938038\nEpoch 276, Loss 0.008352795615792274\nEpoch 277, Loss 0.008251276798546314\nEpoch 278, Loss 0.008148466236889362\nEpoch 279, Loss 0.008064145222306252\nEpoch 280, Loss 0.007975956425070763\nEpoch 281, Loss 0.00786436814814806\nEpoch 282, Loss 0.007778205443173647\nEpoch 283, Loss 0.00770340021699667\nEpoch 284, Loss 0.0075971693731844425\nEpoch 285, Loss 0.007524536922574043\nEpoch 286, Loss 0.0074536604806780815\nEpoch 287, Loss 0.007366270758211613\nEpoch 288, Loss 0.007271483540534973\nEpoch 289, Loss 0.007206051144748926\nEpoch 290, Loss 0.007103246636688709\nEpoch 291, Loss 0.007032484281808138\nEpoch 292, Loss 0.006955876015126705\nEpoch 293, Loss 0.0068719047121703625\nEpoch 294, Loss 0.006791654974222183\nEpoch 295, Loss 0.006711293943226337\nEpoch 296, Loss 0.006643170025199652\nEpoch 297, Loss 0.006567928474396467\nEpoch 298, Loss 0.006490855477750301\nEpoch 299, Loss 0.006424388382583857\nEpoch 300, Loss 0.006346589419990778\nEpoch 301, Loss 0.006266860757023096\nEpoch 302, Loss 0.006194079294800758\nEpoch 303, Loss 0.006149591412395239\nEpoch 304, Loss 0.006071282085031271\nEpoch 305, Loss 0.0059712594375014305\nEpoch 306, Loss 0.0059463996440172195\nEpoch 307, Loss 0.005868327338248491\nEpoch 308, Loss 0.0058106365613639355\nEpoch 309, Loss 0.005733140278607607\nEpoch 310, Loss 0.0056847757659852505\nEpoch 311, Loss 0.0056182318367064\nEpoch 312, Loss 0.005571467336267233\nEpoch 313, Loss 0.005493172910064459\nEpoch 314, Loss 0.005443787667900324\nEpoch 315, Loss 0.005372222047299147\nEpoch 316, Loss 0.005322115961462259\nEpoch 317, Loss 0.005276812240481377\nEpoch 318, Loss 0.005209653172641993\nEpoch 319, Loss 0.005161310080438852\nEpoch 320, Loss 0.005106233060359955\nEpoch 321, Loss 0.005067034624516964\nEpoch 322, Loss 0.005001163575798273\nEpoch 323, Loss 0.004965103697031736\nEpoch 324, Loss 0.004922573454678059\nEpoch 325, Loss 0.004878475330770016\nEpoch 326, Loss 0.0048255473375320435\nEpoch 327, Loss 0.004789578262716532\nEpoch 328, Loss 0.00473572313785553\nEpoch 329, Loss 0.004696125164628029\nEpoch 330, Loss 0.004662986379116774\nEpoch 331, Loss 0.004622385371476412\nEpoch 332, Loss 0.0045742373913526535\nEpoch 333, Loss 0.004534103907644749\nEpoch 334, Loss 0.004501270595937967\nEpoch 335, Loss 0.004456399939954281\nEpoch 336, Loss 0.0044210259802639484\nEpoch 337, Loss 0.004387421999126673\nEpoch 338, Loss 0.004329400137066841\nEpoch 339, Loss 0.004314758349210024\nEpoch 340, Loss 0.004269728437066078\nEpoch 341, Loss 0.004226203542202711\nEpoch 342, Loss 0.004179447423666716\nEpoch 343, Loss 0.004165206104516983\nEpoch 344, Loss 0.004125995095819235\nEpoch 345, Loss 0.004089915193617344\nEpoch 346, Loss 0.004051801282912493\nEpoch 347, Loss 0.004003049340099096\nEpoch 348, Loss 0.003978141583502293\nEpoch 349, Loss 0.003935202956199646\nEpoch 350, Loss 0.0039101154543459415\nEpoch 351, Loss 0.0038758269511163235\nEpoch 352, Loss 0.0038139503449201584\nEpoch 353, Loss 0.0038086972199380398\nEpoch 354, Loss 0.003764539258554578\nEpoch 355, Loss 0.0037217976059764624\nEpoch 356, Loss 0.0036940346471965313\nEpoch 357, Loss 0.003655065083876252\nEpoch 358, Loss 0.0036337701603770256\nEpoch 359, Loss 0.0036013179924339056\nEpoch 360, Loss 0.003559932578355074\nEpoch 361, Loss 0.0035352841950953007\nEpoch 362, Loss 0.003500330029055476\nEpoch 363, Loss 0.0034535322338342667\nEpoch 364, Loss 0.003442699322476983\nEpoch 365, Loss 0.003394999774172902\nEpoch 366, Loss 0.003363600466400385\nEpoch 367, Loss 0.0033323713578283787\nEpoch 368, Loss 0.003291076747700572\nEpoch 369, Loss 0.0032632965594530106\nEpoch 370, Loss 0.003245311789214611\nEpoch 371, Loss 0.0032041787635535\nEpoch 372, Loss 0.003167267655953765\nEpoch 373, Loss 0.00313528417609632\nEpoch 374, Loss 0.003113195765763521\nEpoch 375, Loss 0.0030783747788518667\nEpoch 376, Loss 0.0030288994312286377\nEpoch 377, Loss 0.003016056725755334\nEpoch 378, Loss 0.0030014922376722097\nEpoch 379, Loss 0.0029542723204940557\nEpoch 380, Loss 0.002921483712270856\nEpoch 381, Loss 0.0028929507825523615\nEpoch 382, Loss 0.0028518850449472666\nEpoch 383, Loss 0.0028468756936490536\nEpoch 384, Loss 0.0028068367391824722\nEpoch 385, Loss 0.002768813632428646\nEpoch 386, Loss 0.0027620065957307816\nEpoch 387, Loss 0.002724723657593131\nEpoch 388, Loss 0.0027184165082871914\nEpoch 389, Loss 0.0026588193140923977\nEpoch 390, Loss 0.002664310624822974\nEpoch 391, Loss 0.0026337620802223682\nEpoch 392, Loss 0.002594113815575838\nEpoch 393, Loss 0.0026077749207615852\nEpoch 394, Loss 0.0025464636273682117\nEpoch 395, Loss 0.0025481630582362413\nEpoch 396, Loss 0.0025220306124538183\nEpoch 397, Loss 0.0024799960665404797\nEpoch 398, Loss 0.0024906862527132034\nEpoch 399, Loss 0.002475450048223138\nEpoch 400, Loss 0.002441118936985731\nEpoch 401, Loss 0.0024187134113162756\nEpoch 402, Loss 0.0023892244789749384\nEpoch 403, Loss 0.0024288343265652657\nEpoch 404, Loss 0.00238356227055192\nEpoch 405, Loss 0.0023753629066050053\nEpoch 406, Loss 0.0023774397559463978\nEpoch 407, Loss 0.002332733478397131\nEpoch 408, Loss 0.002349050948396325\nEpoch 409, Loss 0.0023169133346527815\nEpoch 410, Loss 0.0022559035569429398\nEpoch 411, Loss 0.002297350438311696\nEpoch 412, Loss 0.0022831163369119167\nEpoch 413, Loss 0.0022292016074061394\nEpoch 414, Loss 0.002231214428320527\nEpoch 415, Loss 0.0022151898592710495\nEpoch 416, Loss 0.0022291247732937336\nEpoch 417, Loss 0.0021693219896405935\nEpoch 418, Loss 0.0021927591878920794\nEpoch 419, Loss 0.0021400386467576027\nEpoch 420, Loss 0.002180888317525387\nEpoch 421, Loss 0.002154616406187415\nEpoch 422, Loss 0.0021384975407272577\nEpoch 423, Loss 0.0021214918233454227\nEpoch 424, Loss 0.002139741089195013\nEpoch 425, Loss 0.002099915174767375\nEpoch 426, Loss 0.002068936126306653\nEpoch 427, Loss 0.0020669333171099424\nEpoch 428, Loss 0.0020730793476104736\nEpoch 429, Loss 0.002062760526314378\nEpoch 430, Loss 0.0020179070997983217\nEpoch 431, Loss 0.00203734845854342\nEpoch 432, Loss 0.0020225713960826397\nEpoch 433, Loss 0.00209261872805655\nEpoch 434, Loss 0.0019809266086667776\nEpoch 435, Loss 0.001979586435481906\nEpoch 436, Loss 0.0019996389746665955\nEpoch 437, Loss 0.0019664389546960592\nEpoch 438, Loss 0.001979965018108487\nEpoch 439, Loss 0.001962465001270175\nEpoch 440, Loss 0.0019820283632725477\nEpoch 441, Loss 0.0019965677056461573\nEpoch 442, Loss 0.0019589057192206383\nEpoch 443, Loss 0.0019397733267396688\nEpoch 444, Loss 0.0019165417179465294\nEpoch 445, Loss 0.0019467840902507305\nEpoch 446, Loss 0.0019319782732054591\nEpoch 447, Loss 0.001996830804273486\nEpoch 448, Loss 0.001942338072694838\nEpoch 449, Loss 0.0019798902794718742\nEpoch 450, Loss 0.0019358996069058776\nEpoch 451, Loss 0.0018641893984749913\nEpoch 452, Loss 0.0018770125461742282\nEpoch 453, Loss 0.0019121774239465594\nEpoch 454, Loss 0.0018733451142907143\nEpoch 455, Loss 0.0018311076564714313\nEpoch 456, Loss 0.0018648160621523857\nEpoch 457, Loss 0.0018754717893898487\nEpoch 458, Loss 0.0018406171584501863\nEpoch 459, Loss 0.0018904273165389895\nEpoch 460, Loss 0.0019107668194919825\nEpoch 461, Loss 0.0018925158074125648\nEpoch 462, Loss 0.001802913029678166\nEpoch 463, Loss 0.0018634767038747668\nEpoch 464, Loss 0.001829418702982366\nEpoch 465, Loss 0.0018222741782665253\nEpoch 466, Loss 0.0017793719889596105\nEpoch 467, Loss 0.0018228209810331464\nEpoch 468, Loss 0.0017848988063633442\nEpoch 469, Loss 0.001781245693564415\nEpoch 470, Loss 0.0018157107988372445\nEpoch 471, Loss 0.0017776115564629436\nEpoch 472, Loss 0.0017653919057920575\nEpoch 473, Loss 0.0017722748452797532\nEpoch 474, Loss 0.001749528106302023\nEpoch 475, Loss 0.0018100140150636435\nEpoch 476, Loss 0.0017692409455776215\nEpoch 477, Loss 0.0017217660788446665\nEpoch 478, Loss 0.0017916832584887743\nEpoch 479, Loss 0.0017692131223157048\nEpoch 480, Loss 0.0017303135246038437\nEpoch 481, Loss 0.001735622645355761\nEpoch 482, Loss 0.0016919380286708474\nEpoch 483, Loss 0.0017052122857421637\nEpoch 484, Loss 0.0017713712295517325\nEpoch 485, Loss 0.0017212249804288149\nEpoch 486, Loss 0.0017212532693520188\nEpoch 487, Loss 0.0017291619442403316\nEpoch 488, Loss 0.0017310825642198324\nEpoch 489, Loss 0.0016954841557890177\nEpoch 490, Loss 0.0017153728986158967\nEpoch 491, Loss 0.00167880579829216\nEpoch 492, Loss 0.0017320343758910894\nEpoch 493, Loss 0.0016900418559089303\nEpoch 494, Loss 0.0016985343536362052\nEpoch 495, Loss 0.0016740019200369716\nEpoch 496, Loss 0.0016907883109524846\nEpoch 497, Loss 0.0016501019708812237\nEpoch 498, Loss 0.0016406882787123322\nEpoch 499, Loss 0.001695165759883821\nEpoch 500, Loss 0.001714226440526545\nEpoch 501, Loss 0.001627023913897574\nEpoch 502, Loss 0.001713333185762167\nEpoch 503, Loss 0.001661311136558652\nEpoch 504, Loss 0.0016887286910787225\nEpoch 505, Loss 0.0016368619399145246\nEpoch 506, Loss 0.0016123809618875384\nEpoch 507, Loss 0.0016315393149852753\nEpoch 508, Loss 0.0016302305739372969\nEpoch 509, Loss 0.001641084672883153\nEpoch 510, Loss 0.0016039555193856359\nEpoch 511, Loss 0.0016322366427630186\nEpoch 512, Loss 0.0016464261570945382\nEpoch 513, Loss 0.0016109953867271543\nEpoch 514, Loss 0.0016254171496257186\nEpoch 515, Loss 0.0016313543310388923\nEpoch 516, Loss 0.0016083980444818735\nEpoch 517, Loss 0.0016006208024919033\nEpoch 518, Loss 0.0016180995153263211\nEpoch 519, Loss 0.0016468678368255496\nEpoch 520, Loss 0.001606910489499569\nEpoch 521, Loss 0.0016029541147872806\nEpoch 522, Loss 0.001568831386975944\nEpoch 523, Loss 0.0015917591517791152\nEpoch 524, Loss 0.0015754638006910682\nEpoch 525, Loss 0.00154028064571321\nEpoch 526, Loss 0.001559219672344625\nEpoch 527, Loss 0.0015836183447390795\nEpoch 528, Loss 0.0016050066333264112\nEpoch 529, Loss 0.0015588606474921107\nEpoch 530, Loss 0.0015782067785039544\nEpoch 531, Loss 0.0016036041779443622\nEpoch 532, Loss 0.0015619447221979499\nEpoch 533, Loss 0.0015806095907464623\nEpoch 534, Loss 0.001539460034109652\nEpoch 535, Loss 0.001517880242317915\nEpoch 536, Loss 0.0015426062745973468\nEpoch 537, Loss 0.0015544779598712921\nEpoch 538, Loss 0.0015781031688675284\nEpoch 539, Loss 0.001514251809567213\nEpoch 540, Loss 0.001552668632939458\nEpoch 541, Loss 0.0015867098700255156\nEpoch 542, Loss 0.0015236135805025697\nEpoch 543, Loss 0.0015152915148064494\nEpoch 544, Loss 0.0015512363752350211\nEpoch 545, Loss 0.0015109156956896186\nEpoch 546, Loss 0.0015171768609434366\nEpoch 547, Loss 0.0015464293537661433\nEpoch 548, Loss 0.0014943062560632825\nEpoch 549, Loss 0.001474678865633905\nEpoch 550, Loss 0.0014523681020364165\nEpoch 551, Loss 0.0015262000961229205\nEpoch 552, Loss 0.001531027490273118\nEpoch 553, Loss 0.001474353950470686\nEpoch 554, Loss 0.0015129437670111656\nEpoch 555, Loss 0.0014740615151822567\nEpoch 556, Loss 0.0014446693239733577\nEpoch 557, Loss 0.0014772348804399371\nEpoch 558, Loss 0.0015052229864522815\nEpoch 559, Loss 0.001516485819593072\nEpoch 560, Loss 0.0015172165585681796\nEpoch 561, Loss 0.0015086568892002106\nEpoch 562, Loss 0.001495886011980474\nEpoch 563, Loss 0.0014741141349077225\nEpoch 564, Loss 0.0014402865199372172\nEpoch 565, Loss 0.0014465354615822434\nEpoch 566, Loss 0.001456824946217239\nEpoch 567, Loss 0.0014559548581019044\nEpoch 568, Loss 0.0014596922555938363\nEpoch 569, Loss 0.0014824861427769065\nEpoch 570, Loss 0.0015010586939752102\nEpoch 571, Loss 0.0014419833896681666\nEpoch 572, Loss 0.001412691199220717\nEpoch 573, Loss 0.0014086345909163356\nEpoch 574, Loss 0.0014356757747009397\nEpoch 575, Loss 0.0014495690120384097\nEpoch 576, Loss 0.0014183094026520848\nEpoch 577, Loss 0.001486977213062346\nEpoch 578, Loss 0.0014766721287742257\nEpoch 579, Loss 0.0014469966990873218\nEpoch 580, Loss 0.0014146303292363882\nEpoch 581, Loss 0.0013882429338991642\nEpoch 582, Loss 0.0014485849533230066\nEpoch 583, Loss 0.0014208760112524033\nEpoch 584, Loss 0.001387445256114006\nEpoch 585, Loss 0.0014304728247225285\nEpoch 586, Loss 0.0014339738991111517\nEpoch 587, Loss 0.0014078103704378009\nEpoch 588, Loss 0.001422783941961825\nEpoch 589, Loss 0.0014109854819253087\nEpoch 590, Loss 0.001401620451360941\nEpoch 591, Loss 0.0013833851553499699\nEpoch 592, Loss 0.0014106588205322623\nEpoch 593, Loss 0.0014696861617267132\nEpoch 594, Loss 0.0014516080264002085\nEpoch 595, Loss 0.001434280420653522\nEpoch 596, Loss 0.0014221824239939451\nEpoch 597, Loss 0.001405898598022759\nEpoch 598, Loss 0.00139245658647269\nEpoch 599, Loss 0.0013556091580539942\nEpoch 600, Loss 0.001391444355249405\nEpoch 601, Loss 0.0014089916367083788\nEpoch 602, Loss 0.0013940922217443585\nEpoch 603, Loss 0.0013991486048325896\nEpoch 604, Loss 0.0014032090548425913\nEpoch 605, Loss 0.0014274736167863011\nEpoch 606, Loss 0.0014428517315536737\nEpoch 607, Loss 0.0014691335381940007\nEpoch 608, Loss 0.0013919856864959002\nEpoch 609, Loss 0.0013813310069963336\nEpoch 610, Loss 0.0013898182660341263\nEpoch 611, Loss 0.0013969982974231243\nEpoch 612, Loss 0.0013362725730985403\nEpoch 613, Loss 0.0013286416651681066\nEpoch 614, Loss 0.0013945510145276785\nEpoch 615, Loss 0.001366951153613627\nEpoch 616, Loss 0.0014009583974257112\nEpoch 617, Loss 0.0013271867064759135\nEpoch 618, Loss 0.0013422485208138824\nEpoch 619, Loss 0.0014196373522281647\nEpoch 620, Loss 0.0014193516690284014\nEpoch 621, Loss 0.001388800679706037\nEpoch 622, Loss 0.001310228486545384\nEpoch 623, Loss 0.001380113186314702\nEpoch 624, Loss 0.0013334786053746939\nEpoch 625, Loss 0.0013269515475258231\nEpoch 626, Loss 0.0013503425288945436\nEpoch 627, Loss 0.0013950923457741737\nEpoch 628, Loss 0.0013278868282213807\nEpoch 629, Loss 0.001392926787957549\nEpoch 630, Loss 0.0013847686350345612\nEpoch 631, Loss 0.0013488155091181397\nEpoch 632, Loss 0.001323928590863943\nEpoch 633, Loss 0.0013292052317410707\nEpoch 634, Loss 0.0012844579759985209\nEpoch 635, Loss 0.0012835725210607052\nEpoch 636, Loss 0.001316839479841292\nEpoch 637, Loss 0.0013354633701965213\nEpoch 638, Loss 0.0012939709704369307\nEpoch 639, Loss 0.0013177430955693126\nEpoch 640, Loss 0.0012958571314811707\nEpoch 641, Loss 0.001309804618358612\nEpoch 642, Loss 0.0013245107838883996\nEpoch 643, Loss 0.0013035150477662683\nEpoch 644, Loss 0.0013328255154192448\nEpoch 645, Loss 0.0012843158328905702\nEpoch 646, Loss 0.0012809592299163342\nEpoch 647, Loss 0.0012498840223997831\nEpoch 648, Loss 0.0012405235320329666\nEpoch 649, Loss 0.001258575008250773\nEpoch 650, Loss 0.001301571843214333\nEpoch 651, Loss 0.0012562049087136984\nEpoch 652, Loss 0.001262455596588552\nEpoch 653, Loss 0.0012198691256344318\nEpoch 654, Loss 0.0012257179478183389\nEpoch 655, Loss 0.0012063317699357867\nEpoch 656, Loss 0.0012882056180387735\nEpoch 657, Loss 0.0012952048564329743\nEpoch 658, Loss 0.0012477851705625653\nEpoch 659, Loss 0.0012623525690287352\nEpoch 660, Loss 0.0012549649691209197\nEpoch 661, Loss 0.0012679488863795996\nEpoch 662, Loss 0.0012598390458151698\nEpoch 663, Loss 0.0012274874607101083\nEpoch 664, Loss 0.0011941143311560154\nEpoch 665, Loss 0.0012094788253307343\nEpoch 666, Loss 0.0011820297222584486\nEpoch 667, Loss 0.0012153940042480826\nEpoch 668, Loss 0.0011976336827501655\nEpoch 669, Loss 0.0011997182155027986\nEpoch 670, Loss 0.0012329077580943704\nEpoch 671, Loss 0.0012106040958315134\nEpoch 672, Loss 0.001236812793649733\nEpoch 673, Loss 0.001292149187065661\nEpoch 674, Loss 0.0013657996896654367\nEpoch 675, Loss 0.0012408812763169408\nEpoch 676, Loss 0.0012482202146202326\nEpoch 677, Loss 0.0012145646614953876\nEpoch 678, Loss 0.0011694015702232718\nEpoch 679, Loss 0.001221493468619883\nEpoch 680, Loss 0.0012990679824724793\nEpoch 681, Loss 0.001224598498083651\nEpoch 682, Loss 0.0012119724415242672\nEpoch 683, Loss 0.0011708276579156518\nEpoch 684, Loss 0.0012114148121327162\nEpoch 685, Loss 0.0012214442249387503\nEpoch 686, Loss 0.0011868416331708431\nEpoch 687, Loss 0.0011916678631678224\nEpoch 688, Loss 0.0011818837374448776\nEpoch 689, Loss 0.0011743847280740738\nEpoch 690, Loss 0.0011626105988398194\nEpoch 691, Loss 0.001170680858194828\nEpoch 692, Loss 0.0011543129803612828\nEpoch 693, Loss 0.0011642933823168278\nEpoch 694, Loss 0.0011426524724811316\nEpoch 695, Loss 0.0011521646520122886\nEpoch 696, Loss 0.0011534205405041575\nEpoch 697, Loss 0.001184343476779759\nEpoch 698, Loss 0.0011739557376131415\nEpoch 699, Loss 0.00118804641533643\nEpoch 700, Loss 0.0011941641569137573\nEpoch 701, Loss 0.001279340824112296\nEpoch 702, Loss 0.0011830851435661316\nEpoch 703, Loss 0.0011440170928835869\nEpoch 704, Loss 0.0011277778539806604\nEpoch 705, Loss 0.0011708543170243502\nEpoch 706, Loss 0.0011353669688105583\nEpoch 707, Loss 0.0011010600719600916\nEpoch 708, Loss 0.001170613570138812\nEpoch 709, Loss 0.0010855556465685368\nEpoch 710, Loss 0.0011002906830981374\nEpoch 711, Loss 0.0011126997414976358\nEpoch 712, Loss 0.0011214660480618477\nEpoch 713, Loss 0.0011220464948564768\nEpoch 714, Loss 0.0011066175065934658\nEpoch 715, Loss 0.0011251589749008417\nEpoch 716, Loss 0.0011326150270178914\nEpoch 717, Loss 0.0011462067486718297\nEpoch 718, Loss 0.0011256423313170671\nEpoch 719, Loss 0.0010927628027275205\nEpoch 720, Loss 0.0010548949940130115\nEpoch 721, Loss 0.0010769983055070043\nEpoch 722, Loss 0.0011039164382964373\nEpoch 723, Loss 0.001064225914888084\nEpoch 724, Loss 0.0011008877772837877\nEpoch 725, Loss 0.0010755511466413736\nEpoch 726, Loss 0.001096496474929154\nEpoch 727, Loss 0.0011131622595712543\nEpoch 728, Loss 0.0010956533951684833\nEpoch 729, Loss 0.0010433322750031948\nEpoch 730, Loss 0.0010791555978357792\nEpoch 731, Loss 0.001047466415911913\nEpoch 732, Loss 0.0011701963376253843\nEpoch 733, Loss 0.0011422500247135758\nEpoch 734, Loss 0.001136567909270525\nEpoch 735, Loss 0.0011954138753935695\nEpoch 736, Loss 0.0011454042978584766\nEpoch 737, Loss 0.0011103894794359803\nEpoch 738, Loss 0.0010515027679502964\nEpoch 739, Loss 0.0011166726471856236\nEpoch 740, Loss 0.0011244851630181074\nEpoch 741, Loss 0.0010566568234935403\nEpoch 742, Loss 0.0010429939720779657\nEpoch 743, Loss 0.0010296624386683106\nEpoch 744, Loss 0.0010644569993019104\nEpoch 745, Loss 0.0010453284485265613\nEpoch 746, Loss 0.0010235626250505447\nEpoch 747, Loss 0.0010142690734937787\nEpoch 748, Loss 0.0010118080535903573\nEpoch 749, Loss 0.0010608118027448654\nEpoch 750, Loss 0.0010570513550192118\nEpoch 751, Loss 0.0010461898054927588\nEpoch 752, Loss 0.0010380744934082031\nEpoch 753, Loss 0.0010208081221207976\nEpoch 754, Loss 0.0010172490729019046\nEpoch 755, Loss 0.0010401622857898474\nEpoch 756, Loss 0.0010341693414375186\nEpoch 757, Loss 0.00101964280474931\nEpoch 758, Loss 0.00107214052695781\nEpoch 759, Loss 0.0011030813911929727\nEpoch 760, Loss 0.0010905452072620392\nEpoch 761, Loss 0.0010438687168061733\nEpoch 762, Loss 0.0010203458368778229\nEpoch 763, Loss 0.000991795095615089\nEpoch 764, Loss 0.0009690927690826356\nEpoch 765, Loss 0.0009965811623260379\nEpoch 766, Loss 0.0010496044997125864\nEpoch 767, Loss 0.000981450779363513\nEpoch 768, Loss 0.0010010431287810206\nEpoch 769, Loss 0.0010169405722990632\nEpoch 770, Loss 0.0009992950363084674\nEpoch 771, Loss 0.0009594761650077999\nEpoch 772, Loss 0.0009732809267006814\nEpoch 773, Loss 0.0009948507649824023\nEpoch 774, Loss 0.0010091901058331132\nEpoch 775, Loss 0.0010228856699541211\nEpoch 776, Loss 0.0009923855541273952\nEpoch 777, Loss 0.0010162631515413523\nEpoch 778, Loss 0.0010155290365219116\nEpoch 779, Loss 0.0009638215997256339\nEpoch 780, Loss 0.0010753208771348\nEpoch 781, Loss 0.00098059989977628\nEpoch 782, Loss 0.0009421203867532313\nEpoch 783, Loss 0.0009415234671905637\nEpoch 784, Loss 0.0010031458223238587\nEpoch 785, Loss 0.0009963511256501079\nEpoch 786, Loss 0.001001270953565836\nEpoch 787, Loss 0.0009532341500744224\nEpoch 788, Loss 0.0009531447431072593\nEpoch 789, Loss 0.0009647454717196524\nEpoch 790, Loss 0.00091978395357728\nEpoch 791, Loss 0.0009562786435708404\nEpoch 792, Loss 0.0009625586098991334\nEpoch 793, Loss 0.0009802284184843302\nEpoch 794, Loss 0.0010096749756485224\nEpoch 795, Loss 0.0010432754643261433\nEpoch 796, Loss 0.0010110682342201471\nEpoch 797, Loss 0.0009530294919386506\nEpoch 798, Loss 0.0009263615356758237\nEpoch 799, Loss 0.0009064449113793671\nEpoch 800, Loss 0.000911015784367919\nEpoch 801, Loss 0.0009191716671921313\nEpoch 802, Loss 0.0009325204882770777\nEpoch 803, Loss 0.0008937471429817379\nEpoch 804, Loss 0.000903208798263222\nEpoch 805, Loss 0.0010033268481492996\nEpoch 806, Loss 0.0009314481867477298\nEpoch 807, Loss 0.0010104532120749354\nEpoch 808, Loss 0.0009489937801845372\nEpoch 809, Loss 0.0009263080428354442\nEpoch 810, Loss 0.0009673426393419504\nEpoch 811, Loss 0.0009370506159029901\nEpoch 812, Loss 0.0010404727654531598\nEpoch 813, Loss 0.0010254265507683158\nEpoch 814, Loss 0.0009215931640937924\nEpoch 815, Loss 0.0009245288092643023\nEpoch 816, Loss 0.0009302698890678585\nEpoch 817, Loss 0.0009264532127417624\nEpoch 818, Loss 0.0009277333156205714\nEpoch 819, Loss 0.0009186218376271427\nEpoch 820, Loss 0.0008646953501738608\nEpoch 821, Loss 0.0009843407897278666\nEpoch 822, Loss 0.0008943153661675751\nEpoch 823, Loss 0.0008988477056846023\nEpoch 824, Loss 0.0008690819959156215\nEpoch 825, Loss 0.0009177185711450875\nEpoch 826, Loss 0.0010029611876234412\nEpoch 827, Loss 0.0009578029275871813\nEpoch 828, Loss 0.0008724036742933095\nEpoch 829, Loss 0.0009498866857029498\nEpoch 830, Loss 0.0009620519704185426\nEpoch 831, Loss 0.0009412712533958256\nEpoch 832, Loss 0.0010338942520320415\nEpoch 833, Loss 0.0009221649379469454\nEpoch 834, Loss 0.0008710044203326106\nEpoch 835, Loss 0.0010345401242375374\nEpoch 836, Loss 0.0009306379943154752\nEpoch 837, Loss 0.000996499671600759\nEpoch 838, Loss 0.0009220814099535346\nEpoch 839, Loss 0.000900984276086092\nEpoch 840, Loss 0.0009427287150174379\nEpoch 841, Loss 0.0009135399013757706\nEpoch 842, Loss 0.0009619754273444414\nEpoch 843, Loss 0.0009588957182131708\nEpoch 844, Loss 0.0009373604552820325\nEpoch 845, Loss 0.000880448380485177\nEpoch 846, Loss 0.0008716561715118587\nEpoch 847, Loss 0.0008826503762975335\nEpoch 848, Loss 0.0009076101123355329\nEpoch 849, Loss 0.0008423978579230607\nEpoch 850, Loss 0.0008868928416632116\nEpoch 851, Loss 0.0008586699259467423\nEpoch 852, Loss 0.0009009968489408493\nEpoch 853, Loss 0.0009771648328751326\nEpoch 854, Loss 0.0009135881555266678\nEpoch 855, Loss 0.0009419173002243042\nEpoch 856, Loss 0.0008990017813630402\nEpoch 857, Loss 0.000865158683154732\nEpoch 858, Loss 0.0008692666888237\nEpoch 859, Loss 0.0009119535679928958\nEpoch 860, Loss 0.0009284215630032122\nEpoch 861, Loss 0.0009765112190507352\nEpoch 862, Loss 0.0009244680404663086\nEpoch 863, Loss 0.0008673000265844166\nEpoch 864, Loss 0.00084139738464728\nEpoch 865, Loss 0.0008840315858833492\nEpoch 866, Loss 0.000825872179120779\nEpoch 867, Loss 0.0008478289237245917\nEpoch 868, Loss 0.0008525426383130252\nEpoch 869, Loss 0.0008768049301579595\nEpoch 870, Loss 0.000868000672198832\nEpoch 871, Loss 0.0008501895936205983\nEpoch 872, Loss 0.0008824022370390594\nEpoch 873, Loss 0.0008433805778622627\nEpoch 874, Loss 0.000833065016195178\nEpoch 875, Loss 0.0008958066464401782\nEpoch 876, Loss 0.0008927567978389561\nEpoch 877, Loss 0.000851331977173686\nEpoch 878, Loss 0.0008502725395374\nEpoch 879, Loss 0.0008718343451619148\nEpoch 880, Loss 0.000811704492662102\nEpoch 881, Loss 0.0009109938982874155\nEpoch 882, Loss 0.0008369181305170059\nEpoch 883, Loss 0.0008538286201655865\nEpoch 884, Loss 0.0008265402284450829\nEpoch 885, Loss 0.0009226072579622269\nEpoch 886, Loss 0.0009252295712940395\nEpoch 887, Loss 0.0008713246788829565\nEpoch 888, Loss 0.0008795904577709734\nEpoch 889, Loss 0.0008267324883490801\nEpoch 890, Loss 0.0009363635908812284\nEpoch 891, Loss 0.0008232868276536465\nEpoch 892, Loss 0.0010528166312724352\nEpoch 893, Loss 0.0008922676788643003\nEpoch 894, Loss 0.0008110735216178\nEpoch 895, Loss 0.0008267463999800384\nEpoch 896, Loss 0.0008320884662680328\nEpoch 897, Loss 0.0008214293047785759\nEpoch 898, Loss 0.0008062414708547294\nEpoch 899, Loss 0.0008474423666484654\nEpoch 900, Loss 0.000857951701618731\nEpoch 901, Loss 0.0008633785764686763\nEpoch 902, Loss 0.0008114239317364991\nEpoch 903, Loss 0.000879906874615699\nEpoch 904, Loss 0.0008180493605323136\nEpoch 905, Loss 0.0007874428411014378\nEpoch 906, Loss 0.0007832500268705189\nEpoch 907, Loss 0.0008527357713319361\nEpoch 908, Loss 0.0008463030098937452\nEpoch 909, Loss 0.0008144929306581616\nEpoch 910, Loss 0.0008610865334048867\nEpoch 911, Loss 0.0008418069337494671\nEpoch 912, Loss 0.0007863363134674728\nEpoch 913, Loss 0.0008370834984816611\nEpoch 914, Loss 0.0008767710532993078\nEpoch 915, Loss 0.0008396081393584609\nEpoch 916, Loss 0.00084143434651196\nEpoch 917, Loss 0.0007887153187766671\nEpoch 918, Loss 0.0008768590050749481\nEpoch 919, Loss 0.0008699721656739712\nEpoch 920, Loss 0.0007978365174494684\nEpoch 921, Loss 0.0008131699287332594\nEpoch 922, Loss 0.0008821247611194849\nEpoch 923, Loss 0.0008362908265553415\nEpoch 924, Loss 0.0007845113286748528\nEpoch 925, Loss 0.0007911489228717983\nEpoch 926, Loss 0.000791241298429668\nEpoch 927, Loss 0.0008586689364165068\nEpoch 928, Loss 0.0008744974038563669\nEpoch 929, Loss 0.000865254201926291\nEpoch 930, Loss 0.0008353482699021697\nEpoch 931, Loss 0.0008336109458468854\nEpoch 932, Loss 0.0008684711065143347\nEpoch 933, Loss 0.0008303378708660603\nEpoch 934, Loss 0.0007909389678388834\nEpoch 935, Loss 0.0008670812239870429\nEpoch 936, Loss 0.0009254782344214618\nEpoch 937, Loss 0.0008499847026541829\nEpoch 938, Loss 0.0007902802317403257\nEpoch 939, Loss 0.0008494792855344713\nEpoch 940, Loss 0.0008451612666249275\nEpoch 941, Loss 0.0007964965770952404\nEpoch 942, Loss 0.000778383226133883\nEpoch 943, Loss 0.0008335255552083254\nEpoch 944, Loss 0.0007879170589148998\nEpoch 945, Loss 0.000809632649179548\nEpoch 946, Loss 0.0008173396927304566\nEpoch 947, Loss 0.0007760196458548307\nEpoch 948, Loss 0.0008023532573133707\nEpoch 949, Loss 0.0007999305962584913\nEpoch 950, Loss 0.0007623314741067588\nEpoch 951, Loss 0.0009116121218539774\nEpoch 952, Loss 0.0008190409862436354\nEpoch 953, Loss 0.0008019694942049682\nEpoch 954, Loss 0.000792984792497009\nEpoch 955, Loss 0.0007590960594825447\nEpoch 956, Loss 0.0008143801824189723\nEpoch 957, Loss 0.0009487486095167696\nEpoch 958, Loss 0.0008193317335098982\nEpoch 959, Loss 0.0007554613403044641\nEpoch 960, Loss 0.0008240492315962911\nEpoch 961, Loss 0.0007817053119651973\nEpoch 962, Loss 0.00080068752868101\nEpoch 963, Loss 0.0007936625625006855\nEpoch 964, Loss 0.0007928838604129851\nEpoch 965, Loss 0.0008222019532695413\nEpoch 966, Loss 0.0008127589826472104\nEpoch 967, Loss 0.0007562277023680508\nEpoch 968, Loss 0.0007437975145876408\nEpoch 969, Loss 0.0008013860788196325\nEpoch 970, Loss 0.0007357633439823985\nEpoch 971, Loss 0.000755063898395747\nEpoch 972, Loss 0.0007762282621115446\nEpoch 973, Loss 0.0007697473629377782\nEpoch 974, Loss 0.0008134497329592705\nEpoch 975, Loss 0.0007438756874762475\nEpoch 976, Loss 0.0008148549823090434\nEpoch 977, Loss 0.0007692630751989782\nEpoch 978, Loss 0.0007813480915501714\nEpoch 979, Loss 0.0007488546543754637\nEpoch 980, Loss 0.0008076168014667928\nEpoch 981, Loss 0.0007921630749478936\nEpoch 982, Loss 0.0007825799402780831\nEpoch 983, Loss 0.0008073989883996546\nEpoch 984, Loss 0.0007574150804430246\nEpoch 985, Loss 0.000698713818565011\nEpoch 986, Loss 0.0007127918070182204\nEpoch 987, Loss 0.0007123827817849815\nEpoch 988, Loss 0.0008479194366373122\nEpoch 989, Loss 0.0008003790280781686\nEpoch 990, Loss 0.0008076507365331054\nEpoch 991, Loss 0.0008230609819293022\nEpoch 992, Loss 0.0007555361953563988\nEpoch 993, Loss 0.0007812982657924294\nEpoch 994, Loss 0.0007419559988193214\nEpoch 995, Loss 0.0007546817068941891\nEpoch 996, Loss 0.0007424189825542271\nEpoch 997, Loss 0.0007499695057049394\nEpoch 998, Loss 0.0008777084876783192\nEpoch 999, Loss 0.0007579545490443707\n"
    }
   ],
   "source": [
    "for epoch in range(NUM_EPOCHS):\n",
    "    model.train()\n",
    "    total_loss = 0\n",
    "    for i, data in enumerate(train_data_loader):\n",
    "        features = data['features']\n",
    "        targets = data['target']\n",
    "\n",
    "        features = features.to(DEVICE).float()\n",
    "        targets = targets.to(DEVICE).float()\n",
    "\n",
    "        model.zero_grad()\n",
    "        out = model(features)\n",
    "        loss = quantile_loss(out, targets, QUANTILES)\n",
    "        total_loss += loss\n",
    "        loss.backward()\n",
    "        optimizer.step()\n",
    "        # scheduler.step()\n",
    "    print(f\"Epoch {epoch}, Loss {total_loss/len(train_data_loader)}\")"
   ]
  },
  {
   "cell_type": "code",
   "execution_count": null,
   "metadata": {},
   "outputs": [],
   "source": []
  }
 ]
}