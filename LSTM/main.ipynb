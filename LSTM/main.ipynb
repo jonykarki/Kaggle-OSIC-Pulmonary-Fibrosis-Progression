{
 "metadata": {
  "language_info": {
   "codemirror_mode": {
    "name": "ipython",
    "version": 3
   },
   "file_extension": ".py",
   "mimetype": "text/x-python",
   "name": "python",
   "nbconvert_exporter": "python",
   "pygments_lexer": "ipython3",
   "version": "3.6.9-final"
  },
  "orig_nbformat": 2,
  "kernelspec": {
   "name": "python3",
   "display_name": "Python 3"
  }
 },
 "nbformat": 4,
 "nbformat_minor": 2,
 "cells": [
  {
   "cell_type": "code",
   "execution_count": 1,
   "metadata": {},
   "outputs": [],
   "source": [
    "import sys, os\n",
    "if os.path.abspath(os.pardir) not in sys.path:\n",
    "    sys.path.insert(0, os.path.abspath(os.pardir))\n",
    "import CONFIG\n",
    "%reload_ext autoreload\n",
    "%autoreload 2"
   ]
  },
  {
   "cell_type": "code",
   "execution_count": 2,
   "metadata": {},
   "outputs": [],
   "source": [
    "import numpy as np\n",
    "import pandas as pd\n",
    "import pydicom\n",
    "import random\n",
    "from sklearn import preprocessing"
   ]
  },
  {
   "cell_type": "code",
   "execution_count": 3,
   "metadata": {},
   "outputs": [
    {
     "output_type": "execute_result",
     "data": {
      "text/plain": "<torch._C.Generator at 0x7f92bba3f4e0>"
     },
     "metadata": {},
     "execution_count": 3
    }
   ],
   "source": [
    "import torch\n",
    "import torch.nn as nn\n",
    "import torch.nn.functional as F\n",
    "\n",
    "torch.manual_seed(1)"
   ]
  },
  {
   "cell_type": "code",
   "execution_count": 4,
   "metadata": {},
   "outputs": [],
   "source": [
    "ROOT = CONFIG.CFG.DATA.BASE\n",
    "BATCH_SIZE = 64"
   ]
  },
  {
   "cell_type": "code",
   "execution_count": 5,
   "metadata": {},
   "outputs": [
    {
     "output_type": "execute_result",
     "data": {
      "text/html": "<div>\n<style scoped>\n    .dataframe tbody tr th:only-of-type {\n        vertical-align: middle;\n    }\n\n    .dataframe tbody tr th {\n        vertical-align: top;\n    }\n\n    .dataframe thead th {\n        text-align: right;\n    }\n</style>\n<table border=\"1\" class=\"dataframe\">\n  <thead>\n    <tr style=\"text-align: right;\">\n      <th></th>\n      <th>Patient</th>\n      <th>Weeks</th>\n      <th>FVC</th>\n      <th>Percent</th>\n      <th>Age</th>\n      <th>Sex</th>\n      <th>SmokingStatus</th>\n    </tr>\n  </thead>\n  <tbody>\n    <tr>\n      <th>0</th>\n      <td>ID00007637202177411956430</td>\n      <td>-4</td>\n      <td>2315</td>\n      <td>58.253649</td>\n      <td>79</td>\n      <td>Male</td>\n      <td>Ex-smoker</td>\n    </tr>\n    <tr>\n      <th>1</th>\n      <td>ID00007637202177411956430</td>\n      <td>5</td>\n      <td>2214</td>\n      <td>55.712129</td>\n      <td>79</td>\n      <td>Male</td>\n      <td>Ex-smoker</td>\n    </tr>\n    <tr>\n      <th>2</th>\n      <td>ID00007637202177411956430</td>\n      <td>7</td>\n      <td>2061</td>\n      <td>51.862104</td>\n      <td>79</td>\n      <td>Male</td>\n      <td>Ex-smoker</td>\n    </tr>\n    <tr>\n      <th>3</th>\n      <td>ID00007637202177411956430</td>\n      <td>9</td>\n      <td>2144</td>\n      <td>53.950679</td>\n      <td>79</td>\n      <td>Male</td>\n      <td>Ex-smoker</td>\n    </tr>\n    <tr>\n      <th>4</th>\n      <td>ID00007637202177411956430</td>\n      <td>11</td>\n      <td>2069</td>\n      <td>52.063412</td>\n      <td>79</td>\n      <td>Male</td>\n      <td>Ex-smoker</td>\n    </tr>\n  </tbody>\n</table>\n</div>",
      "text/plain": "                     Patient  Weeks   FVC    Percent  Age   Sex SmokingStatus\n0  ID00007637202177411956430     -4  2315  58.253649   79  Male     Ex-smoker\n1  ID00007637202177411956430      5  2214  55.712129   79  Male     Ex-smoker\n2  ID00007637202177411956430      7  2061  51.862104   79  Male     Ex-smoker\n3  ID00007637202177411956430      9  2144  53.950679   79  Male     Ex-smoker\n4  ID00007637202177411956430     11  2069  52.063412   79  Male     Ex-smoker"
     },
     "metadata": {},
     "execution_count": 5
    }
   ],
   "source": [
    "train_df = pd.read_csv(os.path.join(ROOT, \"train.csv\"))\n",
    "train_df.head()"
   ]
  },
  {
   "cell_type": "code",
   "execution_count": 7,
   "metadata": {},
   "outputs": [
    {
     "output_type": "execute_result",
     "data": {
      "text/html": "<div>\n<style scoped>\n    .dataframe tbody tr th:only-of-type {\n        vertical-align: middle;\n    }\n\n    .dataframe tbody tr th {\n        vertical-align: top;\n    }\n\n    .dataframe thead th {\n        text-align: right;\n    }\n</style>\n<table border=\"1\" class=\"dataframe\">\n  <thead>\n    <tr style=\"text-align: right;\">\n      <th></th>\n      <th>Patient</th>\n      <th>Weeks</th>\n      <th>FVC</th>\n      <th>Percent</th>\n      <th>Age</th>\n      <th>Sex</th>\n      <th>SmokingStatus</th>\n      <th>min_week</th>\n    </tr>\n  </thead>\n  <tbody>\n    <tr>\n      <th>0</th>\n      <td>ID00007637202177411956430</td>\n      <td>-4</td>\n      <td>2315</td>\n      <td>58.253649</td>\n      <td>79</td>\n      <td>Male</td>\n      <td>Ex-smoker</td>\n      <td>-4</td>\n    </tr>\n    <tr>\n      <th>1</th>\n      <td>ID00007637202177411956430</td>\n      <td>5</td>\n      <td>2214</td>\n      <td>55.712129</td>\n      <td>79</td>\n      <td>Male</td>\n      <td>Ex-smoker</td>\n      <td>-4</td>\n    </tr>\n    <tr>\n      <th>2</th>\n      <td>ID00007637202177411956430</td>\n      <td>7</td>\n      <td>2061</td>\n      <td>51.862104</td>\n      <td>79</td>\n      <td>Male</td>\n      <td>Ex-smoker</td>\n      <td>-4</td>\n    </tr>\n    <tr>\n      <th>3</th>\n      <td>ID00007637202177411956430</td>\n      <td>9</td>\n      <td>2144</td>\n      <td>53.950679</td>\n      <td>79</td>\n      <td>Male</td>\n      <td>Ex-smoker</td>\n      <td>-4</td>\n    </tr>\n    <tr>\n      <th>4</th>\n      <td>ID00007637202177411956430</td>\n      <td>11</td>\n      <td>2069</td>\n      <td>52.063412</td>\n      <td>79</td>\n      <td>Male</td>\n      <td>Ex-smoker</td>\n      <td>-4</td>\n    </tr>\n  </tbody>\n</table>\n</div>",
      "text/plain": "                     Patient  Weeks   FVC  ...   Sex  SmokingStatus min_week\n0  ID00007637202177411956430     -4  2315  ...  Male      Ex-smoker       -4\n1  ID00007637202177411956430      5  2214  ...  Male      Ex-smoker       -4\n2  ID00007637202177411956430      7  2061  ...  Male      Ex-smoker       -4\n3  ID00007637202177411956430      9  2144  ...  Male      Ex-smoker       -4\n4  ID00007637202177411956430     11  2069  ...  Male      Ex-smoker       -4\n\n[5 rows x 8 columns]"
     },
     "metadata": {},
     "execution_count": 7
    }
   ],
   "source": [
    "train_df['min_week'] = train_df['Weeks']\n",
    "train_df['min_week'] = train_df.groupby('Patient')['min_week'].transform('min')\n",
    "train_df.head()"
   ]
  },
  {
   "cell_type": "code",
   "execution_count": 8,
   "metadata": {},
   "outputs": [
    {
     "output_type": "execute_result",
     "data": {
      "text/html": "<div>\n<style scoped>\n    .dataframe tbody tr th:only-of-type {\n        vertical-align: middle;\n    }\n\n    .dataframe tbody tr th {\n        vertical-align: top;\n    }\n\n    .dataframe thead th {\n        text-align: right;\n    }\n</style>\n<table border=\"1\" class=\"dataframe\">\n  <thead>\n    <tr style=\"text-align: right;\">\n      <th></th>\n      <th>Patient</th>\n      <th>Weeks</th>\n      <th>FVC</th>\n      <th>Percent</th>\n      <th>Age</th>\n      <th>Sex</th>\n      <th>SmokingStatus</th>\n      <th>min_week</th>\n      <th>base_week</th>\n    </tr>\n  </thead>\n  <tbody>\n    <tr>\n      <th>0</th>\n      <td>ID00007637202177411956430</td>\n      <td>-4</td>\n      <td>2315</td>\n      <td>58.253649</td>\n      <td>79</td>\n      <td>Male</td>\n      <td>Ex-smoker</td>\n      <td>-4</td>\n      <td>0</td>\n    </tr>\n    <tr>\n      <th>1</th>\n      <td>ID00007637202177411956430</td>\n      <td>5</td>\n      <td>2214</td>\n      <td>55.712129</td>\n      <td>79</td>\n      <td>Male</td>\n      <td>Ex-smoker</td>\n      <td>-4</td>\n      <td>9</td>\n    </tr>\n    <tr>\n      <th>2</th>\n      <td>ID00007637202177411956430</td>\n      <td>7</td>\n      <td>2061</td>\n      <td>51.862104</td>\n      <td>79</td>\n      <td>Male</td>\n      <td>Ex-smoker</td>\n      <td>-4</td>\n      <td>11</td>\n    </tr>\n    <tr>\n      <th>3</th>\n      <td>ID00007637202177411956430</td>\n      <td>9</td>\n      <td>2144</td>\n      <td>53.950679</td>\n      <td>79</td>\n      <td>Male</td>\n      <td>Ex-smoker</td>\n      <td>-4</td>\n      <td>13</td>\n    </tr>\n    <tr>\n      <th>4</th>\n      <td>ID00007637202177411956430</td>\n      <td>11</td>\n      <td>2069</td>\n      <td>52.063412</td>\n      <td>79</td>\n      <td>Male</td>\n      <td>Ex-smoker</td>\n      <td>-4</td>\n      <td>15</td>\n    </tr>\n  </tbody>\n</table>\n</div>",
      "text/plain": "                     Patient  Weeks   FVC  ...  SmokingStatus  min_week base_week\n0  ID00007637202177411956430     -4  2315  ...      Ex-smoker        -4         0\n1  ID00007637202177411956430      5  2214  ...      Ex-smoker        -4         9\n2  ID00007637202177411956430      7  2061  ...      Ex-smoker        -4        11\n3  ID00007637202177411956430      9  2144  ...      Ex-smoker        -4        13\n4  ID00007637202177411956430     11  2069  ...      Ex-smoker        -4        15\n\n[5 rows x 9 columns]"
     },
     "metadata": {},
     "execution_count": 8
    }
   ],
   "source": [
    "train_df['base_week'] = train_df['Weeks'] - train_df['min_week']\n",
    "train_df.head()"
   ]
  },
  {
   "cell_type": "code",
   "execution_count": 10,
   "metadata": {},
   "outputs": [],
   "source": [
    "min_max_scaler = preprocessing.MinMaxScaler()"
   ]
  },
  {
   "cell_type": "code",
   "execution_count": 11,
   "metadata": {},
   "outputs": [],
   "source": [
    "lstm_input = train_df[['base_week', 'FVC', 'Age']].values\n",
    "lstm_input_scaled = torch.tensor(min_max_scaler.fit_transform(lstm_input)).float()\n",
    "train_df[['base_week', 'FVC', 'Age']] = lstm_input_scaled"
   ]
  },
  {
   "cell_type": "code",
   "execution_count": 12,
   "metadata": {},
   "outputs": [
    {
     "output_type": "execute_result",
     "data": {
      "text/html": "<div>\n<style scoped>\n    .dataframe tbody tr th:only-of-type {\n        vertical-align: middle;\n    }\n\n    .dataframe tbody tr th {\n        vertical-align: top;\n    }\n\n    .dataframe thead th {\n        text-align: right;\n    }\n</style>\n<table border=\"1\" class=\"dataframe\">\n  <thead>\n    <tr style=\"text-align: right;\">\n      <th></th>\n      <th>Patient</th>\n      <th>Weeks</th>\n      <th>FVC</th>\n      <th>Percent</th>\n      <th>Age</th>\n      <th>Sex</th>\n      <th>SmokingStatus</th>\n      <th>min_week</th>\n      <th>base_week</th>\n    </tr>\n  </thead>\n  <tbody>\n    <tr>\n      <th>0</th>\n      <td>ID00007637202177411956430</td>\n      <td>-4</td>\n      <td>0.267050</td>\n      <td>58.253649</td>\n      <td>0.769231</td>\n      <td>Male</td>\n      <td>Ex-smoker</td>\n      <td>-4</td>\n      <td>0.000000</td>\n    </tr>\n    <tr>\n      <th>1</th>\n      <td>ID00007637202177411956430</td>\n      <td>5</td>\n      <td>0.248923</td>\n      <td>55.712129</td>\n      <td>0.769231</td>\n      <td>Male</td>\n      <td>Ex-smoker</td>\n      <td>-4</td>\n      <td>0.142857</td>\n    </tr>\n    <tr>\n      <th>2</th>\n      <td>ID00007637202177411956430</td>\n      <td>7</td>\n      <td>0.221464</td>\n      <td>51.862104</td>\n      <td>0.769231</td>\n      <td>Male</td>\n      <td>Ex-smoker</td>\n      <td>-4</td>\n      <td>0.174603</td>\n    </tr>\n    <tr>\n      <th>3</th>\n      <td>ID00007637202177411956430</td>\n      <td>9</td>\n      <td>0.236360</td>\n      <td>53.950679</td>\n      <td>0.769231</td>\n      <td>Male</td>\n      <td>Ex-smoker</td>\n      <td>-4</td>\n      <td>0.206349</td>\n    </tr>\n    <tr>\n      <th>4</th>\n      <td>ID00007637202177411956430</td>\n      <td>11</td>\n      <td>0.222900</td>\n      <td>52.063412</td>\n      <td>0.769231</td>\n      <td>Male</td>\n      <td>Ex-smoker</td>\n      <td>-4</td>\n      <td>0.238095</td>\n    </tr>\n  </tbody>\n</table>\n</div>",
      "text/plain": "                     Patient  Weeks  ...  min_week  base_week\n0  ID00007637202177411956430     -4  ...        -4   0.000000\n1  ID00007637202177411956430      5  ...        -4   0.142857\n2  ID00007637202177411956430      7  ...        -4   0.174603\n3  ID00007637202177411956430      9  ...        -4   0.206349\n4  ID00007637202177411956430     11  ...        -4   0.238095\n\n[5 rows x 9 columns]"
     },
     "metadata": {},
     "execution_count": 12
    }
   ],
   "source": [
    "train_df.head()"
   ]
  },
  {
   "cell_type": "code",
   "execution_count": 13,
   "metadata": {},
   "outputs": [],
   "source": [
    "class OSICLSTM(nn.Module):\n",
    "    def __init__(self, input_size, hidden_size, num_layers, output_size):\n",
    "        super(OSICLSTM, self).__init__()\n",
    "        self.hidden_size = hidden_size\n",
    "\n",
    "        self.lstm = nn.LSTM(input_size, hidden_size, num_layers, batch_first=True)\n",
    "        self.lc = nn.Linear(hidden_size, 50)\n",
    "        self.lc2 = nn.Linear(50, output_size)\n",
    "\n",
    "    def forward(self, X):\n",
    "        out, _ = self.lstm(X)\n",
    "        out = self.lc(out)\n",
    "        out = self.lc2(out)\n",
    "        return out"
   ]
  },
  {
   "cell_type": "code",
   "execution_count": 19,
   "metadata": {},
   "outputs": [],
   "source": [
    "model = OSICLSTM(3, 200, 3, 3)\n",
    "loss_function = nn.MSELoss()\n",
    "optimizer = torch.optim.Adam(model.parameters(), lr=0.01)"
   ]
  },
  {
   "cell_type": "code",
   "execution_count": 20,
   "metadata": {},
   "outputs": [],
   "source": [
    "ALL_PATIENTS = train_df[\"Patient\"].unique().tolist()"
   ]
  },
  {
   "cell_type": "code",
   "execution_count": 21,
   "metadata": {},
   "outputs": [
    {
     "output_type": "execute_result",
     "data": {
      "text/plain": "OSICLSTM(\n  (lstm): LSTM(3, 200, num_layers=3, batch_first=True)\n  (lc): Linear(in_features=200, out_features=50, bias=True)\n  (lc2): Linear(in_features=50, out_features=3, bias=True)\n)"
     },
     "metadata": {},
     "execution_count": 21
    }
   ],
   "source": [
    "model.train()"
   ]
  },
  {
   "cell_type": "code",
   "execution_count": 22,
   "metadata": {
    "tags": []
   },
   "outputs": [
    {
     "output_type": "stream",
     "name": "stdout",
     "text": "tensor([[[-0.1140, -0.1158,  0.0018]]], grad_fn=<AddBackward0>)\n"
    }
   ],
   "source": [
    "for patient in ALL_PATIENTS:\n",
    "    patient_data = train_df[train_df[\"Patient\"] == patient][['min_week', 'FVC', 'Age']].values\n",
    "    patient_data = torch.tensor(patient_data).float()\n",
    "\n",
    "    for data in patient_data:\n",
    "        out = model(data.view(1,1,-1))\n",
    "        print(out)\n",
    "        break\n",
    "    break"
   ]
  },
  {
   "cell_type": "code",
   "execution_count": 23,
   "metadata": {
    "tags": []
   },
   "outputs": [
    {
     "output_type": "stream",
     "name": "stdout",
     "text": "Epoch 0, loss=23900.01107638649\nEpoch 1, loss=15055.669008816121\nEpoch 2, loss=12559.621976547141\nEpoch 3, loss=6961.615223087998\nEpoch 4, loss=4881.21737738177\nEpoch 5, loss=24271.688548769223\nEpoch 6, loss=46815.72071284326\nEpoch 7, loss=31920.383186828927\nEpoch 8, loss=26907.299734701424\nEpoch 9, loss=15846.584536164532\nEpoch 10, loss=23505.28411441258\nEpoch 11, loss=26480.95775312662\nEpoch 12, loss=12427.572465533747\nEpoch 13, loss=8288.950672816403\nEpoch 14, loss=23034.282620031518\nEpoch 15, loss=15574.389137453876\nEpoch 16, loss=20065.05176988326\nEpoch 17, loss=12505.061204730757\nEpoch 18, loss=8990.748810592811\nEpoch 19, loss=10279.831789966835\nEpoch 20, loss=4033.331575033603\nEpoch 21, loss=6867.858081304442\nEpoch 22, loss=8520.852169791819\nEpoch 23, loss=7478.322513859993\nEpoch 24, loss=9490.116198775893\nEpoch 25, loss=7426.826837332811\nEpoch 26, loss=17079.889476676344\nEpoch 27, loss=26825.688856519184\nEpoch 28, loss=16988.35590349339\nEpoch 29, loss=25644.89848824172\nEpoch 30, loss=19603.92964258194\nEpoch 31, loss=15204.80855922763\nEpoch 32, loss=12516.378582440517\nEpoch 33, loss=14688.379972124823\nEpoch 34, loss=12503.218612553066\nEpoch 35, loss=29865.911588042065\nEpoch 36, loss=13924.305670649299\nEpoch 37, loss=10045.327096296865\nEpoch 38, loss=15686.630951814765\nEpoch 39, loss=15894.72948888233\nEpoch 40, loss=15635.04546520205\nEpoch 41, loss=15549.516786915505\nEpoch 42, loss=8341.147626709137\nEpoch 43, loss=17362.54608235629\nEpoch 44, loss=14226.47121579692\nEpoch 45, loss=26341.874592662185\nEpoch 46, loss=20703.129965824784\nEpoch 47, loss=14530.445240172847\nEpoch 48, loss=17845.00096467874\nEpoch 49, loss=24114.63600002163\nEpoch 50, loss=11711.482735841308\nEpoch 51, loss=10038.202371103827\nEpoch 52, loss=8519.4861358002\nEpoch 53, loss=28737.234656578166\nEpoch 54, loss=19556.68873417905\nEpoch 55, loss=38845.220658442144\nEpoch 56, loss=9195.982662068245\nEpoch 57, loss=11087.506440768406\nEpoch 58, loss=8594.548559010034\nEpoch 59, loss=7616.2309789467945\nEpoch 60, loss=7660.6366699047985\nEpoch 61, loss=6053.309100013874\nEpoch 62, loss=16132.04027520208\nEpoch 63, loss=6746.9823560840805\nEpoch 64, loss=16935.514354586077\nEpoch 65, loss=11322.236381614255\nEpoch 66, loss=10527.271310729591\nEpoch 67, loss=10927.223003225788\nEpoch 68, loss=28613.92121174761\nEpoch 69, loss=27549.861215598103\nEpoch 70, loss=11309.11683182391\nEpoch 71, loss=10216.539420004005\nEpoch 72, loss=8682.516442849015\nEpoch 73, loss=15500.518863920937\nEpoch 74, loss=15379.880613116322\nEpoch 75, loss=9661.827856000937\nEpoch 76, loss=15064.781324664342\nEpoch 77, loss=28912.32561925876\nEpoch 78, loss=52143.27031457054\nEpoch 79, loss=57387.25543275156\nEpoch 80, loss=56074.23626084337\nEpoch 81, loss=55832.07331322331\nEpoch 82, loss=46782.042845763695\nEpoch 83, loss=14891.845841117973\nEpoch 84, loss=12172.700625717049\nEpoch 85, loss=8061.739835243607\nEpoch 86, loss=10513.479766562852\nEpoch 87, loss=14887.976789628578\nEpoch 88, loss=14658.104218764689\nEpoch 89, loss=12885.7869621344\nEpoch 90, loss=17808.615638632196\nEpoch 91, loss=14025.325415991498\nEpoch 92, loss=10600.879694891519\nEpoch 93, loss=11502.995534308757\nEpoch 94, loss=10349.685778564166\nEpoch 95, loss=22792.07562711797\nEpoch 96, loss=27470.75423796294\nEpoch 97, loss=13896.612018453457\nEpoch 98, loss=15099.81852099726\nEpoch 99, loss=13655.27432553341\nEpoch 100, loss=18014.900939443807\nEpoch 101, loss=8375.174170212573\nEpoch 102, loss=19478.97153953484\nEpoch 103, loss=24930.813311742662\nEpoch 104, loss=23296.40181213362\nEpoch 105, loss=17219.88093543699\nEpoch 106, loss=15457.25210483536\nEpoch 107, loss=10337.086595650771\nEpoch 108, loss=11726.126037840811\nEpoch 109, loss=12361.318875657462\nEpoch 110, loss=12525.38877091359\nEpoch 111, loss=9615.71391528405\nEpoch 112, loss=10989.970957147209\nEpoch 113, loss=21774.46600940816\nEpoch 114, loss=12472.373487424371\nEpoch 115, loss=10427.047991509455\nEpoch 116, loss=15819.363743818934\nEpoch 117, loss=26334.512853047407\nEpoch 118, loss=20068.852716765767\nEpoch 119, loss=17466.435705307973\nEpoch 120, loss=13707.211568140538\nEpoch 121, loss=12477.044387225995\nEpoch 122, loss=12704.341694083514\nEpoch 123, loss=12765.183392362349\nEpoch 124, loss=11009.010178043745\nEpoch 125, loss=9461.393607478029\nEpoch 126, loss=10750.048806285706\nEpoch 127, loss=12365.054624217208\nEpoch 128, loss=11275.942512694028\nEpoch 129, loss=11827.041973384568\nEpoch 130, loss=10141.396597789144\nEpoch 131, loss=8028.254581563712\nEpoch 132, loss=9400.620922841712\nEpoch 133, loss=20923.10445003072\nEpoch 134, loss=10074.918733431938\nEpoch 135, loss=11779.434491942337\nEpoch 136, loss=11698.778006850825\nEpoch 137, loss=11196.869155258582\nEpoch 138, loss=12204.620158152045\nEpoch 139, loss=10398.865233810542\nEpoch 140, loss=6805.291813771952\nEpoch 141, loss=8515.29883370015\nEpoch 142, loss=10469.526371230528\nEpoch 143, loss=12331.207784582652\nEpoch 144, loss=8939.443065387042\nEpoch 145, loss=10399.346710910044\nEpoch 146, loss=8397.065433807293\nEpoch 147, loss=11209.804721577113\nEpoch 148, loss=14188.913951603\nEpoch 149, loss=9632.356310131136\nEpoch 150, loss=9186.50807141326\nEpoch 151, loss=12121.068507279826\nEpoch 152, loss=48013.00403016764\nEpoch 153, loss=19908.91723192428\nEpoch 154, loss=12753.659212850109\nEpoch 155, loss=7284.969766377285\nEpoch 156, loss=8777.291564500689\nEpoch 157, loss=10976.031846660757\nEpoch 158, loss=10915.911456443006\nEpoch 159, loss=7732.89904810532\nEpoch 160, loss=13913.653883322615\nEpoch 161, loss=15087.056014543059\nEpoch 162, loss=20458.581759494988\nEpoch 163, loss=19319.64395845435\nEpoch 164, loss=38982.861145143484\nEpoch 165, loss=39539.35237420754\nEpoch 166, loss=27488.85245711299\nEpoch 167, loss=58281.58069519678\nEpoch 168, loss=56639.269091786926\nEpoch 169, loss=48895.747357384396\nEpoch 170, loss=25848.8393814144\nEpoch 171, loss=58722.746832162804\nEpoch 172, loss=51215.44068362148\nEpoch 173, loss=26624.73600356534\nEpoch 174, loss=17981.224388782706\nEpoch 175, loss=16503.92293253965\nEpoch 176, loss=19600.2555211287\nEpoch 177, loss=20341.494874054162\nEpoch 178, loss=15609.68380447746\nEpoch 179, loss=16064.544437699895\nEpoch 180, loss=18574.65359349865\nEpoch 181, loss=15642.004939956158\nEpoch 182, loss=14846.743723926465\nEpoch 183, loss=24641.677768437705\nEpoch 184, loss=14697.361558862203\nEpoch 185, loss=16532.72623442607\nEpoch 186, loss=13996.862853020328\nEpoch 187, loss=12208.70130373329\nEpoch 188, loss=13471.997311875402\nEpoch 189, loss=14827.223737257133\nEpoch 190, loss=13743.122579752098\nEpoch 191, loss=11317.627268026392\nEpoch 192, loss=13277.1807129749\nEpoch 193, loss=14658.75558424016\nEpoch 194, loss=15934.401133166444\nEpoch 195, loss=12503.000721404833\nEpoch 196, loss=12515.07015911997\nEpoch 197, loss=23706.462261803896\nEpoch 198, loss=15612.798114053487\nEpoch 199, loss=18834.133199739357\nEpoch 200, loss=22469.63920363211\nEpoch 201, loss=12244.003132328153\nEpoch 202, loss=9028.25545774427\nEpoch 203, loss=9099.835482216657\nEpoch 204, loss=10649.312303867755\nEpoch 205, loss=17386.39994403505\nEpoch 206, loss=18627.917235156176\nEpoch 207, loss=13658.779171203887\nEpoch 208, loss=13147.214068124447\nEpoch 209, loss=12792.642091545511\nEpoch 210, loss=13138.453128826906\nEpoch 211, loss=11048.63300566\nEpoch 212, loss=11758.028682027685\nEpoch 213, loss=13324.39031640559\nEpoch 214, loss=12431.184108743302\nEpoch 215, loss=11347.003192602704\nEpoch 216, loss=13375.742037417875\nEpoch 217, loss=15635.849821475755\nEpoch 218, loss=11308.582112334447\nEpoch 219, loss=12371.393208399328\nEpoch 220, loss=11152.707699010767\nEpoch 221, loss=8737.495747032017\nEpoch 222, loss=10194.467119999443\nEpoch 223, loss=11013.76487565572\nEpoch 224, loss=12516.830901269042\nEpoch 225, loss=13032.816101313927\nEpoch 226, loss=11139.225920068951\nEpoch 227, loss=12629.52141403235\nEpoch 228, loss=14205.294046070916\nEpoch 229, loss=13412.186052631969\nEpoch 230, loss=12301.862833460666\nEpoch 231, loss=11695.076648721166\nEpoch 232, loss=14170.541327354918\nEpoch 233, loss=11939.30896830927\nEpoch 234, loss=16825.586511553975\nEpoch 235, loss=15084.232569850266\nEpoch 236, loss=14427.528560104896\nEpoch 237, loss=13847.824509518006\nEpoch 238, loss=13567.735536731698\nEpoch 239, loss=14006.299535375209\nEpoch 240, loss=14541.60600337294\nEpoch 241, loss=11981.308638746323\nEpoch 242, loss=9938.02257427613\nEpoch 243, loss=11661.790123027806\nEpoch 244, loss=12787.416650951234\nEpoch 245, loss=11704.971985271448\nEpoch 246, loss=10782.70991419826\nEpoch 247, loss=12294.037310936481\nEpoch 248, loss=12610.02615108423\nEpoch 249, loss=12186.373367691844\nEpoch 250, loss=13467.888347536938\nEpoch 251, loss=10788.913105251118\nEpoch 252, loss=11367.68266215851\nEpoch 253, loss=12912.04659893139\nEpoch 254, loss=11490.514060111484\nEpoch 255, loss=12651.860610233452\nEpoch 256, loss=11300.468468260118\nEpoch 257, loss=19336.545410000064\nEpoch 258, loss=10024.842404428578\nEpoch 259, loss=9266.61018687732\nEpoch 260, loss=12293.301034282411\nEpoch 261, loss=10320.208805044713\nEpoch 262, loss=8490.268254013761\nEpoch 263, loss=14781.243887422148\nEpoch 264, loss=11946.61441818902\nEpoch 265, loss=15235.788877408502\nEpoch 266, loss=14867.54450014676\nEpoch 267, loss=9335.1707289446\nEpoch 268, loss=10697.09544569983\nEpoch 269, loss=12250.459588679909\nEpoch 270, loss=14091.42587120597\nEpoch 271, loss=10995.254591741952\nEpoch 272, loss=17807.174575854027\nEpoch 273, loss=11632.565610608619\nEpoch 274, loss=15005.249275928329\nEpoch 275, loss=12975.336587565978\nEpoch 276, loss=14375.948988698907\nEpoch 277, loss=13759.676873640137\nEpoch 278, loss=9713.25435687908\nEpoch 279, loss=11312.958223318758\nEpoch 280, loss=9394.383550609957\nEpoch 281, loss=9088.363494235378\nEpoch 282, loss=11817.675114859869\nEpoch 283, loss=9209.51885111896\nEpoch 284, loss=11616.13994210687\nEpoch 285, loss=17233.19108221717\nEpoch 286, loss=8765.747929337791\nEpoch 287, loss=6784.821511580693\nEpoch 288, loss=4358.540859596147\nEpoch 289, loss=7419.505312724823\nEpoch 290, loss=6896.615163747194\nEpoch 291, loss=13943.976576322651\nEpoch 292, loss=10840.721725807667\nEpoch 293, loss=12143.731322544389\nEpoch 294, loss=9187.487115076874\nEpoch 295, loss=7089.368845329697\nEpoch 296, loss=7727.759493798548\nEpoch 297, loss=8470.63521250099\nEpoch 298, loss=5700.613630672433\nEpoch 299, loss=13506.158166200312\nEpoch 300, loss=7977.209798190768\nEpoch 301, loss=7752.6235654515485\nEpoch 302, loss=8032.031189197041\nEpoch 303, loss=9173.199445897842\nEpoch 304, loss=6572.317038130804\nEpoch 305, loss=7294.321015163914\nEpoch 306, loss=12255.904649874885\nEpoch 307, loss=10885.03638445262\nEpoch 308, loss=10113.028033402225\nEpoch 309, loss=9902.859064921886\nEpoch 310, loss=27008.35038650869\nEpoch 311, loss=26082.982854849844\nEpoch 312, loss=30008.386903759452\nEpoch 313, loss=58668.76656077732\nEpoch 314, loss=56084.96495485684\nEpoch 315, loss=43808.84324412892\nEpoch 316, loss=27161.86387379236\nEpoch 317, loss=14606.857315579147\nEpoch 318, loss=11922.410753990049\nEpoch 319, loss=13304.57416435922\nEpoch 320, loss=10956.137464247193\nEpoch 321, loss=6966.112867168926\nEpoch 322, loss=8947.352018551528\nEpoch 323, loss=16639.40061316376\nEpoch 324, loss=9532.137290842746\nEpoch 325, loss=12989.881828413372\nEpoch 326, loss=7899.060700951697\nEpoch 327, loss=9236.343471172844\nEpoch 328, loss=9156.752273635704\nEpoch 329, loss=12173.150627322982\nEpoch 330, loss=13307.378537210207\nEpoch 331, loss=10004.114795885218\nEpoch 332, loss=12896.082636294186\nEpoch 333, loss=8164.677002007912\nEpoch 334, loss=12042.084575675157\nEpoch 335, loss=11543.10599147755\nEpoch 336, loss=9853.009395806781\nEpoch 337, loss=30375.24275742118\nEpoch 338, loss=13934.460184589056\nEpoch 339, loss=13944.645412740043\nEpoch 340, loss=11066.666563109871\nEpoch 341, loss=9796.745453436868\nEpoch 342, loss=13001.111805596334\nEpoch 343, loss=12937.077730096076\nEpoch 344, loss=14366.501328149257\nEpoch 345, loss=12605.9489042907\nEpoch 346, loss=10628.84200505106\nEpoch 347, loss=7362.667877656627\nEpoch 348, loss=7156.690531845596\nEpoch 349, loss=6755.49927018178\nEpoch 350, loss=6769.47710926263\nEpoch 351, loss=5150.494685867919\nEpoch 352, loss=4569.085042752912\nEpoch 353, loss=6434.9171678527655\nEpoch 354, loss=8625.808836629421\nEpoch 355, loss=15285.175803746086\nEpoch 356, loss=23735.599110792446\nEpoch 357, loss=14375.015743754877\nEpoch 358, loss=11932.676088485723\nEpoch 359, loss=17797.667862563918\nEpoch 360, loss=8919.474008377574\nEpoch 361, loss=5674.047532527884\nEpoch 362, loss=8195.736777556673\nEpoch 363, loss=6501.063790904722\nEpoch 364, loss=5903.229998108705\nEpoch 365, loss=16032.13870786576\nEpoch 366, loss=28814.35469293304\nEpoch 367, loss=23380.01661648251\nEpoch 368, loss=12772.28096051524\nEpoch 369, loss=8000.69941003345\nEpoch 370, loss=7829.298599088665\nEpoch 371, loss=12119.451661752635\nEpoch 372, loss=26775.166416476193\nEpoch 373, loss=23607.880424307383\nEpoch 374, loss=9487.310419301235\nEpoch 375, loss=13010.66313714004\nEpoch 376, loss=10870.00113890224\nEpoch 377, loss=8649.142289431\nEpoch 378, loss=8951.101431371386\nEpoch 379, loss=9747.40728952848\nEpoch 380, loss=10416.725580444812\nEpoch 381, loss=11466.70299354653\nEpoch 382, loss=11121.644772233218\nEpoch 383, loss=11870.598080395574\nEpoch 384, loss=15443.889854212346\nEpoch 385, loss=7136.125372042486\nEpoch 386, loss=8428.22028985784\nEpoch 387, loss=6164.478259052763\nEpoch 388, loss=4216.135871191775\nEpoch 389, loss=3824.5999662831937\nEpoch 390, loss=3422.3389682620746\nEpoch 391, loss=4580.598553411597\nEpoch 392, loss=8431.743946379003\nEpoch 393, loss=13615.66551226554\nEpoch 394, loss=19846.05301926773\nEpoch 395, loss=13905.364637363982\nEpoch 396, loss=10352.708692162048\nEpoch 397, loss=7954.944073405972\nEpoch 398, loss=7424.746810694493\nEpoch 399, loss=6070.663943203911\nEpoch 400, loss=18695.37185811515\nEpoch 401, loss=6838.262594060739\nEpoch 402, loss=6582.977279507045\nEpoch 403, loss=5019.075689950608\nEpoch 404, loss=4233.675459435806\nEpoch 405, loss=4091.733175292924\nEpoch 406, loss=3732.149206704028\nEpoch 407, loss=5175.451433476837\nEpoch 408, loss=5862.732495862677\nEpoch 409, loss=4606.4780117031105\nEpoch 410, loss=6594.049236291916\nEpoch 411, loss=6922.491731858403\nEpoch 412, loss=11490.179898252589\nEpoch 413, loss=16835.035431405024\nEpoch 414, loss=6553.810711607553\nEpoch 415, loss=9437.483917132357\nEpoch 416, loss=6671.051373374912\nEpoch 417, loss=9063.048817724222\nEpoch 418, loss=12583.481774311713\nEpoch 419, loss=17866.739653471428\nEpoch 420, loss=13809.083813701633\nEpoch 421, loss=13150.10988414808\nEpoch 422, loss=5564.47721349725\nEpoch 423, loss=8639.463222267823\nEpoch 424, loss=8483.969492366658\nEpoch 425, loss=12951.269179395596\nEpoch 426, loss=10952.344696115464\nEpoch 427, loss=5460.619963162912\nEpoch 428, loss=4642.094635415755\nEpoch 429, loss=8501.090621696747\nEpoch 430, loss=10714.69140110143\nEpoch 431, loss=8430.045630915154\nEpoch 432, loss=13230.230499810972\nEpoch 433, loss=11473.88961758818\nEpoch 434, loss=16538.95941463728\nEpoch 435, loss=11817.439916259811\nEpoch 436, loss=5256.993209355309\nEpoch 437, loss=5824.543483005483\nEpoch 438, loss=9386.959073977068\nEpoch 439, loss=3757.300247917032\nEpoch 440, loss=6304.629102549801\nEpoch 441, loss=13045.407166064286\nEpoch 442, loss=20300.854566637212\nEpoch 443, loss=10561.32126543468\nEpoch 444, loss=11638.99334166078\nEpoch 445, loss=13530.385858451275\nEpoch 446, loss=10138.079550294271\nEpoch 447, loss=7487.661300287419\nEpoch 448, loss=6637.097210384669\nEpoch 449, loss=3681.1426689702307\nEpoch 450, loss=17479.86069980092\nEpoch 451, loss=8304.42686774848\nEpoch 452, loss=5894.099333627958\nEpoch 453, loss=6228.62451566718\nEpoch 454, loss=11680.384971182015\nEpoch 455, loss=12825.204924760441\nEpoch 456, loss=3891.857147807706\nEpoch 457, loss=5610.366231220031\nEpoch 458, loss=4670.652113895234\nEpoch 459, loss=5578.117782786353\nEpoch 460, loss=4581.271687558244\nEpoch 461, loss=5239.192297141112\nEpoch 462, loss=6894.643237942244\nEpoch 463, loss=13713.989799446816\nEpoch 464, loss=17628.56150336074\nEpoch 465, loss=13883.522727146948\nEpoch 466, loss=10889.235209115344\nEpoch 467, loss=9818.470097167281\nEpoch 468, loss=14240.300033306123\nEpoch 469, loss=9481.501747870769\nEpoch 470, loss=8622.737318587244\nEpoch 471, loss=8354.306363004696\nEpoch 472, loss=5557.427123448618\nEpoch 473, loss=6515.907144722337\nEpoch 474, loss=7186.379004288921\nEpoch 475, loss=4573.49764654683\nEpoch 476, loss=12408.34568369211\nEpoch 477, loss=8257.366660412941\nEpoch 478, loss=5325.228600634966\nEpoch 479, loss=11467.975632301717\nEpoch 480, loss=11692.516543165\nEpoch 481, loss=4889.049914670186\nEpoch 482, loss=6830.321771235493\nEpoch 483, loss=4874.603744544874\nEpoch 484, loss=7555.635801529118\nEpoch 485, loss=6355.898657003377\nEpoch 486, loss=8414.508611054993\nEpoch 487, loss=6533.134892015615\nEpoch 488, loss=10850.836207283774\nEpoch 489, loss=8214.136264503884\nEpoch 490, loss=9050.866711668587\nEpoch 491, loss=10281.898075039502\nEpoch 492, loss=6759.221934640222\nEpoch 493, loss=9770.650415205888\nEpoch 494, loss=6258.582168491785\nEpoch 495, loss=8690.271250759948\nEpoch 496, loss=25139.0971531475\nEpoch 497, loss=20089.128635918976\nEpoch 498, loss=15001.919659227451\nEpoch 499, loss=13224.822443927873\nEpoch 500, loss=14830.869829946852\nEpoch 501, loss=15371.508096073725\nEpoch 502, loss=11681.65989352343\nEpoch 503, loss=10775.813173050346\nEpoch 504, loss=9284.657384946668\nEpoch 505, loss=8055.136321848752\nEpoch 506, loss=10017.519925749792\nEpoch 507, loss=4872.951455741082\nEpoch 508, loss=15777.646278432501\nEpoch 509, loss=13458.16237455277\nEpoch 510, loss=13189.656927752741\nEpoch 511, loss=14946.76865883822\nEpoch 512, loss=18794.798537969\nEpoch 513, loss=21550.607546724837\nEpoch 514, loss=13535.685592780575\nEpoch 515, loss=7924.63580808872\nEpoch 516, loss=11746.659109739241\nEpoch 517, loss=12900.775032949912\nEpoch 518, loss=8552.5610768434\nEpoch 519, loss=17593.31366081647\nEpoch 520, loss=12396.119367422867\nEpoch 521, loss=23124.46507011223\nEpoch 522, loss=17997.881360278334\nEpoch 523, loss=11788.664335977166\nEpoch 524, loss=8645.094205362686\nEpoch 525, loss=8203.801184964062\nEpoch 526, loss=5651.537736175304\nEpoch 527, loss=9231.683540892886\nEpoch 528, loss=9650.666497937154\nEpoch 529, loss=8210.05007242676\nEpoch 530, loss=4209.967466606419\nEpoch 531, loss=11020.461487041963\nEpoch 532, loss=16461.422772890102\nEpoch 533, loss=13882.35028414344\nEpoch 534, loss=13920.65015533349\nEpoch 535, loss=17954.726623852017\nEpoch 536, loss=15468.028344505265\nEpoch 537, loss=12006.003961142864\nEpoch 538, loss=10858.982547428865\nEpoch 539, loss=13901.297510135026\nEpoch 540, loss=11619.819980390244\nEpoch 541, loss=16501.48377827912\nEpoch 542, loss=7871.623768889279\nEpoch 543, loss=9776.435308873606\nEpoch 544, loss=7098.446195941466\nEpoch 545, loss=6608.9284843619025\nEpoch 546, loss=11603.171747669161\nEpoch 547, loss=22297.429604441684\nEpoch 548, loss=18431.89618056225\nEpoch 549, loss=18997.663020426306\nEpoch 550, loss=17300.120010557643\nEpoch 551, loss=23888.99569932743\nEpoch 552, loss=20452.24698557183\nEpoch 553, loss=15648.964070136628\nEpoch 554, loss=17454.349608830686\nEpoch 555, loss=17298.955808003804\nEpoch 556, loss=7853.329263433448\nEpoch 557, loss=10926.621126717437\nEpoch 558, loss=39810.490422359006\nEpoch 559, loss=31137.999383289633\nEpoch 560, loss=11537.375576691284\nEpoch 561, loss=16601.891259681193\nEpoch 562, loss=12727.283676713445\nEpoch 563, loss=10814.91041491295\nEpoch 564, loss=18470.094582530808\nEpoch 565, loss=14020.435702358573\nEpoch 566, loss=20762.110042202985\nEpoch 567, loss=11329.754840299493\nEpoch 568, loss=9612.732928506182\nEpoch 569, loss=27387.364205429938\nEpoch 570, loss=37643.08866802021\nEpoch 571, loss=15884.329961858391\nEpoch 572, loss=11361.659930179098\nEpoch 573, loss=11180.29228384519\nEpoch 574, loss=17331.33899548705\nEpoch 575, loss=10552.43193257102\nEpoch 576, loss=14217.339366900147\nEpoch 577, loss=20747.68278461144\nEpoch 578, loss=20128.942430831714\nEpoch 579, loss=11838.498862762188\nEpoch 580, loss=10428.469941851075\nEpoch 581, loss=6517.607353302194\nEpoch 582, loss=10139.649384975515\nEpoch 583, loss=13793.990903044163\nEpoch 584, loss=18805.854276624763\nEpoch 585, loss=25447.945476248762\nEpoch 586, loss=15248.67725731719\nEpoch 587, loss=12520.321486381294\nEpoch 588, loss=11292.403318227363\nEpoch 589, loss=9919.575928034476\nEpoch 590, loss=10122.824630896142\nEpoch 591, loss=16418.909785782194\nEpoch 592, loss=16555.54549110148\nEpoch 593, loss=19928.120372269048\nEpoch 594, loss=9306.18064909677\nEpoch 595, loss=12308.170171244743\nEpoch 596, loss=13471.580892384036\nEpoch 597, loss=13347.405153220321\nEpoch 598, loss=12387.850791633447\nEpoch 599, loss=13501.561032122909\nEpoch 600, loss=10421.463085127183\nEpoch 601, loss=12556.630831188426\nEpoch 602, loss=12089.873327884903\nEpoch 603, loss=9855.307026961216\nEpoch 604, loss=13711.06823015608\nEpoch 605, loss=10842.76946039876\nEpoch 606, loss=10350.541921167254\nEpoch 607, loss=9788.209895440947\nEpoch 608, loss=12352.017458031949\nEpoch 609, loss=14586.448478973567\nEpoch 610, loss=12324.644533891827\nEpoch 611, loss=12265.995046592017\nEpoch 612, loss=15727.589275721242\nEpoch 613, loss=13145.369805954448\nEpoch 614, loss=14558.577777520137\nEpoch 615, loss=10875.125097951524\nEpoch 616, loss=10087.264879928876\nEpoch 617, loss=11968.993865709675\nEpoch 618, loss=11795.985285294139\nEpoch 619, loss=13432.6933987755\nEpoch 620, loss=12540.583716282736\nEpoch 621, loss=10003.25186276821\nEpoch 622, loss=9289.293150348884\nEpoch 623, loss=9851.696616982937\nEpoch 624, loss=19886.156527448893\nEpoch 625, loss=22506.446614253524\nEpoch 626, loss=14792.017317186017\nEpoch 627, loss=9985.447088017698\nEpoch 628, loss=17434.747181386312\nEpoch 629, loss=17432.32844391161\nEpoch 630, loss=14682.734806685114\nEpoch 631, loss=17698.623169477287\nEpoch 632, loss=13623.530772730437\nEpoch 633, loss=19376.722849057976\nEpoch 634, loss=12387.434755724498\nEpoch 635, loss=9510.572375429725\nEpoch 636, loss=9555.56417764986\nEpoch 637, loss=10153.13686181116\nEpoch 638, loss=13200.685255273302\nEpoch 639, loss=8879.212055108193\nEpoch 640, loss=13177.742637315865\nEpoch 641, loss=10949.324244231504\nEpoch 642, loss=14611.899962663825\nEpoch 643, loss=11490.098617066129\nEpoch 644, loss=17728.689473694987\nEpoch 645, loss=11875.649273602341\nEpoch 646, loss=13704.019273244627\nEpoch 647, loss=10614.603084974162\nEpoch 648, loss=11964.550604168388\nEpoch 649, loss=10331.946309989915\nEpoch 650, loss=11132.365113350503\nEpoch 651, loss=9400.18130237603\nEpoch 652, loss=10886.591239799998\nEpoch 653, loss=11781.37574688882\nEpoch 654, loss=12715.625038433789\nEpoch 655, loss=14817.223068279613\nEpoch 656, loss=28003.93404656959\nEpoch 657, loss=16917.693816484498\nEpoch 658, loss=14548.036095638561\nEpoch 659, loss=9863.842493527705\nEpoch 660, loss=9293.434283102344\nEpoch 661, loss=8485.767073751318\nEpoch 662, loss=6603.527807789541\nEpoch 663, loss=8834.05425592234\nEpoch 664, loss=19069.731798329987\nEpoch 665, loss=13265.370840503474\nEpoch 666, loss=14514.902178172239\nEpoch 667, loss=17713.8351987915\nEpoch 668, loss=10598.775566912625\nEpoch 669, loss=14732.018998005136\nEpoch 670, loss=10233.834842634853\nEpoch 671, loss=11056.83044557955\nEpoch 672, loss=7196.852657422875\nEpoch 673, loss=6603.7024455283035\nEpoch 674, loss=14086.587776860071\nEpoch 675, loss=11848.72378369345\nEpoch 676, loss=18231.25855860953\nEpoch 677, loss=10725.989315701774\nEpoch 678, loss=9008.521120662415\nEpoch 679, loss=11823.071464994664\nEpoch 680, loss=8752.081369029685\nEpoch 681, loss=8652.513538361976\nEpoch 682, loss=7571.566880097075\nEpoch 683, loss=7278.50442048726\nEpoch 684, loss=8906.330039862996\nEpoch 685, loss=18117.63610202414\nEpoch 686, loss=11063.358096053727\nEpoch 687, loss=5522.836506312472\nEpoch 688, loss=5970.0401678507005\nEpoch 689, loss=8381.692518242833\nEpoch 690, loss=6325.206796080429\nEpoch 691, loss=9353.52198800674\nEpoch 692, loss=7835.3823092032335\nEpoch 693, loss=6608.14852137397\nEpoch 694, loss=5765.517612525756\nEpoch 695, loss=7215.945563546927\nEpoch 696, loss=4415.027438333997\nEpoch 697, loss=4978.676773398558\nEpoch 698, loss=7371.705383601846\nEpoch 699, loss=11323.829581746551\nEpoch 700, loss=10418.50782617116\nEpoch 701, loss=32154.080617372\nEpoch 702, loss=11525.049523413547\nEpoch 703, loss=6625.35341700116\nEpoch 704, loss=10205.977885091133\nEpoch 705, loss=13938.591317581922\nEpoch 706, loss=8824.947932063482\nEpoch 707, loss=16098.17290893607\nEpoch 708, loss=7402.680257641311\nEpoch 709, loss=5788.244632814944\nEpoch 710, loss=6972.633093624222\nEpoch 711, loss=7898.260421438928\nEpoch 712, loss=4463.325807170948\nEpoch 713, loss=5262.922678816601\nEpoch 714, loss=14237.132312184154\nEpoch 715, loss=9158.0541705589\nEpoch 716, loss=15446.732086375428\nEpoch 717, loss=14285.256011698782\nEpoch 718, loss=11085.93223236505\nEpoch 719, loss=11155.723635057486\nEpoch 720, loss=9845.501899035842\nEpoch 721, loss=7467.0899143041215\nEpoch 722, loss=10406.49283355206\nEpoch 723, loss=20112.354568583596\nEpoch 724, loss=16615.157454295208\nEpoch 725, loss=7403.330643913254\nEpoch 726, loss=9400.680103134593\nEpoch 727, loss=9860.999530403937\nEpoch 728, loss=5527.6728432972495\nEpoch 729, loss=7727.807874635735\nEpoch 730, loss=10583.708255469714\nEpoch 731, loss=11711.533447478378\nEpoch 732, loss=9574.021354373217\nEpoch 733, loss=9443.504405178488\nEpoch 734, loss=14635.296707891974\nEpoch 735, loss=8482.016161901713\nEpoch 736, loss=8467.703015838642\nEpoch 737, loss=9222.685497374317\nEpoch 738, loss=8802.51642096935\nEpoch 739, loss=9599.672387123255\nEpoch 740, loss=9927.71397491727\nEpoch 741, loss=16765.829786728038\nEpoch 742, loss=11457.07655105519\nEpoch 743, loss=6350.086765926679\nEpoch 744, loss=5899.821808836614\nEpoch 745, loss=5941.903993544448\nEpoch 746, loss=6304.2646219797\nEpoch 747, loss=6338.333645227655\nEpoch 748, loss=13330.719729428749\nEpoch 749, loss=12686.656034668425\nEpoch 750, loss=10242.473545839448\nEpoch 751, loss=5847.876844721734\nEpoch 752, loss=7330.410562857324\nEpoch 753, loss=13939.390888417\nEpoch 754, loss=18180.820810915375\nEpoch 755, loss=20463.38480133651\nEpoch 756, loss=10631.904950099564\nEpoch 757, loss=14061.969462129315\nEpoch 758, loss=17144.090138239146\nEpoch 759, loss=15161.68383109294\nEpoch 760, loss=8608.118418809165\nEpoch 761, loss=14575.546309721502\nEpoch 762, loss=20115.55227618683\nEpoch 763, loss=19061.572743028766\nEpoch 764, loss=11112.175553518078\nEpoch 765, loss=24674.87383932229\nEpoch 766, loss=23958.587506491174\nEpoch 767, loss=37437.630342355835\nEpoch 768, loss=20149.959981908225\nEpoch 769, loss=10815.157436014919\nEpoch 770, loss=9653.440571019559\nEpoch 771, loss=13006.077301667987\nEpoch 772, loss=11735.56995521082\nEpoch 773, loss=8765.801181313338\nEpoch 774, loss=13636.884509703475\nEpoch 775, loss=6580.1693307499845\nEpoch 776, loss=8921.331277169538\nEpoch 777, loss=8699.123416857468\nEpoch 778, loss=13943.026898869215\nEpoch 779, loss=10696.576402265167\nEpoch 780, loss=6392.377071234002\nEpoch 781, loss=3760.0227807648785\nEpoch 782, loss=6449.176291894711\nEpoch 783, loss=7597.8249707726045\nEpoch 784, loss=11040.08228081836\nEpoch 785, loss=6075.428276487696\nEpoch 786, loss=10254.015273843086\nEpoch 787, loss=7857.799829176927\nEpoch 788, loss=6745.434943107486\nEpoch 789, loss=10075.050250379903\nEpoch 790, loss=12545.799567397036\nEpoch 791, loss=14435.565319436362\nEpoch 792, loss=22278.715971516365\nEpoch 793, loss=8716.276997736333\nEpoch 794, loss=13256.2512664624\nEpoch 795, loss=15009.39151502222\nEpoch 796, loss=14276.469401522752\nEpoch 797, loss=9551.889449804548\nEpoch 798, loss=9132.708107524026\nEpoch 799, loss=7538.813071910129\nEpoch 800, loss=18986.36236527733\nEpoch 801, loss=11741.328048719233\nEpoch 802, loss=14924.448618010603\nEpoch 803, loss=9764.25420856556\nEpoch 804, loss=8145.092650406925\nEpoch 805, loss=14902.177273245867\nEpoch 806, loss=8118.050542342975\nEpoch 807, loss=23832.034455195902\nEpoch 808, loss=14441.046231846229\nEpoch 809, loss=12860.030385341366\nEpoch 810, loss=11696.000949026047\nEpoch 811, loss=11999.356583904246\nEpoch 812, loss=9672.228947219346\nEpoch 813, loss=12272.290129230112\nEpoch 814, loss=16622.636259393566\nEpoch 815, loss=15371.324373371264\nEpoch 816, loss=12691.14106045825\nEpoch 817, loss=9574.974871568284\nEpoch 818, loss=13149.11339910174\nEpoch 819, loss=9552.263819215439\nEpoch 820, loss=11074.662639719369\nEpoch 821, loss=13114.013542719798\nEpoch 822, loss=10895.176529302402\nEpoch 823, loss=14464.596711824417\nEpoch 824, loss=19220.941263465098\nEpoch 825, loss=10257.4545115498\nEpoch 826, loss=11571.667219817862\nEpoch 827, loss=11774.109156195002\nEpoch 828, loss=12480.530967526145\nEpoch 829, loss=16924.470283970513\nEpoch 830, loss=12711.729702073222\nEpoch 831, loss=8554.390725896976\nEpoch 832, loss=8609.073753957231\nEpoch 833, loss=13113.71380526883\nEpoch 834, loss=15852.127456316028\nEpoch 835, loss=10880.603240867335\nEpoch 836, loss=14227.736726651583\nEpoch 837, loss=10735.535339836604\nEpoch 838, loss=7393.34945078837\nEpoch 839, loss=11828.371499363939\nEpoch 840, loss=20017.006024782822\nEpoch 841, loss=13535.04603262258\nEpoch 842, loss=11817.418580395371\nEpoch 843, loss=18923.352930653626\nEpoch 844, loss=8065.325924044857\nEpoch 845, loss=7452.788936812513\nEpoch 846, loss=6441.0031780193285\nEpoch 847, loss=8458.55831372009\nEpoch 848, loss=8270.88450465274\nEpoch 849, loss=13929.724959583476\nEpoch 850, loss=14280.32731644526\nEpoch 851, loss=10986.875981500772\nEpoch 852, loss=5239.84107370785\nEpoch 853, loss=10072.003630306916\nEpoch 854, loss=5070.090592167388\nEpoch 855, loss=4633.0327019021215\nEpoch 856, loss=4809.381896097327\nEpoch 857, loss=9056.21282553356\nEpoch 858, loss=10418.008949827268\nEpoch 859, loss=6902.332179185765\nEpoch 860, loss=7195.716058230846\nEpoch 861, loss=5918.720088444794\nEpoch 862, loss=6541.209227537098\nEpoch 863, loss=9361.992741230335\nEpoch 864, loss=8157.118204048389\nEpoch 865, loss=6709.84825044653\nEpoch 866, loss=8365.544157875207\nEpoch 867, loss=8772.037807280978\nEpoch 868, loss=6231.9068626742355\nEpoch 869, loss=6414.41655794656\nEpoch 870, loss=9322.695619929076\nEpoch 871, loss=9341.287128280277\nEpoch 872, loss=7480.648293342088\nEpoch 873, loss=6006.415524264086\nEpoch 874, loss=7022.70031433458\nEpoch 875, loss=8899.216889090736\nEpoch 876, loss=12490.761784562834\nEpoch 877, loss=17701.024997080352\nEpoch 878, loss=17410.670753741964\nEpoch 879, loss=14771.607840148225\nEpoch 880, loss=11018.78714114403\nEpoch 881, loss=13169.618618861481\nEpoch 882, loss=12931.04274974362\nEpoch 883, loss=13309.705864131138\nEpoch 884, loss=10617.587698090096\nEpoch 885, loss=10560.406375965884\nEpoch 886, loss=12501.976342789341\nEpoch 887, loss=10263.702385379072\nEpoch 888, loss=9720.226995596086\nEpoch 889, loss=9568.557109074418\nEpoch 890, loss=7610.630589861135\nEpoch 891, loss=10446.812636892915\nEpoch 892, loss=6444.157049486665\nEpoch 893, loss=8324.361623946601\nEpoch 894, loss=9613.292949462539\nEpoch 895, loss=12332.26735118924\nEpoch 896, loss=9941.822290617802\nEpoch 897, loss=11860.154549734587\nEpoch 898, loss=6953.530437921295\nEpoch 899, loss=11808.251776869012\nEpoch 900, loss=15724.994275577492\nEpoch 901, loss=10790.895161293343\nEpoch 902, loss=10570.656819442322\nEpoch 903, loss=11863.609927574858\nEpoch 904, loss=12594.983665283184\nEpoch 905, loss=12923.8858253259\nEpoch 906, loss=13902.626416251838\nEpoch 907, loss=13580.114114957707\nEpoch 908, loss=14041.429493661264\nEpoch 909, loss=11517.27575782213\nEpoch 910, loss=13113.475143296719\nEpoch 911, loss=11575.843462719871\nEpoch 912, loss=15761.16867865074\nEpoch 913, loss=11059.929694430972\nEpoch 914, loss=13363.045605932404\nEpoch 915, loss=11018.274831855873\nEpoch 916, loss=10716.756626024046\nEpoch 917, loss=10966.866269636903\nEpoch 918, loss=13302.044996972718\nEpoch 919, loss=10358.687793978135\nEpoch 920, loss=10909.148187093127\nEpoch 921, loss=11361.654817956514\nEpoch 922, loss=10043.342870913342\nEpoch 923, loss=10880.150797951028\nEpoch 924, loss=8210.097793671734\nEpoch 925, loss=7774.675888595717\nEpoch 926, loss=9218.15156632877\nEpoch 927, loss=9961.68533620372\nEpoch 928, loss=9394.174262427832\nEpoch 929, loss=9305.97877140438\nEpoch 930, loss=7526.485587818091\nEpoch 931, loss=9612.3247121444\nEpoch 932, loss=8705.347670394587\nEpoch 933, loss=6699.710941444744\nEpoch 934, loss=7245.484841637101\nEpoch 935, loss=7155.166655310254\nEpoch 936, loss=9080.476319746936\nEpoch 937, loss=8722.259249654011\nEpoch 938, loss=8859.794919416947\nEpoch 939, loss=10381.970357721171\nEpoch 940, loss=10171.300389416585\nEpoch 941, loss=8925.540880100905\nEpoch 942, loss=11679.617114481216\nEpoch 943, loss=9250.201963536563\nEpoch 944, loss=7878.979966851768\nEpoch 945, loss=6503.67162759163\nEpoch 946, loss=11908.358523213548\nEpoch 947, loss=12041.452750227494\nEpoch 948, loss=6314.58316606584\nEpoch 949, loss=8214.023818235848\nEpoch 950, loss=5501.073822357109\nEpoch 951, loss=6508.425735690378\nEpoch 952, loss=7010.779899523929\nEpoch 953, loss=8016.3861977170955\nEpoch 954, loss=8806.609136744713\nEpoch 955, loss=7293.63853534303\nEpoch 956, loss=6078.080639092055\nEpoch 957, loss=17250.494502678204\nEpoch 958, loss=15509.447294392025\nEpoch 959, loss=5308.585058830306\nEpoch 960, loss=6926.145794692892\nEpoch 961, loss=9903.35883323159\nEpoch 962, loss=5744.589104649324\nEpoch 963, loss=13769.920715664115\nEpoch 964, loss=5435.299572556786\nEpoch 965, loss=9643.01635863704\nEpoch 966, loss=5410.788869635072\nEpoch 967, loss=6858.091232229695\nEpoch 968, loss=5086.595740365272\nEpoch 969, loss=6675.707796403621\nEpoch 970, loss=8583.40422968927\nEpoch 971, loss=5583.351032980395\nEpoch 972, loss=6982.4462613085725\nEpoch 973, loss=5102.288983790744\nEpoch 974, loss=3707.3702511164297\nEpoch 975, loss=5617.190289230911\nEpoch 976, loss=3640.1597425348054\nEpoch 977, loss=3017.4984104093664\nEpoch 978, loss=5683.110425895601\nEpoch 979, loss=13447.451154862845\nEpoch 980, loss=9722.121998272294\nEpoch 981, loss=7399.332865889554\nEpoch 982, loss=6309.889401895739\nEpoch 983, loss=5271.539607972918\nEpoch 984, loss=6672.558780822077\nEpoch 985, loss=6417.023018634438\nEpoch 986, loss=9257.128773814951\nEpoch 987, loss=9984.351845120074\nEpoch 988, loss=9726.804186230049\nEpoch 989, loss=5436.623992057878\nEpoch 990, loss=11782.481098944192\nEpoch 991, loss=7810.320065744433\nEpoch 992, loss=8538.315023417703\nEpoch 993, loss=12209.173810781986\nEpoch 994, loss=6494.276781954897\nEpoch 995, loss=8197.160087062563\nEpoch 996, loss=4601.424879250692\nEpoch 997, loss=10930.859310631575\nEpoch 998, loss=16455.88902200742\nEpoch 999, loss=5849.037348200288\n"
    }
   ],
   "source": [
    "for epoch in range(1000):\n",
    "    total_loss = 0\n",
    "    for patient in ALL_PATIENTS:\n",
    "        patient_loss = 0\n",
    "        model.zero_grad()\n",
    "\n",
    "        patient_data = train_df[train_df[\"Patient\"] == patient][['min_week', 'FVC', 'Age']].values\n",
    "        patient_data = torch.tensor(patient_data).float()\n",
    "\n",
    "        loss = 0\n",
    "        for i in range(patient_data.size()[0] - 1):\n",
    "            out = model(patient_data[i].view(1,1,-1))\n",
    "            loss += loss_function(out.view(3), patient_data[i+1])\n",
    "            patient_loss += loss.item()\n",
    "        # for data in patient_data:\n",
    "        #     out = model(data.view(1, 1, -1))\n",
    "        #     print(out)\n",
    "        loss.backward()\n",
    "        optimizer.step()\n",
    "        total_loss += patient_loss/patient_data.shape[0]\n",
    "    print(f\"Epoch {epoch}, loss={total_loss}\")"
   ]
  },
  {
   "cell_type": "code",
   "execution_count": 96,
   "metadata": {
    "tags": []
   },
   "outputs": [
    {
     "output_type": "execute_result",
     "data": {
      "text/plain": "tensor([-12])"
     },
     "metadata": {},
     "execution_count": 96
    }
   ],
   "source": [
    "sample_u = torch.tensor([[-12, 3020, 73]])\n",
    "sample = torch.tensor(min_max_scaler.transform(sample_u)).float()\n",
    "sample_u[:, 0]"
   ]
  },
  {
   "cell_type": "code",
   "execution_count": 97,
   "metadata": {
    "tags": []
   },
   "outputs": [
    {
     "output_type": "stream",
     "name": "stdout",
     "text": "[[ -14.31420559 2945.78741264   73.12457055]]\n[[ -12.         2945.78741264   73.        ]] \n\n[[ -14.38764644 2874.82694507   73.13517064]]\n[[ -11.         2874.82694507   73.        ]] \n\n[[ -13.16220379 2808.05978775   73.1353845 ]]\n[[ -10.         2808.05978775   73.        ]] \n\n[[ -11.92862207 2744.85890365   73.13483357]]\n[[  -9.         2744.85890365   73.        ]] \n\n[[ -10.68775672 2684.68925214   73.13386887]]\n[[  -8.         2684.68925214   73.        ]] \n\n[[  -9.44036448 2627.08802807   73.13275075]]\n[[  -7.         2627.08802807   73.        ]] \n\n[[  -8.1870088  2571.65270555   73.13167447]]\n[[  -6.         2571.65270555   73.        ]] \n\n[[  -6.92818731 2518.03074229   73.13079345]]\n[[  -5.         2518.03074229   73.        ]] \n\n[[  -5.66428661 2465.91077852   73.13021231]]\n[[  -4.         2465.91077852   73.        ]] \n\n[[  -4.39559871 2415.01715708   73.13001239]]\n[[  -3.         2415.01715708   73.        ]] \n\n[[  -3.12236214 2365.10494161   73.13024718]]\n[[-2.00000000e+00  2.36510494e+03  7.30000000e+01]] \n\n[[-1.84472084e+00  2.31595676e+03  7.31309469e+01]]\n[[-1.00000000e+00  2.31595676e+03  7.30000000e+01]] \n\n[[-5.62798202e-01  2.26737999e+03  7.31321324e+01]]\n[[   0.         2267.37998879   73.        ]] \n\n[[7.23339975e-01 2.21920458e+03 7.31338038e+01]]\n[[1.00000000e+00 2.21920458e+03 7.30000000e+01]] \n\n[[2.01366079e+00 2.17128224e+03 7.31359563e+01]]\n[[2.00000000e+00 2.17128224e+03 7.30000000e+01]] \n\n[[   3.30812722 2123.48528183   73.13857847]]\n[[   3.         2123.48528183   73.        ]] \n\n[[   4.60675985 2075.70567316   73.14164692]]\n[[   4.         2075.70567316   73.        ]] \n\n[[   5.90952575 2027.85416114   73.14513844]]\n[[   5.         2027.85416114   73.        ]] \n\n[[   7.21644756 1979.86116725   73.14902514]]\n[[   6.         1979.86116725   73.        ]] \n\n[[   8.52749237 1931.67446607   73.15327913]]\n[[   7.         1931.67446607   73.        ]] \n\n[[   9.84264579 1883.25993258   73.15786552]]\n[[   8.         1883.25993258   73.        ]] \n\n[[  11.16186669 1834.59963244   73.16275412]]\n[[   9.         1834.59963244   73.        ]] \n\n[[  12.48511395 1785.69115782   73.16791469]]\n[[  10.         1785.69115782   73.        ]] \n\n[[  13.81234232 1736.54604977   73.17331469]]\n[[  11.         1736.54604977   73.        ]] \n\n[[  15.14349011 1687.18805468   73.17892623]]\n[[  12.         1687.18805468   73.        ]] \n\n[[  16.47851825 1637.65063334   73.18471444]]\n[[  13.         1637.65063334   73.        ]] \n\n[[  17.8173959  1587.97413796   73.19065142]]\n[[  14.         1587.97413796   73.        ]] \n\n[[  19.16011688 1538.20365345   73.19671392]]\n[[  15.         1538.20365345   73.        ]] \n\n[[  20.50671616 1488.38501197   73.20286942]]\n[[  16.         1488.38501197   73.        ]] \n\n[[  21.85728627 1438.56172085   73.20909697]]\n[[  17.         1438.56172085   73.        ]] \n\n[[  23.21196294 1388.77189052   73.21537334]]\n[[  18.         1388.77189052   73.        ]] \n\n[[  24.5709703  1339.04316974   73.22167993]]\n[[  19.         1339.04316974   73.        ]] \n\n[[  25.93462914 1289.39050376   73.22800046]]\n[[  20.         1289.39050376   73.        ]] \n\n[[  27.30337954 1239.8118999    73.23432797]]\n[[  21.        1239.8118999   73.       ]] \n\n[[  28.67778698 1190.28410995   73.24066246]]\n[[  22.         1190.28410995   73.        ]] \n\n[[  30.0586226  1140.75864482   73.24701554]]\n[[  23.         1140.75864482   73.        ]] \n\n[[  31.44687963 1091.15695882   73.25341046]]\n[[  24.         1091.15695882   73.        ]] \n\n[[  32.84386384 1041.36513579   73.25988907]]\n[[  25.         1041.36513579   73.        ]] \n\n[[ 34.25129437 991.2270807   73.26651877]]\n[[ 26.        991.2270807  73.       ]] \n\n[[ 35.6714291  940.53522038  73.27338791]]\n[[ 27.         940.53522038  73.        ]] \n\n[[ 37.10729086 889.0185473   73.2806313 ]]\n[[ 28.        889.0185473  73.       ]] \n\n[[ 38.56292248 836.32601368  73.28842795]]\n[[ 29.         836.32601368  73.        ]] \n\n[[ 40.04384321 782.00344944  73.29703122]]\n[[ 30.         782.00344944  73.        ]] \n\n[[ 41.55768627 725.45885587  73.30678284]]\n[[ 31.         725.45885587  73.        ]] \n\n[[ 43.11518997 665.90993118  73.31816864]]\n[[ 32.         665.90993118  73.        ]] \n\n[[ 44.73181403 602.30635512  73.33187205]]\n[[ 33.         602.30635512  73.        ]] \n\n[[ 46.43048686 533.20541108  73.3488996 ]]\n[[ 34.         533.20541108  73.        ]] \n\n[[ 48.24635988 456.5654093   73.37075996]]\n[[ 35.        456.5654093  73.       ]] \n\n[[ 50.23570335 369.39663184  73.39983815]]\n[[ 36.         369.39663184  73.        ]] \n\n[[ 52.49344707 267.12150896  73.44006038]]\n[[ 37.         267.12150896  73.        ]] \n\n[[ 55.19056094 142.33980787  73.4983725 ]]\n[[ 38.         142.33980787  73.        ]] \n\n[[ 58.6614297  -17.77765608  73.58801532]]\n[[ 39.         -17.77765608  73.        ]] \n\n[[  63.63240504 -237.60960507   73.73701167]]\n[[  40.         -237.60960507   73.        ]] \n\n[[  71.90776622 -569.67553973   74.01271862]]\n[[  41.         -569.67553973   73.        ]] \n\n[[   88.75995922 -1149.41147709    74.60277402]]\n[[   42.         -1149.41147709    73.        ]] \n\n[[  131.60629773 -2434.52623248    76.05585808]]\n[[   43.         -2434.52623248    73.        ]] \n\n[[  234.56215191 -6710.49943829    78.5584231 ]]\n[[   44.         -6710.49943829    73.        ]] \n\n[[   315.43356895 -31391.23960304     72.23388636]]\n[[    45.         -31391.23960304     73.        ]] \n\n[[-9.60362689e+01 -2.11149145e+05 -1.00504699e+03]]\n[[ 4.60000000e+01 -2.11149145e+05  7.30000000e+01]] \n\n[[ 1.92733349e+03 -2.18720946e+05 -1.20893650e+02]]\n[[ 4.70000000e+01 -2.18720946e+05  7.30000000e+01]] \n\n[[ 1.93890044e+03 -2.19039545e+05 -1.19118209e+02]]\n[[ 4.80000000e+01 -2.19039545e+05  7.30000000e+01]] \n\n[[ 1.93828333e+03 -2.19026452e+05 -1.19220825e+02]]\n[[ 4.90000000e+01 -2.19026452e+05  7.30000000e+01]] \n\n[[ 1.93710821e+03 -2.18997969e+05 -1.19410809e+02]]\n[[ 5.00000000e+01 -2.18997969e+05  7.30000000e+01]] \n\n[[ 1.93590861e+03 -2.18968892e+05 -1.19603470e+02]]\n[[ 5.10000000e+01 -2.18968892e+05  7.30000000e+01]] \n\n[[ 1.93470915e+03 -2.18939878e+05 -1.19795071e+02]]\n[[ 5.20000000e+01 -2.18939878e+05  7.30000000e+01]] \n\n[[ 1.93351126e+03 -2.18910992e+05 -1.19985371e+02]]\n[[ 5.30000000e+01 -2.18910992e+05  7.30000000e+01]] \n\n[[ 1.93231535e+03 -2.18882212e+05 -1.20174182e+02]]\n[[ 5.40000000e+01 -2.18882212e+05  7.30000000e+01]] \n\n[[ 1.93112220e+03 -2.18853602e+05 -1.20361637e+02]]\n[[ 5.50000000e+01 -2.18853602e+05  7.30000000e+01]] \n\n[[ 1.92993128e+03 -2.18825098e+05 -1.20547808e+02]]\n[[ 5.60000000e+01 -2.18825098e+05  7.30000000e+01]] \n\n[[ 1.92874274e+03 -2.18796765e+05 -1.20732510e+02]]\n[[ 5.70000000e+01 -2.18796765e+05  7.30000000e+01]] \n\n[[ 1.92755775e+03 -2.18768516e+05 -1.20915668e+02]]\n[[ 5.80000000e+01 -2.18768516e+05  7.30000000e+01]] \n\n[[ 1.92637605e+03 -2.18740480e+05 -1.21097636e+02]]\n[[ 5.9000000e+01 -2.1874048e+05  7.3000000e+01]] \n\n[[ 1.92519764e+03 -2.18712593e+05 -1.21278098e+02]]\n[[ 6.00000000e+01 -2.18712593e+05  7.30000000e+01]] \n\n[[ 1.92402305e+03 -2.18684812e+05 -1.21457072e+02]]\n[[ 6.10000000e+01 -2.18684812e+05  7.30000000e+01]] \n\n[[ 1.92285267e+03 -2.18657265e+05 -1.21634614e+02]]\n[[ 6.20000000e+01 -2.18657265e+05  7.30000000e+01]] \n\n[[ 1.92168676e+03 -2.18629867e+05 -1.21810688e+02]]\n[[ 6.30000000e+01 -2.18629867e+05  7.30000000e+01]] \n\n[[ 1.92052533e+03 -2.18602638e+05 -1.21985329e+02]]\n[[ 6.40000000e+01 -2.18602638e+05  7.30000000e+01]] \n\n[[ 1.91936824e+03 -2.18575601e+05 -1.22158556e+02]]\n[[ 6.50000000e+01 -2.18575601e+05  7.30000000e+01]] \n\n[[ 1.91821668e+03 -2.18548798e+05 -1.22330297e+02]]\n[[ 6.60000000e+01 -2.18548798e+05  7.30000000e+01]] \n\n[[ 1.91707025e+03 -2.18522122e+05 -1.22500493e+02]]\n[[ 6.70000000e+01 -2.18522122e+05  7.30000000e+01]] \n\n[[ 1.91592974e+03 -2.18495702e+05 -1.22669313e+02]]\n[[ 6.80000000e+01 -2.18495702e+05  7.30000000e+01]] \n\n[[ 1.91479450e+03 -2.18469451e+05 -1.22836386e+02]]\n[[ 6.90000000e+01 -2.18469451e+05  7.30000000e+01]] \n\n[[ 1.91366584e+03 -2.18443435e+05 -1.23002379e+02]]\n[[ 7.00000000e+01 -2.18443435e+05  7.30000000e+01]] \n\n[[ 1.91254323e+03 -2.18417609e+05 -1.23166551e+02]]\n[[ 7.10000000e+01 -2.18417609e+05  7.30000000e+01]] \n\n[[ 1.91142694e+03 -2.18392039e+05 -1.23329346e+02]]\n[[ 7.20000000e+01 -2.18392039e+05  7.30000000e+01]] \n\n[[ 1.91031788e+03 -2.18366681e+05 -1.23490504e+02]]\n[[ 7.30000000e+01 -2.18366681e+05  7.30000000e+01]] \n\n[[ 1.90921541e+03 -2.18341536e+05 -1.23650342e+02]]\n[[ 7.40000000e+01 -2.18341536e+05  7.30000000e+01]] \n\n[[ 1.90812018e+03 -2.18316603e+05 -1.23808656e+02]]\n[[ 7.50000000e+01 -2.18316603e+05  7.30000000e+01]] \n\n[[ 1.90703231e+03 -2.18291926e+05 -1.23965351e+02]]\n[[ 7.60000000e+01 -2.18291926e+05  7.30000000e+01]] \n\n[[ 1.90595261e+03 -2.18267503e+05 -1.24120670e+02]]\n[[ 7.70000000e+01 -2.18267503e+05  7.30000000e+01]] \n\n[[ 1.90488054e+03 -2.18243314e+05 -1.24274427e+02]]\n[[ 7.80000000e+01 -2.18243314e+05  7.30000000e+01]] \n\n[[ 1.90381636e+03 -2.18219402e+05 -1.24426715e+02]]\n[[ 7.90000000e+01 -2.18219402e+05  7.30000000e+01]] \n\n[[ 1.90276048e+03 -2.18195681e+05 -1.24577348e+02]]\n[[ 8.00000000e+01 -2.18195681e+05  7.30000000e+01]] \n\n[[ 1.90171328e+03 -2.18172278e+05 -1.24726642e+02]]\n[[ 8.10000000e+01 -2.18172278e+05  7.30000000e+01]] \n\n[[ 1.90067438e+03 -2.18149131e+05 -1.24874448e+02]]\n[[ 8.20000000e+01 -2.18149131e+05  7.30000000e+01]] \n\n[[ 1.89964468e+03 -2.18126196e+05 -1.25020674e+02]]\n[[ 8.30000000e+01 -2.18126196e+05  7.30000000e+01]] \n\n[[ 1.89862407e+03 -2.18103559e+05 -1.25165393e+02]]\n[[ 8.40000000e+01 -2.18103559e+05  7.30000000e+01]] \n\n[[ 1.89761267e+03 -2.18081177e+05 -1.25308643e+02]]\n[[ 8.50000000e+01 -2.18081177e+05  7.30000000e+01]] \n\n[[ 1.89661022e+03 -2.18059114e+05 -1.25450387e+02]]\n[[ 8.60000000e+01 -2.18059114e+05  7.30000000e+01]] \n\n[[ 1.89561777e+03 -2.18037285e+05 -1.25590642e+02]]\n[[ 8.70000000e+01 -2.18037285e+05  7.30000000e+01]] \n\n[[ 1.89463519e+03 -2.18015795e+05 -1.25729504e+02]]\n[[ 8.80000000e+01 -2.18015795e+05  7.30000000e+01]] \n\n[[ 1.89366222e+03 -2.17994561e+05 -1.25866914e+02]]\n[[ 8.90000000e+01 -2.17994561e+05  7.30000000e+01]] \n\n[[ 1.89269925e+03 -2.17973561e+05 -1.26002726e+02]]\n[[ 9.00000000e+01 -2.17973561e+05  7.30000000e+01]] \n\n[[ 1.89174642e+03 -2.17952879e+05 -1.26137217e+02]]\n[[ 9.10000000e+01 -2.17952879e+05  7.30000000e+01]] \n\n[[ 1.89080385e+03 -2.17932495e+05 -1.26270220e+02]]\n[[ 9.20000000e+01 -2.17932495e+05  7.30000000e+01]] \n\n[[ 1.88987220e+03 -2.17912366e+05 -1.26401735e+02]]\n[[ 9.30000000e+01 -2.17912366e+05  7.30000000e+01]] \n\n[[ 1.88895043e+03 -2.17892599e+05 -1.26531800e+02]]\n[[ 9.40000000e+01 -2.17892599e+05  7.30000000e+01]] \n\n[[ 1.88803971e+03 -2.17873086e+05 -1.26660470e+02]]\n[[ 9.50000000e+01 -2.17873086e+05  7.30000000e+01]] \n\n[[ 1.88713978e+03 -2.17853892e+05 -1.26787709e+02]]\n[[ 9.60000000e+01 -2.17853892e+05  7.30000000e+01]] \n\n[[ 1.88625051e+03 -2.17834996e+05 -1.26913589e+02]]\n[[ 9.70000000e+01 -2.17834996e+05  7.30000000e+01]] \n\n[[ 1.88537243e+03 -2.17816355e+05 -1.27037945e+02]]\n[[ 9.80000000e+01 -2.17816355e+05  7.30000000e+01]] \n\n[[ 1.88450540e+03 -2.17798033e+05 -1.27161036e+02]]\n[[ 9.90000000e+01 -2.17798033e+05  7.30000000e+01]] \n\n[[ 1.88364943e+03 -2.17780029e+05 -1.27282696e+02]]\n[[ 1.00000000e+02 -2.17780029e+05  7.30000000e+01]] \n\n[[ 1.88280477e+03 -2.17762345e+05 -1.27402867e+02]]\n[[ 1.01000000e+02 -2.17762345e+05  7.30000000e+01]] \n\n[[ 1.88197104e+03 -2.17744937e+05 -1.27522053e+02]]\n[[ 1.02000000e+02 -2.17744937e+05  7.30000000e+01]] \n\n[[ 1.88114915e+03 -2.17727826e+05 -1.27639472e+02]]\n[[ 1.03000000e+02 -2.17727826e+05  7.30000000e+01]] \n\n[[ 1.88033819e+03 -2.17711013e+05 -1.27755776e+02]]\n[[ 1.04000000e+02 -2.17711013e+05  7.30000000e+01]] \n\n[[ 1.87953934e+03 -2.17694519e+05 -1.27870796e+02]]\n[[ 1.05000000e+02 -2.17694519e+05  7.30000000e+01]] \n\n[[ 1.87875154e+03 -2.17678364e+05 -1.27984459e+02]]\n[[ 1.06000000e+02 -2.17678364e+05  7.30000000e+01]] \n\n[[ 1.87797532e+03 -2.17662465e+05 -1.28096671e+02]]\n[[ 1.07000000e+02 -2.17662465e+05  7.30000000e+01]] \n\n"
    }
   ],
   "source": [
    "with torch.no_grad():\n",
    "    for i in range(120):\n",
    "        out = model(sample.view(1,1,-1))\n",
    "        out = min_max_scaler.inverse_transform(out.squeeze(dim=0))\n",
    "        print(out)\n",
    "        prev_zero = sample_u[:,0]\n",
    "        prev_three = sample_u[:,2]\n",
    "        out[:, 0] = prev_zero + i\n",
    "        out[:, 2] = prev_three\n",
    "        print(out, \"\\n\")\n",
    "        sample = torch.tensor(min_max_scaler.transform(out)).float()"
   ]
  },
  {
   "cell_type": "code",
   "execution_count": null,
   "metadata": {
    "tags": []
   },
   "outputs": [],
   "source": [
    "for i in range(5):\n",
    "    print(sample)\n",
    "    out = model(sample.view(1, 1, -1))\n",
    "    print(out)\n",
    "    sample = out"
   ]
  },
  {
   "cell_type": "code",
   "execution_count": null,
   "metadata": {
    "tags": []
   },
   "outputs": [],
   "source": [
    "with torch.no_grad():\n",
    "    input = torch.randn(2, 5, 4)\n",
    "    print(input)\n",
    "    print()\n",
    "    out = model(input)\n",
    "    print(out)\n",
    "    print(out.shape)"
   ]
  },
  {
   "cell_type": "code",
   "execution_count": null,
   "metadata": {},
   "outputs": [],
   "source": []
  }
 ]
}